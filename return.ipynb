{
 "cells": [
  {
   "cell_type": "code",
   "execution_count": null,
   "id": "93a135a3",
   "metadata": {},
   "outputs": [],
   "source": [
    "#function is calculating area value\n",
    "#but not providing that value to you\n",
    "#when you want to use that value outside the function=========> error"
   ]
  },
  {
   "cell_type": "markdown",
   "id": "84f0a560",
   "metadata": {},
   "source": [
    "**return concept**"
   ]
  },
  {
   "cell_type": "code",
   "execution_count": 3,
   "id": "761712df",
   "metadata": {},
   "outputs": [],
   "source": [
    "import math\n",
    "def area_of_circle():\n",
    "    pii=math.pi\n",
    "    r=eval(input('enter the radius'))\n",
    "    area11=round(pii*r*r,2)\n",
    "    print('the area of circle is:',area11)\n",
    "    return(area11,pii)"
   ]
  },
  {
   "cell_type": "code",
   "execution_count": 4,
   "id": "dfcfed6c",
   "metadata": {},
   "outputs": [
    {
     "name": "stdout",
     "output_type": "stream",
     "text": [
      "enter the radius30\n",
      "the area of circle is: 2827.43\n"
     ]
    }
   ],
   "source": [
    "Area,pi=area_of_circle()"
   ]
  },
  {
   "cell_type": "code",
   "execution_count": 8,
   "id": "6c64eaef",
   "metadata": {},
   "outputs": [
    {
     "name": "stdout",
     "output_type": "stream",
     "text": [
      "enter the radius4\n",
      "the area of circle is: 50.27\n",
      "50.27\n",
      "3.141592653589793\n"
     ]
    }
   ],
   "source": [
    "import math\n",
    "def area_of_circle():\n",
    "    pii=math.pi\n",
    "    r=eval(input('enter the radius'))\n",
    "    area11=round(pii*r*r,2)\n",
    "    print('the area of circle is:',area11)\n",
    "    return(area11,pii)\n",
    "\n",
    "Area,pi=area_of_circle()\n",
    "print(Area)\n",
    "print(pi)"
   ]
  },
  {
   "cell_type": "code",
   "execution_count": null,
   "id": "6a60dee1",
   "metadata": {},
   "outputs": [],
   "source": [
    "#ask the user enter 3 nos\n",
    "#find the sum and average\n",
    "#return the average and sum value"
   ]
  },
  {
   "cell_type": "code",
   "execution_count": 6,
   "id": "b5645b4f",
   "metadata": {},
   "outputs": [
    {
     "name": "stdout",
     "output_type": "stream",
     "text": [
      "enter first number2\n",
      "enter second number3\n",
      "enter third number4\n",
      "the sum of the numbers are: 9\n",
      "the average of the numbers are: 6.333333333333333\n"
     ]
    }
   ],
   "source": [
    "num1=eval(input('enter first number'))\n",
    "num2=eval(input('enter second number'))\n",
    "num3=eval(input('enter third number'))\n",
    "sum=num1+num2+num3\n",
    "average=num1+num2+num3/3\n",
    "print('the sum of the numbers are:',sum)\n",
    "print('the average of the numbers are:',average)\n"
   ]
  },
  {
   "cell_type": "code",
   "execution_count": 7,
   "id": "ccc5a260",
   "metadata": {},
   "outputs": [
    {
     "name": "stdout",
     "output_type": "stream",
     "text": [
      "enter first number3\n",
      "enter second number4\n",
      "enter third number5\n",
      "the sum of the numbers are: 12\n",
      "the average of the numbers are: 8.666666666666666\n"
     ]
    }
   ],
   "source": [
    "def sum_average():\n",
    "    num1=eval(input('enter first number'))\n",
    "    num2=eval(input('enter second number'))\n",
    "    num3=eval(input('enter third number'))\n",
    "    sum=num1+num2+num3\n",
    "    average=num1+num2+num3/3\n",
    "    print('the sum of the numbers are:',sum)\n",
    "    print('the average of the numbers are:',average)\n",
    "    \n",
    "sum_average()\n",
    "\n",
    "    "
   ]
  },
  {
   "cell_type": "code",
   "execution_count": 14,
   "id": "62967ee5",
   "metadata": {},
   "outputs": [
    {
     "name": "stdout",
     "output_type": "stream",
     "text": [
      "sum: 9\n",
      "avg: 20.0\n"
     ]
    }
   ],
   "source": [
    "def sum_avg(n1,n2,n3):\n",
    "    summ=n1+n2+n3\n",
    "    avg=summ/3\n",
    "    print('sum:',sum)\n",
    "    print('avg:',avg)\n",
    "    return(summ,avg)\n",
    "    \n",
    "addition,average=sum_avg(10,20,30)\n"
   ]
  },
  {
   "cell_type": "code",
   "execution_count": 16,
   "id": "db91c91a",
   "metadata": {},
   "outputs": [
    {
     "name": "stdout",
     "output_type": "stream",
     "text": [
      "addition is: 60 average is: 20.0\n"
     ]
    }
   ],
   "source": [
    "print('addition is:',addition,'average is:',average)"
   ]
  },
  {
   "cell_type": "code",
   "execution_count": null,
   "id": "d535f6bd",
   "metadata": {},
   "outputs": [],
   "source": [
    "#find biggest number of 3nos\n",
    "#take three numbers\n",
    "#and find the biggest number\n",
    "#and return that number"
   ]
  },
  {
   "cell_type": "code",
   "execution_count": null,
   "id": "8b83d990",
   "metadata": {},
   "outputs": [],
   "source": [
    "n1=eval(input('en1,n2,n3'))\n",
    "if n1>n2 and n1>n3:\n",
    "    print('n1 is greater')\n",
    "elif nu2>n3:\n",
    "    print('n2 is greater')\n",
    "else:\n",
    "    print('n3 is greater')"
   ]
  },
  {
   "cell_type": "code",
   "execution_count": null,
   "id": "0a613b89",
   "metadata": {},
   "outputs": [],
   "source": []
  }
 ],
 "metadata": {
  "kernelspec": {
   "display_name": "Python 3 (ipykernel)",
   "language": "python",
   "name": "python3"
  },
  "language_info": {
   "codemirror_mode": {
    "name": "ipython",
    "version": 3
   },
   "file_extension": ".py",
   "mimetype": "text/x-python",
   "name": "python",
   "nbconvert_exporter": "python",
   "pygments_lexer": "ipython3",
   "version": "3.11.5"
  }
 },
 "nbformat": 4,
 "nbformat_minor": 5
}
