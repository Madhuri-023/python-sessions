{
 "cells": [
  {
   "cell_type": "markdown",
   "id": "dd909988",
   "metadata": {},
   "source": [
    "- lambda function is nothing but create a function\n",
    "- one argument\n",
    "- multiple arguments\n",
    "- if else conditions same like list comprehension\n",
    "- elif"
   ]
  },
  {
   "cell_type": "code",
   "execution_count": 7,
   "id": "1d49c5f7",
   "metadata": {},
   "outputs": [
    {
     "name": "stdout",
     "output_type": "stream",
     "text": [
      "['Hyd', 'Mumbai', 'Chennai']\n"
     ]
    }
   ],
   "source": [
    "list1=['hyd','mumbai','chennai']\n",
    "#output: ['Hyd','Mumbai','Chennai']\n",
    "#M-1: use append and list com\n",
    "\n",
    "\n",
    "\n",
    "list2=[]\n",
    "for i in list1:\n",
    "    list2.append(i.capitalize())\n",
    "print(list2)"
   ]
  },
  {
   "cell_type": "code",
   "execution_count": 8,
   "id": "c919de4b",
   "metadata": {},
   "outputs": [
    {
     "data": {
      "text/plain": [
       "['Hyd', 'Mumbai', 'Chennai']"
      ]
     },
     "execution_count": 8,
     "metadata": {},
     "output_type": "execute_result"
    }
   ],
   "source": [
    "# method-2\n",
    "\n",
    "[i.capitalize() for i in list1]\n"
   ]
  },
  {
   "cell_type": "code",
   "execution_count": null,
   "id": "025fd5d6",
   "metadata": {},
   "outputs": [],
   "source": [
    "lamda <arguments>: <output>"
   ]
  },
  {
   "cell_type": "code",
   "execution_count": null,
   "id": "8576de4b",
   "metadata": {},
   "outputs": [],
   "source": [
    "#whenever we use iterations \n",
    "#iterator : something can be iterable/you can print using for loop\n",
    "#list string tuple dictionary"
   ]
  },
  {
   "cell_type": "code",
   "execution_count": null,
   "id": "81640547",
   "metadata": {},
   "outputs": [],
   "source": [
    "lambda <arguments>: <output>,<iterator>\n",
    "[i.captilize() for i in list1]         #using list comprehension"
   ]
  },
  {
   "cell_type": "code",
   "execution_count": 9,
   "id": "eadf9606",
   "metadata": {},
   "outputs": [
    {
     "data": {
      "text/plain": [
       "(<function __main__.<lambda>(i)>, ['hyd', 'mumbai', 'chennai'])"
      ]
     },
     "execution_count": 9,
     "metadata": {},
     "output_type": "execute_result"
    }
   ],
   "source": [
    "list1=['hyd','mumbai','chennai']\n",
    "lambda i:i.capitalize(),list1    #using lambda function"
   ]
  },
  {
   "cell_type": "code",
   "execution_count": null,
   "id": "c004128b",
   "metadata": {},
   "outputs": [],
   "source": [
    "lamda <arg>:<output>"
   ]
  },
  {
   "cell_type": "code",
   "execution_count": null,
   "id": "8fd291e5",
   "metadata": {},
   "outputs": [],
   "source": [
    "- next we need to map the input and output"
   ]
  },
  {
   "cell_type": "code",
   "execution_count": 10,
   "id": "55de1ee6",
   "metadata": {},
   "outputs": [
    {
     "data": {
      "text/plain": [
       "<map at 0x1d6c10d1f00>"
      ]
     },
     "execution_count": 10,
     "metadata": {},
     "output_type": "execute_result"
    }
   ],
   "source": [
    "list1=['hyd','mumbai','chennai']\n",
    "map(lambda i:i.capitalize(),list1)"
   ]
  },
  {
   "cell_type": "code",
   "execution_count": null,
   "id": "0cf9a565",
   "metadata": {},
   "outputs": [],
   "source": [
    "- store the output"
   ]
  },
  {
   "cell_type": "code",
   "execution_count": 11,
   "id": "f0502edc",
   "metadata": {},
   "outputs": [
    {
     "data": {
      "text/plain": [
       "['Hyd', 'Mumbai', 'Chennai']"
      ]
     },
     "execution_count": 11,
     "metadata": {},
     "output_type": "execute_result"
    }
   ],
   "source": [
    "list(map(lambda i:i.capitalize(),list1))"
   ]
  },
  {
   "cell_type": "markdown",
   "id": "32cc9c4f",
   "metadata": {},
   "source": [
    "steps:\n",
    "- make a lambda function\n",
    "- add your iterator\n",
    "- map both function and iterator\n",
    "- save the result in the list\n"
   ]
  },
  {
   "cell_type": "code",
   "execution_count": 12,
   "id": "05fcee36",
   "metadata": {},
   "outputs": [
    {
     "data": {
      "text/plain": [
       "['Hyd', 'Mumbai', 'Chennai']"
      ]
     },
     "execution_count": 12,
     "metadata": {},
     "output_type": "execute_result"
    }
   ],
   "source": [
    "list1=['hyd','mumbai','chennai']\n",
    "lambda i:i.capitalize(),list1\n",
    "map(lambda i:i.capitalize(),list1)\n",
    "list(map(lambda i:i.capitalize(),list1))"
   ]
  },
  {
   "cell_type": "code",
   "execution_count": 18,
   "id": "cb892548",
   "metadata": {},
   "outputs": [
    {
     "name": "stdout",
     "output_type": "stream",
     "text": [
      "1\n",
      "4\n",
      "9\n",
      "16\n",
      "25\n"
     ]
    }
   ],
   "source": [
    "list1=[1,2,3,4,5]\n",
    "#[1,4,9,16,25]\n",
    "\n",
    "list(map(lambda i:i*i,list1))\n",
    "\n",
    "for i in map(lambda i:i*i,list1):\n",
    "    print(i)\n",
    "\n",
    "\n"
   ]
  },
  {
   "cell_type": "code",
   "execution_count": 19,
   "id": "9ff3c9b0",
   "metadata": {},
   "outputs": [
    {
     "name": "stdout",
     "output_type": "stream",
     "text": [
      "12\n",
      "24\n",
      "36\n"
     ]
    }
   ],
   "source": [
    "list1=[1,2,3]\n",
    "list2=[11,22,33]\n",
    "#[12,24,36]\n",
    "\n",
    "for i,j in zip(list1,list2):\n",
    "    print(i+j)"
   ]
  },
  {
   "cell_type": "code",
   "execution_count": 21,
   "id": "7a4d9cc7",
   "metadata": {},
   "outputs": [
    {
     "data": {
      "text/plain": [
       "<map at 0x1d6c0f3fdc0>"
      ]
     },
     "execution_count": 21,
     "metadata": {},
     "output_type": "execute_result"
    }
   ],
   "source": [
    "(map(lambda i,j:i+j, list1,list2))"
   ]
  },
  {
   "cell_type": "code",
   "execution_count": 22,
   "id": "6a9e3154",
   "metadata": {},
   "outputs": [
    {
     "data": {
      "text/plain": [
       "['h#d', 'mum#bai']"
      ]
     },
     "execution_count": 22,
     "metadata": {},
     "output_type": "execute_result"
    }
   ],
   "source": [
    "list1=['h#d','mum#bai','chennai']\n",
    "#['h#d','mum#bai']\n",
    "\n",
    "\n",
    "\n",
    "[i for i in list1 if '#' in i]"
   ]
  },
  {
   "cell_type": "code",
   "execution_count": 24,
   "id": "0cd58ce5",
   "metadata": {},
   "outputs": [
    {
     "data": {
      "text/plain": [
       "(<function __main__.<lambda>(i)>, ['h#d', 'mum#bai', 'chennai'])"
      ]
     },
     "execution_count": 24,
     "metadata": {},
     "output_type": "execute_result"
    }
   ],
   "source": [
    "lambda i: '#' in i,list1"
   ]
  },
  {
   "cell_type": "code",
   "execution_count": 28,
   "id": "f8a1561e",
   "metadata": {},
   "outputs": [
    {
     "data": {
      "text/plain": [
       "['h#d', 'mum#bai']"
      ]
     },
     "execution_count": 28,
     "metadata": {},
     "output_type": "execute_result"
    }
   ],
   "source": [
    "list(filter(lambda i: '#' in i,list1))"
   ]
  },
  {
   "cell_type": "code",
   "execution_count": null,
   "id": "d4c4dc59",
   "metadata": {},
   "outputs": [],
   "source": []
  },
  {
   "cell_type": "code",
   "execution_count": null,
   "id": "09b59c11",
   "metadata": {},
   "outputs": [],
   "source": []
  },
  {
   "cell_type": "code",
   "execution_count": null,
   "id": "8649c67c",
   "metadata": {},
   "outputs": [],
   "source": []
  },
  {
   "cell_type": "code",
   "execution_count": null,
   "id": "1e373d7c",
   "metadata": {},
   "outputs": [],
   "source": []
  },
  {
   "cell_type": "code",
   "execution_count": null,
   "id": "b0c13970",
   "metadata": {},
   "outputs": [],
   "source": []
  }
 ],
 "metadata": {
  "kernelspec": {
   "display_name": "Python 3 (ipykernel)",
   "language": "python",
   "name": "python3"
  },
  "language_info": {
   "codemirror_mode": {
    "name": "ipython",
    "version": 3
   },
   "file_extension": ".py",
   "mimetype": "text/x-python",
   "name": "python",
   "nbconvert_exporter": "python",
   "pygments_lexer": "ipython3",
   "version": "3.11.5"
  }
 },
 "nbformat": 4,
 "nbformat_minor": 5
}
