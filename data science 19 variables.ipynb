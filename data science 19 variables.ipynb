{
 "cells": [
  {
   "cell_type": "markdown",
   "id": "87ea4df9",
   "metadata": {},
   "source": [
    "#### variables:\n",
    "\n"
   ]
  },
  {
   "cell_type": "code",
   "execution_count": null,
   "id": "bc39ccca",
   "metadata": {},
   "outputs": [],
   "source": [
    "- variable term vary\n",
    "- you want to save some value at some place, that place is called variables\n",
    "- variables and constant\n"
   ]
  },
  {
   "cell_type": "code",
   "execution_count": null,
   "id": "70635644",
   "metadata": {},
   "outputs": [],
   "source": [
    "number=100 #100 value is stored in variable called number\n",
    "number #so here number is a variable"
   ]
  },
  {
   "cell_type": "code",
   "execution_count": 2,
   "id": "9b7cc82b",
   "metadata": {},
   "outputs": [
    {
     "data": {
      "text/plain": [
       "200"
      ]
     },
     "execution_count": 2,
     "metadata": {},
     "output_type": "execute_result"
    }
   ],
   "source": [
    "number=200\n",
    "number"
   ]
  },
  {
   "cell_type": "code",
   "execution_count": null,
   "id": "8c66abfe",
   "metadata": {},
   "outputs": [],
   "source": [
    "#so here first number has 100 \n",
    "#second number has 200\n",
    "#number is changing its value\n",
    "#thats why we are caklling number as variable"
   ]
  },
  {
   "cell_type": "code",
   "execution_count": 6,
   "id": "8a5c1899",
   "metadata": {},
   "outputs": [
    {
     "ename": "SyntaxError",
     "evalue": "invalid syntax (813051408.py, line 1)",
     "output_type": "error",
     "traceback": [
      "\u001b[1;36m  Cell \u001b[1;32mIn[6], line 1\u001b[1;36m\u001b[0m\n\u001b[1;33m    **  rules to define variables\u001b[0m\n\u001b[1;37m    ^\u001b[0m\n\u001b[1;31mSyntaxError\u001b[0m\u001b[1;31m:\u001b[0m invalid syntax\n"
     ]
    }
   ],
   "source": [
    "**  rules to define variable\n",
    "#upper case\n",
    "NUMBER=300\n",
    "NUMBER"
   ]
  },
  {
   "cell_type": "markdown",
   "id": "6f9eae05",
   "metadata": {},
   "source": [
    "#lower case\n",
    "** note:**\n",
    "sum is a math operation and it will run the code without fail and dont use sum as variable\n",
    "_ is the special case(underscore)\n",
    "#spaces will not allowed\n"
   ]
  },
  {
   "cell_type": "code",
   "execution_count": 7,
   "id": "459297be",
   "metadata": {},
   "outputs": [
    {
     "data": {
      "text/plain": [
       "700"
      ]
     },
     "execution_count": 7,
     "metadata": {},
     "output_type": "execute_result"
    }
   ],
   "source": [
    "number_one=700\n",
    "number_one"
   ]
  },
  {
   "cell_type": "code",
   "execution_count": 8,
   "id": "21425cdb",
   "metadata": {},
   "outputs": [
    {
     "data": {
      "text/plain": [
       "900"
      ]
     },
     "execution_count": 8,
     "metadata": {},
     "output_type": "execute_result"
    }
   ],
   "source": [
    "_=900\n",
    "_"
   ]
  },
  {
   "cell_type": "markdown",
   "id": "ab3b08df",
   "metadata": {},
   "source": [
    "#### variables"
   ]
  },
  {
   "cell_type": "markdown",
   "id": "e6e40815",
   "metadata": {},
   "source": [
    "# variable"
   ]
  },
  {
   "cell_type": "code",
   "execution_count": null,
   "id": "ad12c35d",
   "metadata": {},
   "outputs": [],
   "source": []
  }
 ],
 "metadata": {
  "kernelspec": {
   "display_name": "Python 3 (ipykernel)",
   "language": "python",
   "name": "python3"
  },
  "language_info": {
   "codemirror_mode": {
    "name": "ipython",
    "version": 3
   },
   "file_extension": ".py",
   "mimetype": "text/x-python",
   "name": "python",
   "nbconvert_exporter": "python",
   "pygments_lexer": "ipython3",
   "version": "3.11.5"
  }
 },
 "nbformat": 4,
 "nbformat_minor": 5
}
