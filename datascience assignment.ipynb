{
 "cells": [
  {
   "cell_type": "code",
   "execution_count": 1,
   "id": "c0e3fcb0",
   "metadata": {},
   "outputs": [
    {
     "name": "stdout",
     "output_type": "stream",
     "text": [
      "enter a number:5\n",
      "the square of 5 is 25\n"
     ]
    }
   ],
   "source": [
    "#1-answer\n",
    "a=eval(input('enter a number:'))  #printing a statement asking user to enter a number and take as input \n",
    "sqr=a*a    #formula to get square of number\n",
    "print('the square of {} is {}'.format(a,sqr))   #printing the square of the given number"
   ]
  },
  {
   "cell_type": "code",
   "execution_count": 2,
   "id": "a71ad2cd",
   "metadata": {},
   "outputs": [
    {
     "name": "stdout",
     "output_type": "stream",
     "text": [
      "enter a number:8\n",
      "8----16----24----32----40\n"
     ]
    }
   ],
   "source": [
    "#2-answer\n",
    "\n",
    "x=eval(input('enter a number:'))   #prompt to ask the user to enter a number\n",
    "a=2*x\n",
    "b=3*x\n",
    "c=4*x\n",
    "d=5*x\n",
    "print('{}----{}----{}----{}----{}'.format(x,a,b,c,d))"
   ]
  },
  {
   "cell_type": "code",
   "execution_count": 3,
   "id": "b4350daa",
   "metadata": {},
   "outputs": [
    {
     "name": "stdout",
     "output_type": "stream",
     "text": [
      "enter the weight in kilograms:89\n",
      "the weight in pounds is: 195.8\n"
     ]
    }
   ],
   "source": [
    "#3-answer\n",
    "\n",
    "weight_kg=eval(input('enter the weight in kilograms:'))  #2.2 pounds = 1 kg\n",
    "weight_pounds=2.2*weight_kg\n",
    "print('the weight in pounds is:',weight_pounds)"
   ]
  },
  {
   "cell_type": "code",
   "execution_count": 4,
   "id": "3952ec66",
   "metadata": {},
   "outputs": [
    {
     "name": "stdout",
     "output_type": "stream",
     "text": [
      "enter the first number4\n",
      "enter the second number5\n",
      "enter the third number6\n",
      "the total of 4,24 and 6 is 34\n",
      "the average of 4,24 and 6 is 11.333333333333334\n"
     ]
    }
   ],
   "source": [
    "#4 answer\n",
    "\n",
    "a=eval(input('enter the first number'))   #asking the user to enter first number\n",
    "b-eval(input('enter the second number'))    #asking the user to enter second number\n",
    "c=eval(input('enter the third number'))     #asking the user to enter third number\n",
    "total=a+b+c     #to calculate total of the given 3 numbers\n",
    "average=total/3 # formula to calculate average of the given 3 numbers\n",
    "print('the total of {},{} and {} is {}'.format(a,b,c,total))   #output statement for total\n",
    "print('the average of {},{} and {} is {}'.format(a,b,c,average))  #output statement for average"
   ]
  },
  {
   "cell_type": "code",
   "execution_count": 6,
   "id": "8b8509c0",
   "metadata": {},
   "outputs": [
    {
     "name": "stdout",
     "output_type": "stream",
     "text": [
      "enter the total amount of the bill in rupees:3050\n",
      "enter the total percentage of thr tip to be given:20\n",
      "the amount of tip to be given is 610.0\n"
     ]
    }
   ],
   "source": [
    "#5 answer\n",
    "\n",
    "#tip calculator\n",
    "\n",
    "total_bill=eval(input('enter the total amount of the bill in rupees:'))\n",
    "tip_bill=eval(input('enter the total percentage of the tip to be given:'))\n",
    "p_tip_bill= tip_bill/100\n",
    "amount_of_tip = total_bill * p_tip_bill\n",
    "print('the amount of tip to be given is {}'.format(amount_of_tip))"
   ]
  },
  {
   "cell_type": "code",
   "execution_count": null,
   "id": "c6b22fd6",
   "metadata": {},
   "outputs": [],
   "source": []
  }
 ],
 "metadata": {
  "kernelspec": {
   "display_name": "Python 3 (ipykernel)",
   "language": "python",
   "name": "python3"
  },
  "language_info": {
   "codemirror_mode": {
    "name": "ipython",
    "version": 3
   },
   "file_extension": ".py",
   "mimetype": "text/x-python",
   "name": "python",
   "nbconvert_exporter": "python",
   "pygments_lexer": "ipython3",
   "version": "3.11.5"
  }
 },
 "nbformat": 4,
 "nbformat_minor": 5
}
