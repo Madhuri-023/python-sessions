{
 "cells": [
  {
   "cell_type": "code",
   "execution_count": 1,
   "id": "ea500f83",
   "metadata": {},
   "outputs": [
    {
     "name": "stdout",
     "output_type": "stream",
     "text": [
      "enter a number:2\n",
      "the square of 2 is 4\n"
     ]
    }
   ],
   "source": [
    "#1-ans\n",
    "try:\n",
    "    \n",
    "    a=eval(input('enter a number:'))  \n",
    "    sqr=a*a    \n",
    "    print('the square of {} is {}'.format(a,sqr)) \n",
    "except Exception as e:\n",
    "    print(e)"
   ]
  },
  {
   "cell_type": "code",
   "execution_count": 2,
   "id": "f1e03f8c",
   "metadata": {},
   "outputs": [
    {
     "name": "stdout",
     "output_type": "stream",
     "text": [
      "enter a number:2\n",
      "2----4----6----8----10\n"
     ]
    }
   ],
   "source": [
    "#2-ans\n",
    "try:\n",
    "    x=eval(input('enter a number:'))   #prompt to ask the user to enter a number\n",
    "    a=2*x\n",
    "    b=3*x\n",
    "    c=4*x\n",
    "    d=5*x\n",
    "    print('{}----{}----{}----{}----{}'.format(x,a,b,c,d))\n",
    "\n",
    "except Exception as e:\n",
    "    print(e)"
   ]
  },
  {
   "cell_type": "code",
   "execution_count": 3,
   "id": "ad012a12",
   "metadata": {},
   "outputs": [
    {
     "name": "stdout",
     "output_type": "stream",
     "text": [
      "enter the weight in kilograms:23\n",
      "the weight in pounds is: 50.6\n"
     ]
    }
   ],
   "source": [
    "#3-ans\n",
    "try:\n",
    "    \n",
    "    weight_kg=eval(input('enter the weight in kilograms:'))  #2.2 pounds = 1 kg\n",
    "    weight_pounds=2.2*weight_kg\n",
    "    print('the weight in pounds is:',weight_pounds)\n",
    "except Exception as e:\n",
    "    print(e)"
   ]
  },
  {
   "cell_type": "code",
   "execution_count": 4,
   "id": "0ef7450c",
   "metadata": {},
   "outputs": [
    {
     "name": "stdout",
     "output_type": "stream",
     "text": [
      "enter the first number2\n",
      "enter the second number3\n",
      "enter the third number4\n",
      "the total of 2,6 and 4 is 12\n",
      "the average of 2,6 and 4 is 4.0\n"
     ]
    }
   ],
   "source": [
    "#4-ans\n",
    "try:\n",
    "    a=eval(input('enter the first number'))   #asking the user to enter first number\n",
    "    b-eval(input('enter the second number'))    #asking the user to enter second number\n",
    "    c=eval(input('enter the third number'))     #asking the user to enter third number\n",
    "    total=a+b+c     #to calculate total of the given 3 numbers\n",
    "    average=total/3 # formula to calculate average of the given 3 numbers\n",
    "    print('the total of {},{} and {} is {}'.format(a,b,c,total))   #output statement for total\n",
    "    print('the average of {},{} and {} is {}'.format(a,b,c,average))  #output statement for average\n",
    "    \n",
    "except Exception as e:\n",
    "    print(e)"
   ]
  },
  {
   "cell_type": "code",
   "execution_count": 6,
   "id": "80332b91",
   "metadata": {},
   "outputs": [
    {
     "name": "stdout",
     "output_type": "stream",
     "text": [
      "enter the total amount of the bill in rupees:1000\n",
      "enter the total percentage of the tip to be given:50\n",
      "the amount of tip to be given is 500.0\n"
     ]
    }
   ],
   "source": [
    "#5-ans\n",
    "try:\n",
    "    total_bill=eval(input('enter the total amount of the bill in rupees:'))\n",
    "    tip_bill=eval(input('enter the total percentage of the tip to be given:'))\n",
    "    p_tip_bill= tip_bill/100\n",
    "    amount_of_tip = total_bill * p_tip_bill\n",
    "    print('the amount of tip to be given is {}'.format(amount_of_tip))\n",
    "except Exception as e:\n",
    "    print(e)"
   ]
  },
  {
   "cell_type": "code",
   "execution_count": 7,
   "id": "96e5671f",
   "metadata": {},
   "outputs": [
    {
     "name": "stdout",
     "output_type": "stream",
     "text": [
      "enter the ramesh basic salary:20000\n",
      "ramesh gross salary: 32000.0\n"
     ]
    }
   ],
   "source": [
    "#6-ans\n",
    "try:\n",
    "    basic_salary= eval(input('enter the ramesh basic salary:'))\n",
    "    dearness_allowance= 0.4*basic_salary\n",
    "    houserent= 0.2*basic_salary\n",
    "    gross_salary= basic_salary + dearness_allowance + houserent\n",
    "    print('ramesh gross salary:',gross_salary)\n",
    "    \n",
    "except Exception as e:\n",
    "    print(e)"
   ]
  },
  {
   "cell_type": "code",
   "execution_count": 8,
   "id": "00c84af4",
   "metadata": {},
   "outputs": [
    {
     "name": "stdout",
     "output_type": "stream",
     "text": [
      "enter the distance in kilometers:30\n",
      "distance in meters: 30000\n",
      "distance in feet: 98425.20000000001\n",
      "distance in inches: 1181103.0\n",
      "distance in centimeters: 3000000\n"
     ]
    }
   ],
   "source": [
    "#7-ans\n",
    "try:\n",
    "    distance_km=eval(input('enter the distance in kilometers:'))\n",
    "    meters=distance_km*1000\n",
    "    feet=distance_km*3280.84\n",
    "    inches=distance_km*39370.1\n",
    "    centimeters=distance_km*100000\n",
    "    print('distance in meters:',meters)\n",
    "    print('distance in feet:',feet)\n",
    "    print('distance in inches:',inches)\n",
    "    print('distance in centimeters:',centimeters)\n",
    "    \n",
    "except Exception as e:\n",
    "    print(e)"
   ]
  },
  {
   "cell_type": "code",
   "execution_count": 9,
   "id": "b03a5d30",
   "metadata": {},
   "outputs": [
    {
     "name": "stdout",
     "output_type": "stream",
     "text": [
      "Enter the marks scored in subject 1:90\n",
      "Enter the marks scored in subject 2:90\n",
      "Enter the marks scored in subject 3:80\n",
      "Enter the marks scored in subject 4:80\n",
      "Enter the marks scored in subject 5:70\n",
      "Enter the marks scored in subject 6:70\n",
      "The total marks obtained are 480 out of 600\n",
      "The aggregate marks are 80.0  and the percentage obtained is 80.0\n"
     ]
    }
   ],
   "source": [
    "#8-ans\n",
    "try:\n",
    "    sub1 = eval(input (\"Enter the marks scored in subject 1:\"))\n",
    "    sub2 = eval(input(\"Enter the marks scored in subject 2:\"))\n",
    "    sub3 = eval(input (\"Enter the marks scored in subject 3:\"))\n",
    "    sub4 = eval(input(\"Enter the marks scored in subject 4:\"))\n",
    "    sub5 = eval(input (\"Enter the marks scored in subject 5:\"))\n",
    "    sub6 = eval(input(\"Enter the marks scored in subject 6:\"))\n",
    "    sum = sub1+sub2+sub3+sub4+sub5+sub6\n",
    "    aggregate = sum/6\n",
    "    percentage = (sum/600)*100\n",
    "    print(\"The total marks obtained are {} out of 600\".format(sum))\n",
    "    print(\"The aggregate marks are {}  and the percentage obtained is {}\".format(aggregate,percentage))\n",
    "    \n",
    "except Exception as e:\n",
    "    print(e)"
   ]
  },
  {
   "cell_type": "code",
   "execution_count": 10,
   "id": "d875f32a",
   "metadata": {},
   "outputs": [
    {
     "name": "stdout",
     "output_type": "stream",
     "text": [
      "enter the value of temperature in fahreinheit:7\n",
      "temperature in celcius: -13.88888888888889\n"
     ]
    }
   ],
   "source": [
    "#9-ans\n",
    "try:\n",
    "    fahreinheit=eval(input('enter the value of temperature in fahreinheit:'))\n",
    "    celcius=(fahreinheit-32)*5/9\n",
    "    print('temperature in celcius:',celcius)\n",
    "except Exception as e:\n",
    "    print(e)"
   ]
  },
  {
   "cell_type": "code",
   "execution_count": 11,
   "id": "848b5c3e",
   "metadata": {},
   "outputs": [
    {
     "name": "stdout",
     "output_type": "stream",
     "text": [
      "enter the radius of circle:4\n",
      "enter the length of rectangle:5\n",
      "enter the breadth of rectangle:6\n",
      "area of rectangle: 30\n",
      "perimeter of rectangle: 22\n",
      "area of thhe circle: 50.26548245743669\n",
      "circumference of the circle: 25.132741228718345\n"
     ]
    }
   ],
   "source": [
    "#10-ans\n",
    "try:\n",
    "    import math\n",
    "    radius=eval(input('enter the radius of circle:'))\n",
    "    length=eval(input('enter the length of rectangle:'))\n",
    "    breadth=eval(input('enter the breadth of rectangle:'))\n",
    "    rectangle_area=length * breadth\n",
    "    rectangle_perimeter=2*(length+breadth)\n",
    "    circle_area= math.pi* (radius ** 2)\n",
    "    circle_circumference=2 * math.pi * radius\n",
    "    print('area of rectangle:',rectangle_area)\n",
    "    print('perimeter of rectangle:',rectangle_perimeter)\n",
    "    print('area of thhe circle:',circle_area)\n",
    "    print('circumference of the circle:',circle_circumference)\n",
    "\n",
    "except Exception as e:\n",
    "    print(e)\n"
   ]
  },
  {
   "cell_type": "code",
   "execution_count": 12,
   "id": "947b7631",
   "metadata": {},
   "outputs": [
    {
     "name": "stdout",
     "output_type": "stream",
     "text": [
      "enter the value for c:3\n",
      "enter the value for d:4\n",
      "the value of c and d after interchanging them=: 4 3\n"
     ]
    }
   ],
   "source": [
    "#11-ans\n",
    "\n",
    "try:\n",
    "    c=eval(input('enter the value for c:'))\n",
    "    d=eval(input('enter the value for d:'))\n",
    "    temp=c\n",
    "    c=d\n",
    "    d=temp\n",
    "    print('the value of c and d after interchanging them=:',c,d)\n",
    "    \n",
    "except Exception as e:\n",
    "    print(e)\n"
   ]
  },
  {
   "cell_type": "code",
   "execution_count": 13,
   "id": "a34e7ab2",
   "metadata": {},
   "outputs": [
    {
     "name": "stdout",
     "output_type": "stream",
     "text": [
      "enter the five digit number:23467\n",
      "the reverse od number is= 76432\n"
     ]
    }
   ],
   "source": [
    "#12-ans\n",
    "\n",
    "try:\n",
    "    num=eval(input('enter the five digit number:'))\n",
    "    tem=num\n",
    "    rev=0\n",
    "    while(tem>0):\n",
    "        r=tem%10\n",
    "        rev=(rev*10)+r\n",
    "        tem=tem//10\n",
    "    print('the reverse od number is=',rev)\n",
    "except Exception as e:\n",
    "    print(e)"
   ]
  },
  {
   "cell_type": "code",
   "execution_count": 14,
   "id": "92982a86",
   "metadata": {},
   "outputs": [
    {
     "name": "stdout",
     "output_type": "stream",
     "text": [
      "enter a four digit number4567\n",
      "the addition of first and last number: 11\n"
     ]
    }
   ],
   "source": [
    "#13-ans\n",
    "try: \n",
    "    num=eval(input('enter a four digit number'))\n",
    "    last_digit=num%10\n",
    "    while(num>=10):\n",
    "        num=num//10\n",
    "    first_digit=num\n",
    "    sum=first_digit+last_digit\n",
    "    print('the addition of first and last number:',sum)\n",
    "    \n",
    "except Exception as e:\n",
    "    print(e)"
   ]
  },
  {
   "cell_type": "code",
   "execution_count": 15,
   "id": "3b6890e1",
   "metadata": {},
   "outputs": [
    {
     "name": "stdout",
     "output_type": "stream",
     "text": [
      "the total literate men and women are= 11760.0 21840.0\n"
     ]
    }
   ],
   "source": [
    "#14-ans\n",
    "try:\n",
    "    population_town=70000\n",
    "    men_percentage=42\n",
    "    total_literacypercent=48\n",
    "    literate_menpercent=35\n",
    "    men=(population_town*men_percentage)/100\n",
    "    women=population_town-men\n",
    "    total_literacy=(total_literacypercent*population_town)/100\n",
    "    literate_men=(total_literacy*literate_menpercent)/100\n",
    "    literate_women=total_literacy-literate_men\n",
    "    print('the total literate men and women are=',literate_men,literate_women)\n",
    "    \n",
    "except Exception as e:\n",
    "    print(e)"
   ]
  },
  {
   "cell_type": "code",
   "execution_count": 16,
   "id": "7770a675",
   "metadata": {},
   "outputs": [
    {
     "name": "stdout",
     "output_type": "stream",
     "text": [
      "enter the amount to be withdrawn20000\n",
      "the number of notes of 100s the cashier has to issue= 200\n",
      "the number of notes of 50s the cashier has to issue= 0\n",
      "the number of notes of 10s the cashier has to issue= 0\n",
      "the amount remaining is = 0\n"
     ]
    }
   ],
   "source": [
    "#15-ans\n",
    "try:\n",
    "    money=eval(input(\"enter the amount to be withdrawn\"))\n",
    "    number_of_hundreds=(money//100)\n",
    "    number_of_fiftys=(money%100)//50\n",
    "    number_of_tens=(((money%100)%50)//10)\n",
    "    remaining_amount=((money%100)%50)%10\n",
    "\n",
    "\n",
    "    print('the number of notes of 100s the cashier has to issue=',number_of_hundreds)\n",
    "    print('the number of notes of 50s the cashier has to issue=',number_of_fiftys)\n",
    "    print('the number of notes of 10s the cashier has to issue=',number_of_tens)\n",
    "    print('the amount remaining is =',remaining_amount)\n",
    "    \n",
    "except exception as e:\n",
    "    print(e)\n",
    "\n"
   ]
  },
  {
   "cell_type": "code",
   "execution_count": null,
   "id": "a123996d",
   "metadata": {},
   "outputs": [],
   "source": []
  }
 ],
 "metadata": {
  "kernelspec": {
   "display_name": "Python 3 (ipykernel)",
   "language": "python",
   "name": "python3"
  },
  "language_info": {
   "codemirror_mode": {
    "name": "ipython",
    "version": 3
   },
   "file_extension": ".py",
   "mimetype": "text/x-python",
   "name": "python",
   "nbconvert_exporter": "python",
   "pygments_lexer": "ipython3",
   "version": "3.11.5"
  }
 },
 "nbformat": 4,
 "nbformat_minor": 5
}
