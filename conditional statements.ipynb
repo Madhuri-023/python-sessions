{
 "cells": [
  {
   "cell_type": "code",
   "execution_count": null,
   "id": "bc13fd16",
   "metadata": {},
   "outputs": [],
   "source": [
    "if-else\n",
    "\n",
    "\n",
    "if pak won the match they will have chance to go to SF\n",
    "else they have more chance to go home\n",
    "\n",
    "\n",
    "if i study will pass\n",
    "else will fail"
   ]
  },
  {
   "cell_type": "code",
   "execution_count": null,
   "id": "7194cb54",
   "metadata": {},
   "outputs": [],
   "source": [
    "name='python'\n",
    "#i want to make some condition\n",
    "#whenever the name ==python===> success\n",
    "# otherwise ======>fail"
   ]
  },
  {
   "cell_type": "code",
   "execution_count": null,
   "id": "94d0d7a5",
   "metadata": {},
   "outputs": [],
   "source": [
    "name='python'\n",
    "if<condition>:\n",
    "    #sta-1\n",
    "    #code\n",
    "else:\n",
    "    #code"
   ]
  },
  {
   "cell_type": "code",
   "execution_count": null,
   "id": "d34fcc12",
   "metadata": {},
   "outputs": [],
   "source": [
    "name='python'   #name\n",
    "if name=='python':  #is the name really equal to python\n",
    "    print('won')"
   ]
  },
  {
   "cell_type": "code",
   "execution_count": 3,
   "id": "b43423da",
   "metadata": {},
   "outputs": [
    {
     "name": "stdout",
     "output_type": "stream",
     "text": [
      "won\n"
     ]
    }
   ],
   "source": [
    "name='python'   #'python' is saved in a variable 'name'\n",
    "if name=='python':  #is the name really equal to python\n",
    "    print('won')"
   ]
  },
  {
   "cell_type": "code",
   "execution_count": null,
   "id": "f0ddab80",
   "metadata": {},
   "outputs": [],
   "source": [
    "a=10   #value 10  stored in a variable 'a'\n",
    "a=10"
   ]
  },
  {
   "cell_type": "code",
   "execution_count": null,
   "id": "66da9ddd",
   "metadata": {},
   "outputs": [],
   "source": [
    "=asign\n",
    "==condition"
   ]
  },
  {
   "cell_type": "code",
   "execution_count": 2,
   "id": "66ed8d5d",
   "metadata": {},
   "outputs": [
    {
     "data": {
      "text/plain": [
       "False"
      ]
     },
     "execution_count": 2,
     "metadata": {},
     "output_type": "execute_result"
    }
   ],
   "source": [
    "name='python'  #assign\n",
    "name=='py'  #condition"
   ]
  },
  {
   "cell_type": "code",
   "execution_count": null,
   "id": "4a70ddb8",
   "metadata": {},
   "outputs": [],
   "source": [
    "if <condition>:\n",
    "if True/False:\n",
    "    inside the block"
   ]
  },
  {
   "cell_type": "code",
   "execution_count": 5,
   "id": "a75d9d89",
   "metadata": {},
   "outputs": [],
   "source": [
    "name='python'\n",
    "if name=='py':   #if <false>: no permission\n",
    "    a=10\n",
    "    b=20\n",
    "    print(a+b)"
   ]
  },
  {
   "cell_type": "code",
   "execution_count": 11,
   "id": "35ab2c98",
   "metadata": {},
   "outputs": [
    {
     "name": "stdout",
     "output_type": "stream",
     "text": [
      "lost\n"
     ]
    }
   ],
   "source": [
    "name='python'\n",
    "if name=='py':\n",
    "    print('won')\n",
    "else:                            \n",
    "    print('lost')"
   ]
  },
  {
   "cell_type": "code",
   "execution_count": 15,
   "id": "9c5ab687",
   "metadata": {},
   "outputs": [
    {
     "name": "stdout",
     "output_type": "stream",
     "text": [
      "hello\n",
      "10\n",
      "enter a number1:30\n",
      "enter a number2:20\n",
      "this is false case\n",
      "we are doing multiplication\n",
      "the multiplication of 30 and 20 is: 600\n",
      "subtraction: 10\n",
      "great!\n"
     ]
    }
   ],
   "source": [
    "print('hello')\n",
    "print(10)\n",
    "num1=eval(input('enter a number1:'))\n",
    "num2=eval(input('enter a number2:'))\n",
    "if num1==num2:\n",
    "    print('this is true case')\n",
    "    print('we are doing addition operation')\n",
    "    print('the addition of {} and {} is: {}'.format(num1,num2,num1+num2))\n",
    "    print('happy ending!')\n",
    "else:\n",
    "    print('this is false case')\n",
    "    print('we are doing multiplication')\n",
    "    print('the multiplication of {} and {} is: {}'.format(num1,num2,num1*num2))\n",
    "\n",
    "subtraction=num1-num2\n",
    "print('subtraction:',subtraction)\n",
    "print('great!')"
   ]
  },
  {
   "cell_type": "code",
   "execution_count": null,
   "id": "d03aeb81",
   "metadata": {},
   "outputs": [],
   "source": [
    "#wap ask the user to enter a number\n",
    "#find the number is even or odd\n",
    "#even num: if youndivide with 2 the reminder is zero\n",
    "#odd number\n",
    "#in python modulus operator gives remainder"
   ]
  },
  {
   "cell_type": "code",
   "execution_count": 17,
   "id": "c400f3f7",
   "metadata": {},
   "outputs": [
    {
     "name": "stdout",
     "output_type": "stream",
     "text": [
      "enter a number:55\n",
      "the 55 is odd number\n"
     ]
    }
   ],
   "source": [
    "num1=eval(input('enter a number:'))\n",
    "if(num1%2==0):\n",
    "    print('the {} is even number'.format(num1))\n",
    "else:\n",
    "    print('the {} is odd number'.format(num1))"
   ]
  },
  {
   "cell_type": "code",
   "execution_count": 21,
   "id": "e5363a2c",
   "metadata": {},
   "outputs": [
    {
     "ename": "SyntaxError",
     "evalue": "expected 'except' or 'finally' block (1732331818.py, line 3)",
     "output_type": "error",
     "traceback": [
      "\u001b[1;36m  Cell \u001b[1;32mIn[21], line 3\u001b[1;36m\u001b[0m\n\u001b[1;33m    if(num1%2==0):\u001b[0m\n\u001b[1;37m    ^\u001b[0m\n\u001b[1;31mSyntaxError\u001b[0m\u001b[1;31m:\u001b[0m expected 'except' or 'finally' block\n"
     ]
    }
   ],
   "source": [
    "try:\n",
    "    num1=eval(input('enter a number:'))\n",
    "if(num1%2==0):\n",
    "    print('the {} is even number'.format(num1))\n",
    "else:\n",
    "    print('the {} is odd number'.format(num1))  \n",
    "    \n",
    "except Exception as (e):\n",
    "    print(e)"
   ]
  },
  {
   "cell_type": "code",
   "execution_count": 24,
   "id": "4ac844a3",
   "metadata": {},
   "outputs": [
    {
     "name": "stdout",
     "output_type": "stream",
     "text": [
      "enter a number:20\n",
      "the 20 is even number\n"
     ]
    }
   ],
   "source": [
    "num1=eval(input('enter a number:'))\n",
    "if(num1%2!=0):\n",
    "    print('the {} is odd number'.format(num1))\n",
    "else:\n",
    "    print('the {} is even number'.format(num1))  \n",
    "    "
   ]
  },
  {
   "cell_type": "code",
   "execution_count": null,
   "id": "0548e330",
   "metadata": {},
   "outputs": [],
   "source": [
    "WAP get a random btwn 1 and 100\n",
    "#and check it is an even number or odd number"
   ]
  },
  {
   "cell_type": "code",
   "execution_count": 27,
   "id": "3af60238",
   "metadata": {},
   "outputs": [
    {
     "name": "stdout",
     "output_type": "stream",
     "text": [
      "the 50 is even number\n"
     ]
    }
   ],
   "source": [
    "import random\n",
    "num1=random.randint(1,50)\n",
    "\n",
    "if(num1%2!=0):\n",
    "    print('the {} is odd number'.format(num1))\n",
    "else:\n",
    "    print('the {} is even number'.format(num1))  \n",
    "    \n"
   ]
  },
  {
   "cell_type": "code",
   "execution_count": null,
   "id": "9f91e1e8",
   "metadata": {},
   "outputs": [],
   "source": [
    "#wap get a random num btwn 1 ato 200\n",
    "#print you won ,if num 10 to 99\n",
    "#otherwise print we lost"
   ]
  },
  {
   "cell_type": "code",
   "execution_count": 29,
   "id": "d04628a0",
   "metadata": {},
   "outputs": [
    {
     "name": "stdout",
     "output_type": "stream",
     "text": [
      "you lost because 192 is not between 10 and 99.\n"
     ]
    }
   ],
   "source": [
    "import random\n",
    "try:\n",
    "    num=random.randint(1,200)\n",
    "    if (num>=10 and num<=99):\n",
    "        print('you won because { is between 10 and 99.'.format(num))\n",
    "    else:\n",
    "        print('you lost because {} is not between 10 and 99.'.format(num))\n",
    "except Exception as err:\n",
    "    print(err)"
   ]
  },
  {
   "cell_type": "code",
   "execution_count": 30,
   "id": "30ef5d2c",
   "metadata": {},
   "outputs": [
    {
     "ename": "SyntaxError",
     "evalue": "expected 'except' or 'finally' block (118451704.py, line 3)",
     "output_type": "error",
     "traceback": [
      "\u001b[1;36m  Cell \u001b[1;32mIn[30], line 3\u001b[1;36m\u001b[0m\n\u001b[1;33m    num1=random.randint(1,50)\u001b[0m\n\u001b[1;37m    ^\u001b[0m\n\u001b[1;31mSyntaxError\u001b[0m\u001b[1;31m:\u001b[0m expected 'except' or 'finally' block\n"
     ]
    }
   ],
   "source": [
    "try:\n",
    "    import random\n",
    "num1=random.randint(1,50)\n",
    "\n",
    "if(num1%2!=0):\n",
    "    print('the {} is odd number'.format(num1))\n",
    "else:\n",
    "    print('the {} is even number'.format(num1))  \n",
    "\n",
    "except Exception a e:\n",
    "    print(e)\n",
    "    \n"
   ]
  },
  {
   "cell_type": "code",
   "execution_count": 31,
   "id": "c82bba3b",
   "metadata": {},
   "outputs": [
    {
     "name": "stdout",
     "output_type": "stream",
     "text": [
      "enter a number:88\n",
      "it is positive number:\n"
     ]
    }
   ],
   "source": [
    "num=eval(input('enter a number:'))\n",
    "if num>=0:\n",
    "    print('it is positive number:')\n",
    "else:\n",
    "    print('it is negative number:')"
   ]
  },
  {
   "cell_type": "code",
   "execution_count": null,
   "id": "704a1fe1",
   "metadata": {},
   "outputs": [],
   "source": [
    "con-1: >0==pos  if<cond>:\n",
    "con-2  <0===neg  elif <con>\n",
    "con-3: =0===zero  else:\n",
    "        \n",
    "#two conditions:  if-else\n",
    "# >two condition:  if-elif-else"
   ]
  },
  {
   "cell_type": "code",
   "execution_count": null,
   "id": "d2b68db6",
   "metadata": {},
   "outputs": [],
   "source": [
    "num2=eval(input('enter a number:'))\n",
    "if num2>0:\n",
    "    print('the given number {} is positive'.format(num2))\n",
    "elif num<0:\n",
    "    print('the given number {} is negative'.format(num2))\n",
    "else:\n",
    "    print('the given number {} is zero'.format(num2))\n",
    "    "
   ]
  },
  {
   "cell_type": "code",
   "execution_count": null,
   "id": "98b6508a",
   "metadata": {},
   "outputs": [],
   "source": [
    "#WAP ask the user enter distance in km\n",
    "# if distance is more than 10km:print the charge is 100rs\n",
    "#if the distance is btwn 7 to 10km: print charge is 70rs\n",
    "#if distance is btwn 4 to 7km:print charge is 40rs\n",
    "#otherwise print charge is 30rs"
   ]
  },
  {
   "cell_type": "code",
   "execution_count": 1,
   "id": "24255ac0",
   "metadata": {},
   "outputs": [
    {
     "name": "stdout",
     "output_type": "stream",
     "text": [
      "enter the distance in kilometers:8\n",
      "the charge is 70rs:\n"
     ]
    }
   ],
   "source": [
    "distance=eval(input('enter the distance in kilometers:'))   #if the condition is satisfied itwill not go to next line\n",
    "if distance>=10:\n",
    "    print('the charge is 100rs:')\n",
    "elif distance>=7:\n",
    "    print('the charge is 70rs:')\n",
    "elif distance>=4:\n",
    "    print('the charge is 40rs:')\n",
    "else:\n",
    "    print('the charge is 30rs:')\n",
    "\n",
    "    "
   ]
  },
  {
   "cell_type": "code",
   "execution_count": null,
   "id": "e49ca318",
   "metadata": {},
   "outputs": [],
   "source": [
    "#wap ask the user enter salary \n",
    "# if sal greater than 10lac: enter the user tax percentage :10%\n",
    "#print the amount of tax paid:(salary*tax_percentage)/100\n",
    "#if sal btwn 7 lakhs to 10 lakhs\n",
    "# enter the user tax percentage :5%\n",
    "#print the amount of tax paid\n",
    "#if salary between 4 to 7 lakhs\n",
    "#enter the user tax percentage: 2.5%\n",
    "#print the amount of tax paid\n",
    "#otherwise: print ('no tax required')\n",
    "#if-elif--elif-elif-else"
   ]
  },
  {
   "cell_type": "code",
   "execution_count": 2,
   "id": "6fedb63e",
   "metadata": {},
   "outputs": [
    {
     "name": "stdout",
     "output_type": "stream",
     "text": [
      "enter the salary of employee:700000\n",
      "enter tax percentage:5\n",
      "amount of tax paid: 35000.0\n"
     ]
    }
   ],
   "source": [
    "salary=eval(input('enter the salary of employee:'))\n",
    "if salary>=1000000:\n",
    "    tax_per=eval(input('enter tax percentage:'))\n",
    "    print('amount of tax paid:',(salary*tax_per)/100)\n",
    "elif salary>=700000:\n",
    "    tax_per=eval(input('enter tax percentage:'))\n",
    "    print('amount of tax paid:',(salary*tax_per)/100)\n",
    "elif salary>=4000000:\n",
    "    tax_per=eval(input('enter tax percentage:'))\n",
    "    print('amount of tax paid:',(salary*tax_per)/100)\n",
    "else:\n",
    "    print('no tax required')\n",
    "\n",
    "\n",
    "    \n"
   ]
  },
  {
   "cell_type": "code",
   "execution_count": null,
   "id": "23e558a6",
   "metadata": {},
   "outputs": [],
   "source": [
    "#wap ask the user enter which operation he need to perfom\n",
    "#corresponding operations are: add/sub/mul/div\n",
    "#ask the user enter a number1\n",
    "#ask the user enter number2\n",
    "#if the operation = addition\n",
    "#then inside print we are doing addition operation\n",
    "#if the operation equal to addition\n",
    "     #print('the addition of num1 and num2 is')"
   ]
  },
  {
   "cell_type": "code",
   "execution_count": 6,
   "id": "2c222935",
   "metadata": {},
   "outputs": [
    {
     "name": "stdout",
     "output_type": "stream",
     "text": [
      "enter the operation:addition\n",
      "enter the number:23\n",
      "enter the another number:24\n",
      "we are doing addition operation:\n",
      "the addition of two numbers is: 47\n"
     ]
    }
   ],
   "source": [
    "operation=input('enter the operation:')\n",
    "num1=eval(input('enter the number:'))\n",
    "num2=eval(input('enter the another number:'))\n",
    "if operation =='addition':\n",
    "    print('we are doing addition operation:')\n",
    "    add=num1+num2\n",
    "    print('the addition of two numbers is:',add)\n",
    "    \n",
    "elif operation =='subtraction':\n",
    "    print('we are doing subtraction operation:')\n",
    "    add=num1-num2\n",
    "    print('the subtraction of two numbers is:',sub)\n",
    "    \n",
    "elif operation=='multiplication':\n",
    "    print('we are doing multiplication operation:')\n",
    "    mul=num1*num2\n",
    "    print('the multiplication of two numbers is:',mul)\n",
    "    \n",
    "elif operation=='division':\n",
    "    print('we are doing division operation:')\n",
    "    mul=num1/num2\n",
    "    print('the multiplication of two numbers is:',div)\n",
    "    \n",
    "else:\n",
    "    print('provide suitable operation:')\n",
    "    \n",
    "\n",
    "\n",
    "    \n",
    "    "
   ]
  },
  {
   "cell_type": "code",
   "execution_count": 10,
   "id": "ea3feced",
   "metadata": {
    "scrolled": true
   },
   "outputs": [
    {
     "ename": "IndentationError",
     "evalue": "expected an indented block after 'if' statement on line 5 (886665256.py, line 6)",
     "output_type": "error",
     "traceback": [
      "\u001b[1;36m  Cell \u001b[1;32mIn[10], line 6\u001b[1;36m\u001b[0m\n\u001b[1;33m    print('we are doing addition operation:')\u001b[0m\n\u001b[1;37m    ^\u001b[0m\n\u001b[1;31mIndentationError\u001b[0m\u001b[1;31m:\u001b[0m expected an indented block after 'if' statement on line 5\n"
     ]
    }
   ],
   "source": [
    "try:\n",
    "    operation=input('enter the operation:')\n",
    "    num1=eval(input('enter the number:'))\n",
    "    num2=eval(input('enter the another number:'))\n",
    "    if operation =='addition':\n",
    "        print('we are doing addition operation:')\n",
    "        add=num1+num2\n",
    "        print('the addition of two numbers is:',add)\n",
    "\n",
    "elif operation =='subtraction':\n",
    "        print('we are doing subtraction operation:')\n",
    "        add=num1-num2\n",
    "        print('the subtraction of two numbers is:',sub)\n",
    "\n",
    "elif operation=='multiplication':\n",
    "        print('we are doing multiplication operation:')\n",
    "        mul=num1*num2\n",
    "        print('the multiplication of two numbers is:',mul)\n",
    "\n",
    "elif operation=='division':\n",
    "        print('we are doing division operation:')\n",
    "    mul=num1/num2\n",
    "    print('the multiplication of two numbers is:',div)\n",
    "\n",
    "else:\n",
    "    print('provide suitable operation:')\n",
    "\n",
    "except Exception as e:\n",
    "    print(e)"
   ]
  },
  {
   "cell_type": "markdown",
   "id": "7629680f",
   "metadata": {},
   "source": [
    "***nested-if-else**"
   ]
  },
  {
   "cell_type": "code",
   "execution_count": null,
   "id": "d0d75166",
   "metadata": {},
   "outputs": [],
   "source": [
    "#wap ask the user enter a number\n",
    "#if the number greater than zero:\n",
    "#             if the number==0:\n",
    "#                 print('it is a zero number')\n",
    "#             else\n",
    "#             print('it is postive number')\n",
    "#else:\n",
    "#    print('it is a negative number')\n"
   ]
  },
  {
   "cell_type": "code",
   "execution_count": 13,
   "id": "f1eb1876",
   "metadata": {},
   "outputs": [
    {
     "name": "stdout",
     "output_type": "stream",
     "text": [
      "enter a number:-7\n",
      "it is a negative number:\n"
     ]
    }
   ],
   "source": [
    "num=eval(input('enter a number:'))\n",
    "if num>=0:\n",
    "    if num==0:\n",
    "        print('it is a zero number:')\n",
    "    else:\n",
    "        print('it is a positive number:')\n",
    "else:\n",
    "    print('it is a negative number:')\n"
   ]
  },
  {
   "cell_type": "code",
   "execution_count": null,
   "id": "cece2215",
   "metadata": {},
   "outputs": [],
   "source": [
    "#wap ask the user enter gender either male or female\n",
    "#if gender equal to male\n",
    "#ask the user enter age \n",
    "#if age>60: print(cs)\n",
    "#if age between 30 ato 60 print(middle aged man)\n",
    "#if age between 20 and 30 : print(teenage boy)\n",
    "#otherwise: print('boy')\n",
    "\n",
    "#else:\n",
    "#ask the user enter age \n",
    "#if age>60: print(cs)\n",
    "#if age between 30 ato 60 print(middle aged man)\n",
    "#if age between 20 and 30 : print(teenage boy)\n",
    "#otherwise: print('girl')"
   ]
  },
  {
   "cell_type": "code",
   "execution_count": 18,
   "id": "27a8bd27",
   "metadata": {},
   "outputs": [
    {
     "ename": "IndentationError",
     "evalue": "unexpected indent (3675660201.py, line 4)",
     "output_type": "error",
     "traceback": [
      "\u001b[1;36m  Cell \u001b[1;32mIn[18], line 4\u001b[1;36m\u001b[0m\n\u001b[1;33m    if age>=60:\u001b[0m\n\u001b[1;37m    ^\u001b[0m\n\u001b[1;31mIndentationError\u001b[0m\u001b[1;31m:\u001b[0m unexpected indent\n"
     ]
    }
   ],
   "source": [
    "gender= input('enter your gender:')\n",
    "if gender == 'male':\n",
    "     age=eval(input('enter your age:'))\n",
    "    if age>=60:\n",
    "        print('they are senior citizen:')\n",
    "        elif if age>=30:\n",
    "        print('they are middle aged man:')\n",
    "        elif if age>=20:\n",
    "        print('they are young boy:')\n",
    "        elif if age>=13:\n",
    "        print('you are teenage boy')\n",
    "        else:\n",
    "            print('you are a boy')\n",
    "        \n",
    "else:\n",
    "    if gender == 'female':\n",
    "    age=eval(input('enter your age:'))\n",
    "    if age>=60:\n",
    "        print('they are senior citizen:')\n",
    "    elif if age>=30:\n",
    "        print('they are middle aged woman:')\n",
    "    elif if age>=20:\n",
    "        print('they are young girl:')\n",
    "    elif if age>=13:\n",
    "        print('you are teenage girl')\n",
    "    else:\n",
    "        print('you are a girl')\n",
    "        "
   ]
  },
  {
   "cell_type": "code",
   "execution_count": null,
   "id": "195c3650",
   "metadata": {},
   "outputs": [],
   "source": [
    "#wap ask the user enter 3 numbers\n",
    "#find the biggest number"
   ]
  }
 ],
 "metadata": {
  "kernelspec": {
   "display_name": "Python 3 (ipykernel)",
   "language": "python",
   "name": "python3"
  },
  "language_info": {
   "codemirror_mode": {
    "name": "ipython",
    "version": 3
   },
   "file_extension": ".py",
   "mimetype": "text/x-python",
   "name": "python",
   "nbconvert_exporter": "python",
   "pygments_lexer": "ipython3",
   "version": "3.11.5"
  }
 },
 "nbformat": 4,
 "nbformat_minor": 5
}
