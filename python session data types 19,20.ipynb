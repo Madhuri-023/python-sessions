{
 "cells": [
  {
   "cell_type": "markdown",
   "id": "93b1bdfd",
   "metadata": {},
   "source": [
    "### data types"
   ]
  },
  {
   "cell_type": "markdown",
   "id": "8fb2d4e7",
   "metadata": {},
   "source": [
    "-integer            int\n",
    "-float              float\n",
    "-strings            str\n",
    "-boolean            bool\n",
    "-complex conjugate  complex"
   ]
  },
  {
   "cell_type": "markdown",
   "id": "f4a7d35c",
   "metadata": {},
   "source": [
    "$integer$"
   ]
  },
  {
   "cell_type": "code",
   "execution_count": 1,
   "id": "19cdce93",
   "metadata": {},
   "outputs": [
    {
     "data": {
      "text/plain": [
       "100"
      ]
     },
     "execution_count": 1,
     "metadata": {},
     "output_type": "execute_result"
    }
   ],
   "source": [
    "number=100\n",
    "number"
   ]
  },
  {
   "cell_type": "code",
   "execution_count": 2,
   "id": "1aa2b95c",
   "metadata": {},
   "outputs": [
    {
     "data": {
      "text/plain": [
       "int"
      ]
     },
     "execution_count": 2,
     "metadata": {},
     "output_type": "execute_result"
    }
   ],
   "source": [
    "#type of the variable: the keyword is called type\n",
    "type(number)"
   ]
  },
  {
   "cell_type": "markdown",
   "id": "248e5cf1",
   "metadata": {},
   "source": [
    "#### in maths also we have different number systems\n",
    "\n",
    "-decimal\n",
    "-binary\n",
    "-octal\n",
    "-hexa decimal"
   ]
  },
  {
   "cell_type": "code",
   "execution_count": null,
   "id": "3bde640d",
   "metadata": {},
   "outputs": [],
   "source": [
    "**Binary**\n",
    "-Bi means 2\n",
    "-so the base is also 2\n",
    "-0 1 2 3 4 5 6 7 8 9\n",
    "we need to use only 2 digits and those are 0 and 1\n",
    "-representation is : 0b<combination of 0 and 1>\n",
    "    0b110, 0b011101 are examples\n",
    "    "
   ]
  },
  {
   "cell_type": "code",
   "execution_count": 3,
   "id": "53968b31",
   "metadata": {},
   "outputs": [
    {
     "data": {
      "text/plain": [
       "7"
      ]
     },
     "execution_count": 3,
     "metadata": {},
     "output_type": "execute_result"
    }
   ],
   "source": [
    "0b111\n",
    "#python output\n",
    "\n",
    "will come in decimal format on"
   ]
  },
  {
   "cell_type": "code",
   "execution_count": null,
   "id": "dd5c12ad",
   "metadata": {},
   "outputs": [],
   "source": [
    "# 3 digits = 4 2 1\n",
    "# 4 digits = 8 4 2 1\n",
    "# 5 digits = 16 8 4 2 1\n",
    "\n",
    "4= 4 times 0 and 4 times 1 will come\n",
    "2= 2 times 0 and 2 times 1 will come\n",
    "1= 1 rime 0 and 1 time 1 will come\n",
    "ON=1\n",
    "off-0\n",
    "\n",
    "\n"
   ]
  },
  {
   "cell_type": "code",
   "execution_count": null,
   "id": "0c44b371",
   "metadata": {},
   "outputs": [],
   "source": [
    "$octa$\n",
    "octa means 8\n",
    "so base is 8\n",
    "0 1 2 3 4 5 6 7 8  9\n",
    "-here we will use  8 digits from 0-7\n",
    "-representation is :o0<combinations of 0 to 7>\n",
    "    o0123,0o7564"
   ]
  },
  {
   "cell_type": "code",
   "execution_count": null,
   "id": "3f67f13f",
   "metadata": {},
   "outputs": [],
   "source": [
    "$hexa$\n",
    "hexa mean 16\n",
    "so base is 16\n",
    "-0 1 2 3 4 5 6 7 8 9 A B C D E F\n",
    "-here we will use 16 digits: 0 1 2 3 4 5 6 7 8 9 A B C D E F(0-9 and A TO F)\n",
    "- representation is: 0x<combinations of 0 to 7>\n",
    "- 0xabc,0x9df"
   ]
  },
  {
   "cell_type": "code",
   "execution_count": 4,
   "id": "2528abe4",
   "metadata": {},
   "outputs": [
    {
     "data": {
      "text/plain": [
       "2748"
      ]
     },
     "execution_count": 4,
     "metadata": {},
     "output_type": "execute_result"
    }
   ],
   "source": [
    "0xabc"
   ]
  },
  {
   "cell_type": "code",
   "execution_count": 5,
   "id": "40959da4",
   "metadata": {},
   "outputs": [
    {
     "ename": "SyntaxError",
     "evalue": "invalid syntax (3661822773.py, line 1)",
     "output_type": "error",
     "traceback": [
      "\u001b[1;36m  Cell \u001b[1;32mIn[5], line 1\u001b[1;36m\u001b[0m\n\u001b[1;33m    $float$\u001b[0m\n\u001b[1;37m    ^\u001b[0m\n\u001b[1;31mSyntaxError\u001b[0m\u001b[1;31m:\u001b[0m invalid syntax\n"
     ]
    }
   ],
   "source": [
    "$float$\n",
    "\n",
    "\n",
    "number1=123.5\n",
    "type(number1)"
   ]
  },
  {
   "cell_type": "code",
   "execution_count": 6,
   "id": "4debe659",
   "metadata": {},
   "outputs": [
    {
     "data": {
      "text/plain": [
       "float"
      ]
     },
     "execution_count": 6,
     "metadata": {},
     "output_type": "execute_result"
    }
   ],
   "source": [
    "number1=123.5\n",
    "type(number1)"
   ]
  },
  {
   "cell_type": "markdown",
   "id": "13313ebe",
   "metadata": {},
   "source": [
    "#### STRINGS"
   ]
  },
  {
   "cell_type": "code",
   "execution_count": 7,
   "id": "08cdc405",
   "metadata": {},
   "outputs": [
    {
     "data": {
      "text/plain": [
       "str"
      ]
     },
     "execution_count": 7,
     "metadata": {},
     "output_type": "execute_result"
    }
   ],
   "source": [
    "name=\"python\" #write any thing in quotes\n",
    "type(name)"
   ]
  },
  {
   "cell_type": "code",
   "execution_count": 8,
   "id": "d578b8f4",
   "metadata": {},
   "outputs": [
    {
     "data": {
      "text/plain": [
       "str"
      ]
     },
     "execution_count": 8,
     "metadata": {},
     "output_type": "execute_result"
    }
   ],
   "source": [
    "name=\"hai\"\n",
    "type(name)"
   ]
  },
  {
   "cell_type": "code",
   "execution_count": 9,
   "id": "6bae6605",
   "metadata": {},
   "outputs": [
    {
     "ename": "SyntaxError",
     "evalue": "unterminated string literal (detected at line 1) (479522568.py, line 1)",
     "output_type": "error",
     "traceback": [
      "\u001b[1;36m  Cell \u001b[1;32mIn[9], line 1\u001b[1;36m\u001b[0m\n\u001b[1;33m    name3=\"hai\u001b[0m\n\u001b[1;37m          ^\u001b[0m\n\u001b[1;31mSyntaxError\u001b[0m\u001b[1;31m:\u001b[0m unterminated string literal (detected at line 1)\n"
     ]
    }
   ],
   "source": [
    "name3=\"hai\n",
    "how are you\""
   ]
  },
  {
   "cell_type": "code",
   "execution_count": 10,
   "id": "6240cf41",
   "metadata": {},
   "outputs": [
    {
     "ename": "SyntaxError",
     "evalue": "unterminated string literal (detected at line 1) (626465635.py, line 1)",
     "output_type": "error",
     "traceback": [
      "\u001b[1;36m  Cell \u001b[1;32mIn[10], line 1\u001b[1;36m\u001b[0m\n\u001b[1;33m    name4='hai\u001b[0m\n\u001b[1;37m          ^\u001b[0m\n\u001b[1;31mSyntaxError\u001b[0m\u001b[1;31m:\u001b[0m unterminated string literal (detected at line 1)\n"
     ]
    }
   ],
   "source": [
    "name4='hai\n",
    "how are you'"
   ]
  },
  {
   "cell_type": "code",
   "execution_count": 12,
   "id": "12bb6ef9",
   "metadata": {},
   "outputs": [
    {
     "data": {
      "text/plain": [
       "'hai\\nhow are you'"
      ]
     },
     "execution_count": 12,
     "metadata": {},
     "output_type": "execute_result"
    }
   ],
   "source": [
    "name5=\"\"\"hai\n",
    "how are you\"\"\"\n",
    "name5"
   ]
  },
  {
   "cell_type": "code",
   "execution_count": 14,
   "id": "fed41d23",
   "metadata": {},
   "outputs": [
    {
     "ename": "TypeError",
     "evalue": "Random.randint() missing 1 required positional argument: 'b'",
     "output_type": "error",
     "traceback": [
      "\u001b[1;31m---------------------------------------------------------------------------\u001b[0m",
      "\u001b[1;31mTypeError\u001b[0m                                 Traceback (most recent call last)",
      "Cell \u001b[1;32mIn[14], line 2\u001b[0m\n\u001b[0;32m      1\u001b[0m \u001b[38;5;28;01mimport\u001b[39;00m \u001b[38;5;21;01mrandom\u001b[39;00m\n\u001b[1;32m----> 2\u001b[0m random\u001b[38;5;241m.\u001b[39mrandint(\u001b[38;5;124m\"\u001b[39m\u001b[38;5;124mhai\u001b[39m\u001b[38;5;124m\"\u001b[39m)\n",
      "\u001b[1;31mTypeError\u001b[0m: Random.randint() missing 1 required positional argument: 'b'"
     ]
    }
   ],
   "source": [
    "\n"
   ]
  },
  {
   "cell_type": "code",
   "execution_count": null,
   "id": "96478723",
   "metadata": {},
   "outputs": [],
   "source": [
    "#docstring means we are writing some informatiom and never write doc string as a initialising variable\n"
   ]
  },
  {
   "cell_type": "markdown",
   "id": "c59d0fe1",
   "metadata": {},
   "source": [
    "## boolean"
   ]
  },
  {
   "cell_type": "code",
   "execution_count": 4,
   "id": "6bbc7fc5",
   "metadata": {},
   "outputs": [
    {
     "ename": "SyntaxError",
     "evalue": "cannot assign to True (2386687566.py, line 3)",
     "output_type": "error",
     "traceback": [
      "\u001b[1;36m  Cell \u001b[1;32mIn[4], line 3\u001b[1;36m\u001b[0m\n\u001b[1;33m    True=1  #keyword\u001b[0m\n\u001b[1;37m    ^\u001b[0m\n\u001b[1;31mSyntaxError\u001b[0m\u001b[1;31m:\u001b[0m cannot assign to True\n"
     ]
    }
   ],
   "source": [
    "#whenever if you ask any question to the computer\n",
    "#what it gives and it gives in either true or false form\n",
    "True=1  #keyword\n",
    "False=0  # \n",
    "\n",
    "value= False # we are assigning false in a variable value\n"
   ]
  },
  {
   "cell_type": "code",
   "execution_count": 2,
   "id": "f43379ac",
   "metadata": {},
   "outputs": [
    {
     "ename": "NameError",
     "evalue": "name 'value' is not defined",
     "output_type": "error",
     "traceback": [
      "\u001b[1;31m---------------------------------------------------------------------------\u001b[0m",
      "\u001b[1;31mNameError\u001b[0m                                 Traceback (most recent call last)",
      "Cell \u001b[1;32mIn[2], line 1\u001b[0m\n\u001b[1;32m----> 1\u001b[0m \u001b[38;5;28mtype\u001b[39m(value)\n",
      "\u001b[1;31mNameError\u001b[0m: name 'value' is not defined"
     ]
    }
   ],
   "source": [
    "type(value)\n"
   ]
  },
  {
   "cell_type": "raw",
   "id": "82b403b5",
   "metadata": {},
   "source": []
  },
  {
   "cell_type": "code",
   "execution_count": 5,
   "id": "8ce358c0",
   "metadata": {},
   "outputs": [
    {
     "data": {
      "text/plain": [
       "bool"
      ]
     },
     "execution_count": 5,
     "metadata": {},
     "output_type": "execute_result"
    }
   ],
   "source": [
    "value1=True\n",
    "type(value1)"
   ]
  },
  {
   "cell_type": "code",
   "execution_count": null,
   "id": "ddf94bd1",
   "metadata": {},
   "outputs": [],
   "source": [
    "name1=True #boolean\n",
    "name2=True  #both are variables\n",
    "name3=\"True\"  #string"
   ]
  },
  {
   "cell_type": "code",
   "execution_count": null,
   "id": "53a98561",
   "metadata": {},
   "outputs": [],
   "source": [
    "true=100  #100 is saving in a variable true\n",
    "name2=true #true is saving in a variable name 2\n",
    "name2   #so name2 = 100  \n",
    "left=right\n",
    "100=200 #left side always variables are available and right side numbers are available \n"
   ]
  },
  {
   "cell_type": "markdown",
   "id": "a0354c5f",
   "metadata": {},
   "source": [
    "**Complex-conjugate**"
   ]
  },
  {
   "cell_type": "code",
   "execution_count": 6,
   "id": "bd0130ad",
   "metadata": {},
   "outputs": [
    {
     "ename": "SyntaxError",
     "evalue": "invalid syntax (636163474.py, line 2)",
     "output_type": "error",
     "traceback": [
      "\u001b[1;36m  Cell \u001b[1;32mIn[6], line 2\u001b[1;36m\u001b[0m\n\u001b[1;33m    - where a=real number\u001b[0m\n\u001b[1;37m            ^\u001b[0m\n\u001b[1;31mSyntaxError\u001b[0m\u001b[1;31m:\u001b[0m invalid syntax\n"
     ]
    }
   ],
   "source": [
    "- a+jb or a+ib\n",
    "- where a=real number\n",
    "b=imagionary number\n",
    "i= sqrt(-1)"
   ]
  },
  {
   "cell_type": "code",
   "execution_count": 8,
   "id": "b893a946",
   "metadata": {},
   "outputs": [
    {
     "data": {
      "text/plain": [
       "(3+5j)"
      ]
     },
     "execution_count": 8,
     "metadata": {},
     "output_type": "execute_result"
    }
   ],
   "source": [
    "number= 3+5j\n",
    "number"
   ]
  },
  {
   "cell_type": "code",
   "execution_count": 9,
   "id": "739157f1",
   "metadata": {},
   "outputs": [
    {
     "data": {
      "text/plain": [
       "complex"
      ]
     },
     "execution_count": 9,
     "metadata": {},
     "output_type": "execute_result"
    }
   ],
   "source": [
    "type(number)"
   ]
  },
  {
   "cell_type": "code",
   "execution_count": 10,
   "id": "ab4d1ee1",
   "metadata": {},
   "outputs": [
    {
     "data": {
      "text/plain": [
       "(3-5j)"
      ]
     },
     "execution_count": 10,
     "metadata": {},
     "output_type": "execute_result"
    }
   ],
   "source": [
    "number1=3-5j\n",
    "number1"
   ]
  },
  {
   "cell_type": "code",
   "execution_count": 11,
   "id": "185165ab",
   "metadata": {},
   "outputs": [
    {
     "data": {
      "text/plain": [
       "(3+5j)"
      ]
     },
     "execution_count": 11,
     "metadata": {},
     "output_type": "execute_result"
    }
   ],
   "source": [
    "# if i want to retrieve only real value seperately\n",
    "3+5j\n",
    "#3 is real\n",
    "#5 is imaginary\n"
   ]
  },
  {
   "cell_type": "code",
   "execution_count": 12,
   "id": "2c918cb9",
   "metadata": {},
   "outputs": [
    {
     "data": {
      "text/plain": [
       "(3+5j)"
      ]
     },
     "execution_count": 12,
     "metadata": {},
     "output_type": "execute_result"
    }
   ],
   "source": [
    "number=3+5j\n",
    "number"
   ]
  },
  {
   "cell_type": "code",
   "execution_count": 13,
   "id": "a62a6b3a",
   "metadata": {},
   "outputs": [
    {
     "data": {
      "text/plain": [
       "['__abs__',\n",
       " '__add__',\n",
       " '__bool__',\n",
       " '__class__',\n",
       " '__complex__',\n",
       " '__delattr__',\n",
       " '__dir__',\n",
       " '__doc__',\n",
       " '__eq__',\n",
       " '__format__',\n",
       " '__ge__',\n",
       " '__getattribute__',\n",
       " '__getnewargs__',\n",
       " '__getstate__',\n",
       " '__gt__',\n",
       " '__hash__',\n",
       " '__init__',\n",
       " '__init_subclass__',\n",
       " '__le__',\n",
       " '__lt__',\n",
       " '__mul__',\n",
       " '__ne__',\n",
       " '__neg__',\n",
       " '__new__',\n",
       " '__pos__',\n",
       " '__pow__',\n",
       " '__radd__',\n",
       " '__reduce__',\n",
       " '__reduce_ex__',\n",
       " '__repr__',\n",
       " '__rmul__',\n",
       " '__rpow__',\n",
       " '__rsub__',\n",
       " '__rtruediv__',\n",
       " '__setattr__',\n",
       " '__sizeof__',\n",
       " '__str__',\n",
       " '__sub__',\n",
       " '__subclasshook__',\n",
       " '__truediv__',\n",
       " 'conjugate',\n",
       " 'imag',\n",
       " 'real']"
      ]
     },
     "execution_count": 13,
     "metadata": {},
     "output_type": "execute_result"
    }
   ],
   "source": [
    "dir(number)"
   ]
  },
  {
   "cell_type": "code",
   "execution_count": 14,
   "id": "4fad5308",
   "metadata": {},
   "outputs": [
    {
     "data": {
      "text/plain": [
       "3.0"
      ]
     },
     "execution_count": 14,
     "metadata": {},
     "output_type": "execute_result"
    }
   ],
   "source": [
    "number.real #<package name>.<method>"
   ]
  },
  {
   "cell_type": "code",
   "execution_count": 15,
   "id": "f2d88b76",
   "metadata": {},
   "outputs": [
    {
     "data": {
      "text/plain": [
       "5.0"
      ]
     },
     "execution_count": 15,
     "metadata": {},
     "output_type": "execute_result"
    }
   ],
   "source": [
    "number.imag"
   ]
  },
  {
   "cell_type": "code",
   "execution_count": 16,
   "id": "f24faafb",
   "metadata": {},
   "outputs": [
    {
     "data": {
      "text/plain": [
       "<function complex.conjugate()>"
      ]
     },
     "execution_count": 16,
     "metadata": {},
     "output_type": "execute_result"
    }
   ],
   "source": [
    "number.conjugate"
   ]
  },
  {
   "cell_type": "code",
   "execution_count": 17,
   "id": "e5cb7742",
   "metadata": {},
   "outputs": [
    {
     "data": {
      "text/plain": [
       "(3-5j)"
      ]
     },
     "execution_count": 17,
     "metadata": {},
     "output_type": "execute_result"
    }
   ],
   "source": [
    "number.conjugate()"
   ]
  },
  {
   "cell_type": "code",
   "execution_count": 18,
   "id": "232177c2",
   "metadata": {},
   "outputs": [],
   "source": [
    "# + become -\n",
    "# - become +"
   ]
  },
  {
   "cell_type": "code",
   "execution_count": 20,
   "id": "f25f02ba",
   "metadata": {},
   "outputs": [],
   "source": [
    "number1=3-5j\n",
    "#number1.real= 3\n",
    "#number.imag=5\n",
    "#number1.conjugate =3+5j"
   ]
  },
  {
   "cell_type": "code",
   "execution_count": 21,
   "id": "16c175d9",
   "metadata": {},
   "outputs": [
    {
     "data": {
      "text/plain": [
       "(4+10j)"
      ]
     },
     "execution_count": 21,
     "metadata": {},
     "output_type": "execute_result"
    }
   ],
   "source": [
    "complex(4,10)"
   ]
  },
  {
   "cell_type": "code",
   "execution_count": 22,
   "id": "2c5693db",
   "metadata": {},
   "outputs": [
    {
     "data": {
      "text/plain": [
       "(4-10j)"
      ]
     },
     "execution_count": 22,
     "metadata": {},
     "output_type": "execute_result"
    }
   ],
   "source": [
    "complex(4,-10)"
   ]
  },
  {
   "cell_type": "code",
   "execution_count": 23,
   "id": "ab49b243",
   "metadata": {},
   "outputs": [
    {
     "data": {
      "text/plain": [
       "0j"
      ]
     },
     "execution_count": 23,
     "metadata": {},
     "output_type": "execute_result"
    }
   ],
   "source": [
    "complex()  #if we dont provide any values in the braces it is called default parameters/arguments real,imag=0\n",
    "#python will give answer as 0j only"
   ]
  },
  {
   "cell_type": "markdown",
   "id": "4b7a34a9",
   "metadata": {},
   "source": [
    "-whenever if you see any brackets (), that is called function\n",
    "-another name of function is called method\n",
    "-inside brackets what are seeing is called parameters\n",
    "- another name for parameters is arguments"
   ]
  },
  {
   "cell_type": "code",
   "execution_count": 29,
   "id": "2c260ea9",
   "metadata": {},
   "outputs": [
    {
     "data": {
      "text/plain": [
       "94"
      ]
     },
     "execution_count": 29,
     "metadata": {},
     "output_type": "execute_result"
    }
   ],
   "source": [
    "import random\n",
    "random.randint(1,100)"
   ]
  },
  {
   "cell_type": "code",
   "execution_count": 28,
   "id": "ce46fc5d",
   "metadata": {},
   "outputs": [
    {
     "ename": "SyntaxError",
     "evalue": "invalid syntax (3090801656.py, line 2)",
     "output_type": "error",
     "traceback": [
      "\u001b[1;36m  Cell \u001b[1;32mIn[28], line 2\u001b[1;36m\u001b[0m\n\u001b[1;33m    math.sin(x, /)\u001b[0m\n\u001b[1;37m                ^\u001b[0m\n\u001b[1;31mSyntaxError\u001b[0m\u001b[1;31m:\u001b[0m invalid syntax\n"
     ]
    }
   ],
   "source": [
    "import math\n",
    "math.sin(x, /)"
   ]
  },
  {
   "cell_type": "code",
   "execution_count": null,
   "id": "c84f0af0",
   "metadata": {},
   "outputs": [],
   "source": [
    "random.randint()-error is coming\n",
    "math.sin()-error is coming\n",
    "complex()-error is not there \n"
   ]
  }
 ],
 "metadata": {
  "kernelspec": {
   "display_name": "Python 3 (ipykernel)",
   "language": "python",
   "name": "python3"
  },
  "language_info": {
   "codemirror_mode": {
    "name": "ipython",
    "version": 3
   },
   "file_extension": ".py",
   "mimetype": "text/x-python",
   "name": "python",
   "nbconvert_exporter": "python",
   "pygments_lexer": "ipython3",
   "version": "3.11.5"
  }
 },
 "nbformat": 4,
 "nbformat_minor": 5
}
