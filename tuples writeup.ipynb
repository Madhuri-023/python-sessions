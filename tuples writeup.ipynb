{
 "cells": [
  {
   "cell_type": "markdown",
   "id": "79772617",
   "metadata": {},
   "source": [
    "**TUPLE**"
   ]
  },
  {
   "cell_type": "markdown",
   "id": "6924bcd0",
   "metadata": {},
   "source": [
    "- A tuple represents a sequence of any objects\n",
    "- separated by commas and enclosed in parentheses. \n",
    "- A tuple is an immutable object, which means it cannot be changed, \n",
    "- and we use it to represent fixed collections of items"
   ]
  },
  {
   "cell_type": "code",
   "execution_count": 2,
   "id": "03f2401f",
   "metadata": {},
   "outputs": [
    {
     "name": "stdout",
     "output_type": "stream",
     "text": [
      "('apple', 'banana', 'cherry')\n"
     ]
    }
   ],
   "source": [
    "#EXAMPLE:\n",
    "mytuple = (\"apple\", \"banana\", \"cherry\")\n",
    "thistuple = (\"apple\", \"banana\", \"cherry\")\n",
    "print(thistuple)"
   ]
  },
  {
   "cell_type": "markdown",
   "id": "d8b1992d",
   "metadata": {},
   "source": [
    "**Create Tuple With One Item**"
   ]
  },
  {
   "cell_type": "code",
   "execution_count": 7,
   "id": "95982965",
   "metadata": {},
   "outputs": [
    {
     "name": "stdout",
     "output_type": "stream",
     "text": [
      "<class 'tuple'>\n",
      "<class 'str'>\n"
     ]
    }
   ],
   "source": [
    "#To create a tuple with only one item,you have to add a comma after the item, \n",
    "#otherwise Python will not recognize it as a tuple.\n",
    "thistuple = (\"apple\",)\n",
    "print(type(thistuple))\n",
    "\n",
    "#NOT a tuple\n",
    "thistuple = (\"apple\")\n",
    "print(type(thistuple))"
   ]
  },
  {
   "cell_type": "markdown",
   "id": "85a367c6",
   "metadata": {},
   "source": [
    "**TYPE**"
   ]
  },
  {
   "cell_type": "code",
   "execution_count": 5,
   "id": "3781e0f4",
   "metadata": {},
   "outputs": [
    {
     "name": "stdout",
     "output_type": "stream",
     "text": [
      "Type of my_tuple: <class 'tuple'>\n"
     ]
    }
   ],
   "source": [
    "#the type() function is used to determine the type of an object.\n",
    "#When applied to a tuple, it returns the type of the tuple object.\n",
    "#Let's explore this with an example:\n",
    "# Creating a tuple\n",
    "my_tuple = (1, 'hello', 3.14, True)\n",
    "\n",
    "# Checking the type of the tuple\n",
    "tuple_type = type(my_tuple)\n",
    "\n",
    "# Displaying the result\n",
    "print(\"Type of my_tuple:\", tuple_type)\n"
   ]
  },
  {
   "cell_type": "markdown",
   "id": "b449a7a2",
   "metadata": {},
   "source": [
    "**LEN**"
   ]
  },
  {
   "cell_type": "code",
   "execution_count": 6,
   "id": "6765e953",
   "metadata": {},
   "outputs": [
    {
     "name": "stdout",
     "output_type": "stream",
     "text": [
      "Length of my_tuple: 4\n"
     ]
    }
   ],
   "source": [
    "#which is used to determine the length or the number of elements in a sequence,\n",
    "#including tuples\n",
    "my_tuple = (1, 'hello', 3.14, True)\n",
    "\n",
    "# Getting the length of the tuple\n",
    "tuple_length = len(my_tuple)\n",
    "\n",
    "# Displaying the result\n",
    "print(\"Length of my_tuple:\", tuple_length)\n"
   ]
  },
  {
   "cell_type": "markdown",
   "id": "8c6f551d",
   "metadata": {},
   "source": [
    "**IN**"
   ]
  },
  {
   "cell_type": "code",
   "execution_count": 8,
   "id": "5e93a80a",
   "metadata": {},
   "outputs": [
    {
     "name": "stdout",
     "output_type": "stream",
     "text": [
      "True\n",
      "False\n"
     ]
    }
   ],
   "source": [
    "#We use the ‘in’ operator to check if the object is present in the tuple\n",
    "tuple=('GOOGLE', 'is', 'the', 'best', 'platform', 'to', 'learn', 'new', 'skills')\n",
    "print(\"GOOGLE\" in tuple)\n",
    "print(\"HelloWorld\" in tuple)"
   ]
  },
  {
   "cell_type": "markdown",
   "id": "2bcdc296",
   "metadata": {},
   "source": [
    "**MAX-MIN**"
   ]
  },
  {
   "cell_type": "code",
   "execution_count": 10,
   "id": "e3bfbe89",
   "metadata": {},
   "outputs": [
    {
     "name": "stdout",
     "output_type": "stream",
     "text": [
      "Maximum value: 15\n",
      "Minimum value: 3\n"
     ]
    }
   ],
   "source": [
    "#The max()&min()can be used with tuples to find the max and min values.\n",
    "#These functions work with any iterable, including tuples.\n",
    "# Creating a tuple of numbers\n",
    "numbers_tuple = (5, 12, 8, 3, 15, 7)\n",
    "\n",
    "# Using the 'max' and 'min' functions with the tuple\n",
    "max_value = max(numbers_tuple)\n",
    "min_value = min(numbers_tuple)\n",
    "\n",
    "# Displaying the results\n",
    "print(\"Maximum value:\", max_value)\n",
    "print(\"Minimum value:\", min_value)\n"
   ]
  },
  {
   "cell_type": "markdown",
   "id": "e1955dd1",
   "metadata": {},
   "source": [
    "**concatenation**"
   ]
  },
  {
   "cell_type": "code",
   "execution_count": 12,
   "id": "dd974200",
   "metadata": {},
   "outputs": [
    {
     "name": "stdout",
     "output_type": "stream",
     "text": [
      "Concatenated tuple: (1, 2, 3, 'apple', 'banana', 'orange')\n"
     ]
    }
   ],
   "source": [
    "#you can concatenate two tuples using the + operator.\n",
    "#his creates a new tuple containing the elements of both tuples\n",
    "# Creating two tuples\n",
    "tuple1 = (1, 2, 3)\n",
    "tuple2 = ('apple', 'banana', 'orange')\n",
    "\n",
    "# Concatenating the tuples\n",
    "concatenated_tuple = tuple1 + tuple2\n",
    "\n",
    "# Displaying the result\n",
    "print(\"Concatenated tuple:\", concatenated_tuple)\n"
   ]
  },
  {
   "cell_type": "markdown",
   "id": "56028559",
   "metadata": {},
   "source": [
    "**multiplication-subtraction-division**"
   ]
  },
  {
   "cell_type": "markdown",
   "id": "419e1c15",
   "metadata": {},
   "source": [
    "- Unlike lists or arrays, tuples in Python do not support direct mul,div,sub\n",
    "- Tuples are immutable, meaning their elements cannot be changed after creation. \n",
    " - operations like mul and sub that would modify the elements are not applicable to tuples."
   ]
  },
  {
   "cell_type": "code",
   "execution_count": 13,
   "id": "7169cdef",
   "metadata": {},
   "outputs": [
    {
     "name": "stdout",
     "output_type": "stream",
     "text": [
      "Multiplication (repeating tuple1): (1, 2, 3, 1, 2, 3, 1, 2, 3)\n",
      "Concatenation (adding tuple1 and tuple2): (1, 2, 3, 4, 5, 6)\n"
     ]
    }
   ],
   "source": [
    "#here is the example:\n",
    "# Creating two tuples\n",
    "tuple1 = (1, 2, 3)\n",
    "tuple2 = (4, 5, 6)\n",
    "\n",
    "# Multiplication (repeating a tuple)\n",
    "result_multiply = tuple1 * 3\n",
    "\n",
    "# Concatenation (simulating addition)\n",
    "result_add = tuple1 + tuple2\n",
    "\n",
    "# Displaying the results\n",
    "print(\"Multiplication (repeating tuple1):\", result_multiply)\n",
    "print(\"Concatenation (adding tuple1 and tuple2):\", result_add)\n"
   ]
  },
  {
   "cell_type": "markdown",
   "id": "b63fd616",
   "metadata": {},
   "source": [
    "**indexing**"
   ]
  },
  {
   "cell_type": "code",
   "execution_count": 14,
   "id": "487e2f9c",
   "metadata": {},
   "outputs": [
    {
     "name": "stdout",
     "output_type": "stream",
     "text": [
      "The first element: 0\n",
      "The last element: 7.0\n",
      "The data type of the second element: <class 'list'>\n"
     ]
    }
   ],
   "source": [
    "#tuple is a sequence of objects, we can access these objects through indexing\n",
    "#Let’s try indexing a tuple:\n",
    "a_tuple = (0, [1, 2, 3], (4, 5, 6), 7.0)\n",
    "print('The first element:', a_tuple[0])\n",
    "print('The last element:', a_tuple[-1])\n",
    "print('The data type of the second element:', type(a_tuple[1]))\n",
    "#in this 1st&2nd lines return the values of the tuples 1st&last elements.\n",
    "#The last statement prints out the data type\n",
    "#of the second element of the tuple which is a list object.\n"
   ]
  },
  {
   "cell_type": "markdown",
   "id": "1592ea55",
   "metadata": {},
   "source": [
    "**slicing**"
   ]
  },
  {
   "cell_type": "markdown",
   "id": "bfeec90d",
   "metadata": {},
   "source": [
    "- slicing a tuple is as simple as slicing a Python string or a list with the same rules.\n",
    "- To get a range of elements within a tuple,\n",
    "- we can specify a range of indices to retrieve by selecting\n",
    "- where to start (inclusive) and end (exclusive) the range."
   ]
  },
  {
   "cell_type": "code",
   "execution_count": 15,
   "id": "c307e3e2",
   "metadata": {},
   "outputs": [
    {
     "name": "stdout",
     "output_type": "stream",
     "text": [
      "(2, 4, 5)\n",
      "(8, 10)\n",
      "(7, 8, 10)\n",
      "(5, 7, 8)\n"
     ]
    }
   ],
   "source": [
    "num_tuple = 2, 4, 5, 7, 8, 10\n",
    "print(num_tuple[:3])\n",
    "print(num_tuple[4:])\n",
    "print(num_tuple[-3:])\n",
    "print(num_tuple[2:5])"
   ]
  },
  {
   "cell_type": "markdown",
   "id": "6bf969fa",
   "metadata": {},
   "source": [
    "**TUPLE METHODS**"
   ]
  },
  {
   "cell_type": "markdown",
   "id": "896b6d04",
   "metadata": {},
   "source": [
    "## Tuple count() Method ##"
   ]
  },
  {
   "cell_type": "code",
   "execution_count": 16,
   "id": "3b895705",
   "metadata": {},
   "outputs": [
    {
     "name": "stdout",
     "output_type": "stream",
     "text": [
      "2\n"
     ]
    }
   ],
   "source": [
    "#Returns the number of times a specified value occurs in a tuple\n",
    "#Return the number of times the value \"5\" appears in the tuple:\n",
    "thistuple = (1, 3, 7, 8, 7, 5, 4, 6, 8, 5)\n",
    "\n",
    "x = thistuple.count(5)\n",
    "\n",
    "print(x)"
   ]
  },
  {
   "cell_type": "markdown",
   "id": "0acb3cca",
   "metadata": {},
   "source": [
    "## Tuple index() Method ##"
   ]
  },
  {
   "cell_type": "code",
   "execution_count": 17,
   "id": "6b81bf34",
   "metadata": {},
   "outputs": [
    {
     "name": "stdout",
     "output_type": "stream",
     "text": [
      "3\n"
     ]
    }
   ],
   "source": [
    "#Searches the tuple for a specified value and \n",
    "#returns the position of where it was found\n",
    "#Search for the first occurrence of the value 8, \n",
    "#and return its position:\n",
    "thistuple = (1, 3, 7, 8, 7, 5, 4, 6, 8, 5)\n",
    "\n",
    "x = thistuple.index(8)\n",
    "\n",
    "print(x)"
   ]
  },
  {
   "cell_type": "code",
   "execution_count": null,
   "id": "d1d63d69",
   "metadata": {},
   "outputs": [],
   "source": []
  }
 ],
 "metadata": {
  "kernelspec": {
   "display_name": "Python 3 (ipykernel)",
   "language": "python",
   "name": "python3"
  },
  "language_info": {
   "codemirror_mode": {
    "name": "ipython",
    "version": 3
   },
   "file_extension": ".py",
   "mimetype": "text/x-python",
   "name": "python",
   "nbconvert_exporter": "python",
   "pygments_lexer": "ipython3",
   "version": "3.11.5"
  }
 },
 "nbformat": 4,
 "nbformat_minor": 5
}
