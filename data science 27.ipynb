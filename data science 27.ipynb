{
 "cells": [
  {
   "cell_type": "markdown",
   "id": "9104f3a6",
   "metadata": {},
   "source": [
    "**possible errors**\n",
    "\n",
    "\n",
    "1. name error\n",
    "2. syntax error: '(' was never closed\n",
    "3.  zero division error :division by zero\n",
    "4.  type error : unsupported operand type(s) for /: 'str' and 'int'\n",
    "5. missing paranthesis in call to 'print'. did you mean (....)?\n",
    "6. indentation : space  if red colour appears the indentation is not maintained properly\n",
    "7. ***note*** : indentation will need atleast 4 spaces\n",
    "8. tab can be used inorder to get indentations\n",
    "9.  or else select all and enter tab  will set all the cod with correct indentation           \n",
    " 10. colon is there then indentation will be there"
   ]
  },
  {
   "cell_type": "markdown",
   "id": "5c779147",
   "metadata": {},
   "source": [
    "suppose assume that you have written 500 lines of code\n",
    "200th line we got an error\n",
    "this error is might not impact your code\n",
    "so you want to execute\n",
    "\n",
    "\n",
    "\n",
    "**exception handling**\n",
    "\n",
    "\n",
    "$try$ -$except$ \n",
    "are the keywords in exception handling\n",
    "\n",
    "-there are two blocks one is \n",
    "-try block\n",
    "- exception block \n",
    "-your code will br available in try block\n",
    "-error capture will happens in except block"
   ]
  },
  {
   "cell_type": "code",
   "execution_count": 3,
   "id": "835ceee6",
   "metadata": {},
   "outputs": [
    {
     "ename": "SyntaxError",
     "evalue": "expected 'except' or 'finally' block (84616566.py, line 4)",
     "output_type": "error",
     "traceback": [
      "\u001b[1;36m  Cell \u001b[1;32mIn[3], line 4\u001b[1;36m\u001b[0m\n\u001b[1;33m    -in try block all the alignments are in same way in every row i.e, the statements are under the try block\u001b[0m\n\u001b[1;37m    ^\u001b[0m\n\u001b[1;31mSyntaxError\u001b[0m\u001b[1;31m:\u001b[0m expected 'except' or 'finally' block\n"
     ]
    }
   ],
   "source": [
    "try:\n",
    "    num=10\n",
    "    num2=20    \n",
    "-in try block all the alignments are in same way in every row i.e, the statements are under the try block\n",
    "    "
   ]
  },
  {
   "cell_type": "code",
   "execution_count": null,
   "id": "2ea023ca",
   "metadata": {},
   "outputs": [],
   "source": [
    "try:\n",
    "    num=10\n",
    "    num2=20         #tab can be used inorder to get indentations\n",
    "                     #or else select all and enter tab  will set all the cod with correct indentations\n",
    "                     #colon is there then indentation will be there\n",
    "    num3=30"
   ]
  },
  {
   "cell_type": "markdown",
   "id": "96a5d776",
   "metadata": {},
   "source": [
    "**except block**"
   ]
  },
  {
   "cell_type": "code",
   "execution_count": null,
   "id": "51d3187e",
   "metadata": {},
   "outputs": [],
   "source": [
    "except:\n",
    "    print('error is there,check code')\n",
    "    "
   ]
  },
  {
   "cell_type": "code",
   "execution_count": 5,
   "id": "007106ad",
   "metadata": {},
   "outputs": [
    {
     "name": "stdout",
     "output_type": "stream",
     "text": [
      "0.3333333333333333\n"
     ]
    }
   ],
   "source": [
    "#method-1\n",
    "\n",
    "try:\n",
    "    num1=10\n",
    "    num2=30\n",
    "    num3=20\n",
    "    add=num1/num2\n",
    "    print(add)\n",
    "    \n",
    "except:\n",
    "    print('erros are there,check code')"
   ]
  },
  {
   "cell_type": "code",
   "execution_count": 6,
   "id": "d6050861",
   "metadata": {},
   "outputs": [
    {
     "ename": "ZeroDivisionError",
     "evalue": "division by zero",
     "output_type": "error",
     "traceback": [
      "\u001b[1;31m---------------------------------------------------------------------------\u001b[0m",
      "\u001b[1;31mZeroDivisionError\u001b[0m                         Traceback (most recent call last)",
      "Cell \u001b[1;32mIn[6], line 6\u001b[0m\n\u001b[0;32m      4\u001b[0m num1\u001b[38;5;241m=\u001b[39m\u001b[38;5;241m10\u001b[39m\n\u001b[0;32m      5\u001b[0m num2\u001b[38;5;241m=\u001b[39m\u001b[38;5;241m0\u001b[39m\n\u001b[1;32m----> 6\u001b[0m add\u001b[38;5;241m=\u001b[39mnum1\u001b[38;5;241m/\u001b[39mnum2\n\u001b[0;32m      7\u001b[0m \u001b[38;5;28mprint\u001b[39m(add)\n",
      "\u001b[1;31mZeroDivisionError\u001b[0m: division by zero"
     ]
    }
   ],
   "source": [
    "#method-2\n",
    "\n",
    "\n",
    "num1=10\n",
    "num2=0\n",
    "add=num1/num2\n",
    "print(add)\n",
    "\n"
   ]
  },
  {
   "cell_type": "code",
   "execution_count": 9,
   "id": "09d9c420",
   "metadata": {},
   "outputs": [
    {
     "name": "stdout",
     "output_type": "stream",
     "text": [
      "enter the first number10\n",
      "enter the second number20\n",
      "enter the third number30\n",
      "the average of 10,20 and 30 is 10.0\n"
     ]
    }
   ],
   "source": [
    "# wap ask the user to enter 3 nos and find their average\n",
    "\n",
    "\n",
    "a=eval(input('enter the first number'))\n",
    "b=eval(input('enter the second number'))\n",
    "c=eval(input('enter the third number'))\n",
    "average=(num1+num2+num3)/3\n",
    "print('the average of {},{} and {} is {}'.format(a,b,c,average))"
   ]
  },
  {
   "cell_type": "code",
   "execution_count": 11,
   "id": "e0407675",
   "metadata": {},
   "outputs": [
    {
     "name": "stdout",
     "output_type": "stream",
     "text": [
      "enter the first number10\n",
      "enter the second number20\n",
      "enter the third number30\n",
      "the average of 10,20 and 30 is 20.0\n"
     ]
    }
   ],
   "source": [
    "try:\n",
    "    num1=eval(input('enter the first number'))\n",
    "    num2=eval(input('enter the second number'))\n",
    "    num3=eval(input('enter the third number'))\n",
    "    average=(num1+num2+num3)/3\n",
    "    print('the average of {},{} and {} is {}'.format(a,b,c,average))\n",
    "    \n",
    "except:\n",
    "    print('check the code')\n"
   ]
  },
  {
   "cell_type": "code",
   "execution_count": null,
   "id": "6f2e574e",
   "metadata": {},
   "outputs": [],
   "source": [
    "#whate ever we are having as errors those are checked in exception block"
   ]
  },
  {
   "cell_type": "code",
   "execution_count": 13,
   "id": "5b31f6a6",
   "metadata": {},
   "outputs": [
    {
     "ename": "SyntaxError",
     "evalue": "invalid syntax (1017595423.py, line 1)",
     "output_type": "error",
     "traceback": [
      "\u001b[1;36m  Cell \u001b[1;32mIn[13], line 1\u001b[1;36m\u001b[0m\n\u001b[1;33m    except Exception as e:\u001b[0m\n\u001b[1;37m    ^\u001b[0m\n\u001b[1;31mSyntaxError\u001b[0m\u001b[1;31m:\u001b[0m invalid syntax\n"
     ]
    }
   ],
   "source": [
    "except Exception as e:\n",
    "                       print(e)"
   ]
  },
  {
   "cell_type": "code",
   "execution_count": 15,
   "id": "4b8a844c",
   "metadata": {},
   "outputs": [
    {
     "name": "stdout",
     "output_type": "stream",
     "text": [
      "enter the first number10\n",
      "enter the second number20\n",
      "enter the third number30\n",
      "the average of 10,20 and 30 is 20.0\n"
     ]
    }
   ],
   "source": [
    "try:\n",
    "    num1=eval(input('enter the first number'))\n",
    "    num2=eval(input('enter the second number'))\n",
    "    num3=eval(input('enter the third number'))\n",
    "    average=(num1+num2+num3)/3\n",
    "    print('the average of {},{} and {} is {}'.format(a,b,c,average))\n",
    "    \n",
    "except Exception as e:\n",
    "    print(e)\n",
    "    \n",
    "    \n",
    "    "
   ]
  },
  {
   "cell_type": "code",
   "execution_count": 16,
   "id": "14a913f1",
   "metadata": {},
   "outputs": [
    {
     "name": "stdout",
     "output_type": "stream",
     "text": [
      "enter the first number10\n",
      "enter the second number20\n",
      "enter the third number30\n",
      "division by zero\n"
     ]
    }
   ],
   "source": [
    "try:\n",
    "    num1=eval(input('enter the first number'))\n",
    "    num2=eval(input('enter the second number'))\n",
    "    num3=eval(input('enter the third number'))\n",
    "    average=(num1+num2+num3)/0\n",
    "    print('the average of {},{} and {} is {}'.format(a,b,c,average))\n",
    "    \n",
    "except Exception as e:\n",
    "    print(e)"
   ]
  },
  {
   "cell_type": "code",
   "execution_count": 19,
   "id": "b107ca3d",
   "metadata": {},
   "outputs": [
    {
     "ename": "SyntaxError",
     "evalue": "incomplete input (3062992614.py, line 6)",
     "output_type": "error",
     "traceback": [
      "\u001b[1;36m  Cell \u001b[1;32mIn[19], line 6\u001b[1;36m\u001b[0m\n\u001b[1;33m    print('the square of {} is {}'.format(num1,sqr))\u001b[0m\n\u001b[1;37m                                                    ^\u001b[0m\n\u001b[1;31mSyntaxError\u001b[0m\u001b[1;31m:\u001b[0m incomplete input\n"
     ]
    }
   ],
   "source": [
    "#wap ask the user enter a number and find the square of the number\n",
    "\n",
    "try:\n",
    "    num1=eval(input('enter a number:')) \n",
    "    sqr=a*a\n",
    "    print('the square of {} is {}'.format(num1,sqr))"
   ]
  },
  {
   "cell_type": "code",
   "execution_count": 20,
   "id": "48037c83",
   "metadata": {},
   "outputs": [
    {
     "name": "stdout",
     "output_type": "stream",
     "text": [
      "enter a number:4\n",
      "the square of 4 is 16\n"
     ]
    }
   ],
   "source": [
    "num=eval(input('enter a number:'))\n",
    "print('the square of {} is {}'.format(num,num*num))"
   ]
  },
  {
   "cell_type": "code",
   "execution_count": 21,
   "id": "19776448",
   "metadata": {},
   "outputs": [
    {
     "name": "stdout",
     "output_type": "stream",
     "text": [
      "enter a number:4\n",
      "the square of 4 is 16\n"
     ]
    }
   ],
   "source": [
    "try:\n",
    "    num=eval(input('enter a number:'))\n",
    "    print('the square of {} is {}'.format(num,num*num))\n",
    "    \n",
    "    \n",
    "except Exception as e:\n",
    "    print(e)"
   ]
  },
  {
   "cell_type": "code",
   "execution_count": 22,
   "id": "eb48fc8c",
   "metadata": {},
   "outputs": [
    {
     "name": "stdout",
     "output_type": "stream",
     "text": [
      "enter a number:4\n",
      "name 'num222' is not defined\n"
     ]
    }
   ],
   "source": [
    "try:\n",
    "    num=eval(input('enter a number:'))\n",
    "    print('the square of {} is {}'.format(num,num222*num))\n",
    "    \n",
    "    \n",
    "except Exception as e:\n",
    "    print(e)   #capturing the error"
   ]
  },
  {
   "cell_type": "code",
   "execution_count": 24,
   "id": "cdedc571",
   "metadata": {},
   "outputs": [
    {
     "name": "stdout",
     "output_type": "stream",
     "text": [
      "enter a number:4\n",
      "the square of 4 is 16\n"
     ]
    }
   ],
   "source": [
    "try:\n",
    "    num=eval(input('enter a number:'))\n",
    "    print('the square of {} is {}'.format(num,num*num))\n",
    "    \n",
    "    \n",
    "except Exception as e:\n",
    "    print(e)\n",
    "    print('hello')"
   ]
  },
  {
   "cell_type": "code",
   "execution_count": 25,
   "id": "d788bae4",
   "metadata": {},
   "outputs": [
    {
     "name": "stdout",
     "output_type": "stream",
     "text": [
      "enter a number:4\n",
      "the square of 4 is 16\n"
     ]
    }
   ],
   "source": [
    "try:\n",
    "    num=eval(input('enter a number:'))\n",
    "    print('the square of {} is {}'.format(num,num*num))\n",
    "    \n",
    "    \n",
    "except Exception as e:\n",
    "    print('hai')       #whatever we write in exception block that will be exceuted\n",
    "    print(e)\n",
    "    print('hello')"
   ]
  },
  {
   "cell_type": "code",
   "execution_count": 26,
   "id": "04d7adba",
   "metadata": {},
   "outputs": [
    {
     "name": "stdout",
     "output_type": "stream",
     "text": [
      "enter a number:4\n",
      "the square of 4 is 16\n",
      "python\n",
      "1\n",
      "2\n"
     ]
    }
   ],
   "source": [
    "try:\n",
    "    num=eval(input('enter a number:'))\n",
    "    print('the square of {} is {}'.format(num,num*num))\n",
    "                                                        \n",
    "except Exception as e:\n",
    "    print('hai')      \n",
    "    print(e)\n",
    "    print('hello')\n",
    "    \n",
    "print('python')\n",
    "print(1)\n",
    "print(2)"
   ]
  },
  {
   "cell_type": "markdown",
   "id": "bd319554",
   "metadata": {},
   "source": [
    " **if we have error it will goes to except block and if we dont have error try block will be exceuted**\n",
    "    **try and exception blocks will be together always**\n",
    "  ** ones try and exception code are complete, it try to look any other lines of code are there**"
   ]
  },
  {
   "cell_type": "code",
   "execution_count": 28,
   "id": "0e21469c",
   "metadata": {},
   "outputs": [
    {
     "name": "stdout",
     "output_type": "stream",
     "text": [
      "========\n",
      "8\n",
      "******\n",
      "enter a number:4\n",
      "the square of 4 is 16\n",
      "python\n",
      "1\n",
      "2\n"
     ]
    }
   ],
   "source": [
    "print('========')\n",
    "print(3+5)\n",
    "print('******')\n",
    "\n",
    "try:\n",
    "    num=eval(input('enter a number:'))\n",
    "    print('the square of {} is {}'.format(num,num*num))\n",
    "                                                        \n",
    "except Exception as e:\n",
    "    print('hai')      \n",
    "    print(e)\n",
    "    print('hello')\n",
    "    \n",
    "print('python')\n",
    "print(1)\n",
    "print(2)"
   ]
  },
  {
   "cell_type": "code",
   "execution_count": 29,
   "id": "87d048a4",
   "metadata": {},
   "outputs": [
    {
     "ename": "SyntaxError",
     "evalue": "expected 'except' or 'finally' block (1293078908.py, line 8)",
     "output_type": "error",
     "traceback": [
      "\u001b[1;36m  Cell \u001b[1;32mIn[29], line 8\u001b[1;36m\u001b[0m\n\u001b[1;33m    print('out')\u001b[0m\n\u001b[1;37m    ^\u001b[0m\n\u001b[1;31mSyntaxError\u001b[0m\u001b[1;31m:\u001b[0m expected 'except' or 'finally' block\n"
     ]
    }
   ],
   "source": [
    "print('========')\n",
    "print(3+5)\n",
    "print('******')\n",
    "\n",
    "try:\n",
    "    num=eval(input('enter a number:'))\n",
    "    print('the square of {} is {}'.format(num,num*num))\n",
    "print('out')\n",
    "                                                        \n",
    "except Exception as e:\n",
    "    print('hai')      \n",
    "    print(e)\n",
    "    print('hello')\n",
    "    \n",
    "print('python')\n",
    "print(1)\n",
    "print(2)"
   ]
  },
  {
   "cell_type": "code",
   "execution_count": 31,
   "id": "6646367d",
   "metadata": {},
   "outputs": [
    {
     "ename": "IndentationError",
     "evalue": "unindent does not match any outer indentation level (<tokenize>, line 8)",
     "output_type": "error",
     "traceback": [
      "\u001b[1;36m  File \u001b[1;32m<tokenize>:8\u001b[1;36m\u001b[0m\n\u001b[1;33m    print('out')\u001b[0m\n\u001b[1;37m    ^\u001b[0m\n\u001b[1;31mIndentationError\u001b[0m\u001b[1;31m:\u001b[0m unindent does not match any outer indentation level\n"
     ]
    }
   ],
   "source": [
    "print('========')\n",
    "print(3+5)\n",
    "print('******')\n",
    "\n",
    "try:\n",
    "    num=eval(input('enter a number:'))\n",
    "    print('the square of {} is {}'.format(num,num*num))\n",
    " print('out')\n",
    "                                                        \n",
    "except Exception as e:\n",
    "    print('hai')      \n",
    "    print(e)\n",
    "    print('hello')\n",
    "    \n",
    "print('python')\n",
    "print(1)\n",
    "print(2)"
   ]
  },
  {
   "cell_type": "code",
   "execution_count": 32,
   "id": "1e43f940",
   "metadata": {},
   "outputs": [
    {
     "ename": "SyntaxError",
     "evalue": "invalid syntax (3140918866.py, line 1)",
     "output_type": "error",
     "traceback": [
      "\u001b[1;36m  Cell \u001b[1;32mIn[32], line 1\u001b[1;36m\u001b[0m\n\u001b[1;33m    except Exception as e:\u001b[0m\n\u001b[1;37m    ^\u001b[0m\n\u001b[1;31mSyntaxError\u001b[0m\u001b[1;31m:\u001b[0m invalid syntax\n"
     ]
    }
   ],
   "source": [
    "                                                        \n",
    "except Exception as e:\n",
    "    print('hai')      \n",
    "    print(e)\n",
    "    print('hello')\n",
    "    "
   ]
  },
  {
   "cell_type": "code",
   "execution_count": null,
   "id": "9233a10b",
   "metadata": {},
   "outputs": [],
   "source": []
  }
 ],
 "metadata": {
  "kernelspec": {
   "display_name": "Python 3 (ipykernel)",
   "language": "python",
   "name": "python3"
  },
  "language_info": {
   "codemirror_mode": {
    "name": "ipython",
    "version": 3
   },
   "file_extension": ".py",
   "mimetype": "text/x-python",
   "name": "python",
   "nbconvert_exporter": "python",
   "pygments_lexer": "ipython3",
   "version": "3.11.5"
  }
 },
 "nbformat": 4,
 "nbformat_minor": 5
}
