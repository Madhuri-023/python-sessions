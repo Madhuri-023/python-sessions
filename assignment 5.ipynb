{
 "cells": [
  {
   "cell_type": "code",
   "execution_count": 1,
   "id": "0a930091",
   "metadata": {},
   "outputs": [
    {
     "name": "stdout",
     "output_type": "stream",
     "text": [
      "guess the number:6\n",
      "sorry try again\n",
      "guess the number:4\n",
      "sorry try again\n",
      "guess the number:8\n",
      "sorry try again\n",
      "guess the number:9\n",
      "sorry try again\n",
      "guess the number:3\n",
      "you got it right!congo!\n"
     ]
    }
   ],
   "source": [
    "#1-answer\n",
    "import random\n",
    "number=random.randint(0,9)\n",
    "guess=eval(input('guess the number:'))\n",
    "while guess!=number:\n",
    "    print('sorry try again')\n",
    "    guess=eval(input('guess the number:'))\n",
    "print('you got it right!congo!')\n",
    "    \n",
    "    \n",
    "    "
   ]
  },
  {
   "cell_type": "code",
   "execution_count": 2,
   "id": "4480b7a6",
   "metadata": {},
   "outputs": [
    {
     "name": "stdout",
     "output_type": "stream",
     "text": [
      "Guess the number: 7\n",
      "Too low\n",
      "Guess the number: 5\n",
      "Too low\n",
      "Guess the number: 9\n",
      "You got it right! Congrats!\n"
     ]
    }
   ],
   "source": [
    "#2-answer\n",
    "\n",
    "import random\n",
    "\n",
    "number = random.randint(0, 9)\n",
    "attempts = 0\n",
    "\n",
    "while attempts < 3:\n",
    "    guess = eval(input(\"Guess the number: \"))\n",
    "    attempts += 1\n",
    "\n",
    "    if guess < number:\n",
    "        print(\"Too low\")\n",
    "    elif guess > number:\n",
    "        print(\"Too high\")\n",
    "    else:\n",
    "        print(\"You got it right! Congrats!\")\n",
    "        break\n",
    "else:\n",
    "    print(\"Sorry, you lost!\")"
   ]
  },
  {
   "cell_type": "code",
   "execution_count": 6,
   "id": "1c0d89ea",
   "metadata": {},
   "outputs": [
    {
     "name": "stdout",
     "output_type": "stream",
     "text": [
      "You have a cash of Rs. 1000 with you...\n",
      "Guess the number: 500\n",
      "Too high\n",
      "Guess the number: 200\n",
      "Too high\n",
      "Sorry you lost Rs. 500!\n",
      "Your remaining cash is Rs. 1500\n"
     ]
    }
   ],
   "source": [
    "#3-answer\n",
    "\n",
    "import random\n",
    "\n",
    "cash = 1000\n",
    "number = random.randint(0, 9)\n",
    "attempts = 0\n",
    "\n",
    "print(\"You have a cash of Rs.\", cash, \"with you...\")\n",
    "\n",
    "while attempts < 2:\n",
    "    guess = eval(input(\"Guess the number: \"))\n",
    "    attempts += 1\n",
    "\n",
    "    if guess < number:\n",
    "        print(\"Too low\")\n",
    "    elif guess > number:\n",
    "        print(\"Too high\")\n",
    "    else:\n",
    "        if attempts == 1:\n",
    "            cash += 5000\n",
    "            print(\"You have just won Rs. 5,000!\")\n",
    "        else:\n",
    "            cash += 1000\n",
    "            print(\"You have just won Rs. 1,000!\")\n",
    "        break\n",
    "else:\n",
    "    cash += 500\n",
    "    print(\"Sorry you lost Rs. 500!\")\n",
    "\n",
    "print(\"Your remaining cash is Rs.\", cash)"
   ]
  },
  {
   "cell_type": "code",
   "execution_count": 7,
   "id": "43858512",
   "metadata": {},
   "outputs": [
    {
     "name": "stdout",
     "output_type": "stream",
     "text": [
      "Account balance: Rs. 200\n",
      "E-Wallet balance: Rs. 5000\n",
      "You still do not have enough money to start playing. Please withdraw money: 1000\n",
      "Account balance: Rs. 1200\n",
      "E-Wallet balance: Rs. 4000\n",
      "Now, you are ready to play the game.\n"
     ]
    }
   ],
   "source": [
    "#4-answer\n",
    "\n",
    "account_balance = 200\n",
    "e_wallet = 5000\n",
    "game_cost = 1000\n",
    "\n",
    "print(\"Account balance: Rs.\", account_balance)\n",
    "print(\"E-Wallet balance: Rs.\", e_wallet)\n",
    "\n",
    "while account_balance < game_cost:\n",
    "    if e_wallet == 0:\n",
    "        print(\"Your e-wallet balance is NIL. You can't withdraw more money.\")\n",
    "        break\n",
    "\n",
    "    withdraw = eval(input(\"You still do not have enough money to start playing. Please withdraw money: \"))\n",
    "    \n",
    "    if withdraw <= e_wallet:\n",
    "        account_balance += withdraw\n",
    "        e_wallet -= withdraw\n",
    "        print(\"Account balance: Rs.\", account_balance)\n",
    "        print(\"E-Wallet balance: Rs.\", e_wallet)\n",
    "    else:\n",
    "        print(\"You can't withdraw more than your e-wallet balance.\")\n",
    "\n",
    "if account_balance >= game_cost:\n",
    "    print(\"Now, you are ready to play the game.\")\n",
    "\n"
   ]
  },
  {
   "cell_type": "code",
   "execution_count": null,
   "id": "8da26f11",
   "metadata": {},
   "outputs": [],
   "source": []
  }
 ],
 "metadata": {
  "kernelspec": {
   "display_name": "Python 3 (ipykernel)",
   "language": "python",
   "name": "python3"
  },
  "language_info": {
   "codemirror_mode": {
    "name": "ipython",
    "version": 3
   },
   "file_extension": ".py",
   "mimetype": "text/x-python",
   "name": "python",
   "nbconvert_exporter": "python",
   "pygments_lexer": "ipython3",
   "version": "3.11.5"
  }
 },
 "nbformat": 4,
 "nbformat_minor": 5
}
