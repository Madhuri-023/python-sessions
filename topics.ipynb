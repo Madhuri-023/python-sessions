{
 "cells": [
  {
   "cell_type": "code",
   "execution_count": null,
   "id": "1ac4e1f1",
   "metadata": {},
   "outputs": [],
   "source": [
    "strings\n",
    "lists\n",
    "tuples\n",
    "dictionaries\n",
    "sets\n",
    "lambda\n",
    "file handling session'\n",
    "oops concepts in python"
   ]
  },
  {
   "cell_type": "code",
   "execution_count": null,
   "id": "68fdc598",
   "metadata": {},
   "outputs": [],
   "source": [
    "statistics:theory\n",
    "    EDA with python:\n",
    "        pandas\n",
    "        numpy\n",
    "        matpl"
   ]
  },
  {
   "cell_type": "code",
   "execution_count": null,
   "id": "c1d4115a",
   "metadata": {},
   "outputs": [],
   "source": [
    "basic python:\n",
    "    "
   ]
  }
 ],
 "metadata": {
  "kernelspec": {
   "display_name": "Python 3 (ipykernel)",
   "language": "python",
   "name": "python3"
  },
  "language_info": {
   "codemirror_mode": {
    "name": "ipython",
    "version": 3
   },
   "file_extension": ".py",
   "mimetype": "text/x-python",
   "name": "python",
   "nbconvert_exporter": "python",
   "pygments_lexer": "ipython3",
   "version": "3.11.5"
  }
 },
 "nbformat": 4,
 "nbformat_minor": 5
}
