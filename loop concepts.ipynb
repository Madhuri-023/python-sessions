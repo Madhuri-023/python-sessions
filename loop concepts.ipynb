{
 "cells": [
  {
   "cell_type": "code",
   "execution_count": null,
   "id": "23e6e73e",
   "metadata": {},
   "outputs": [],
   "source": [
    "two loops are there those are:\n",
    "    for loop and while loop"
   ]
  },
  {
   "cell_type": "markdown",
   "id": "1f16e9ee",
   "metadata": {},
   "source": [
    "\n",
    "  -  you will be in the loop\n",
    "  -  when you will enter into the loop\n",
    "  -  how much long you will stay in the loop\n",
    "  -  how you will come out of the loop\n"
   ]
  },
  {
   "cell_type": "code",
   "execution_count": null,
   "id": "e2a0d904",
   "metadata": {},
   "outputs": [],
   "source": [
    "-initialisation is the entry point\n",
    "-icrementing or decrementing(whether to move forward or backward)\n",
    "-condition to stop the loop(to exit the loop)\n",
    "-in for loop all the statements are in single line"
   ]
  },
  {
   "cell_type": "code",
   "execution_count": null,
   "id": "607731be",
   "metadata": {},
   "outputs": [],
   "source": [
    "#i want to print first 10'nos\n",
    "#intital point:0\n",
    "#icrement\n",
    "#condition=10 code should stop here"
   ]
  },
  {
   "cell_type": "code",
   "execution_count": null,
   "id": "1a06c3fe",
   "metadata": {},
   "outputs": [],
   "source": [
    "i= 0\n",
    "i=1  \n",
    "i= 2\n",
    "i= 3\n",
    "i=4"
   ]
  },
  {
   "cell_type": "markdown",
   "id": "ee49e946",
   "metadata": {},
   "source": [
    "$pattern-1$"
   ]
  },
  {
   "cell_type": "markdown",
   "id": "d35a5ec3",
   "metadata": {},
   "source": [
    "syntax for i in range(stop):  #stop means used for single values represented in braces\n",
    "    - in the bracket if we have only single value that is consider as stop value\n",
    "    -the default start value is=0\n",
    "    -python index always starts with:0\n",
    "    -if direction sign is not mentioned:increment(+) sign\n",
    "    -if direction is positive side then end stop=1"
   ]
  },
  {
   "cell_type": "code",
   "execution_count": 1,
   "id": "5d0c70b2",
   "metadata": {},
   "outputs": [
    {
     "name": "stdout",
     "output_type": "stream",
     "text": [
      "0\n",
      "1\n",
      "2\n",
      "3\n",
      "4\n",
      "5\n",
      "6\n",
      "7\n",
      "8\n",
      "9\n"
     ]
    }
   ],
   "source": [
    "for i in range(10):\n",
    "    print(i)\n",
    "    \n",
    "    \n",
    "#start=0\n",
    "#direction=+\n",
    "#stop value=10-1=9"
   ]
  },
  {
   "cell_type": "code",
   "execution_count": 2,
   "id": "b42e6228",
   "metadata": {},
   "outputs": [
    {
     "name": "stdout",
     "output_type": "stream",
     "text": [
      "0\n",
      "1\n",
      "2\n",
      "3\n",
      "4\n",
      "5\n",
      "6\n",
      "7\n",
      "8\n",
      "9\n",
      "10\n",
      "11\n",
      "12\n",
      "13\n",
      "14\n",
      "15\n",
      "16\n",
      "17\n",
      "18\n",
      "19\n"
     ]
    }
   ],
   "source": [
    "for i in range(20):\n",
    "    print(i)\n",
    "    "
   ]
  },
  {
   "cell_type": "markdown",
   "id": "333ececb",
   "metadata": {},
   "source": [
    "-inorder to write a loop we need three parameters:\n",
    "    1.)initial\n",
    "    2.)increment/decrement\n",
    "    3.)condition\n",
    "for i in range(20)"
   ]
  },
  {
   "cell_type": "code",
   "execution_count": null,
   "id": "7513fb49",
   "metadata": {},
   "outputs": [],
   "source": [
    "print(0,end='')\n",
    "print(1,end='')\n",
    "print(2)"
   ]
  },
  {
   "cell_type": "code",
   "execution_count": 6,
   "id": "97d57247",
   "metadata": {},
   "outputs": [
    {
     "name": "stdout",
     "output_type": "stream",
     "text": [
      "0 1 2 3 4 5 6 7 8 9 10 11 12 13 14 15 16 17 18 19 "
     ]
    }
   ],
   "source": [
    "\n",
    "for i in range(20):    #inorder to get horizantal output\n",
    "    print(i,end=' ')"
   ]
  },
  {
   "cell_type": "markdown",
   "id": "18432499",
   "metadata": {},
   "source": [
    "$pattern-2$"
   ]
  },
  {
   "cell_type": "markdown",
   "id": "1b8c2e26",
   "metadata": {},
   "source": [
    "for i in range(start,stop)\n",
    "-start: start of the loop,initial point\n",
    "-direct sign not mentioned: +ve direction i.e,increment\n",
    "-end=stop-1"
   ]
  },
  {
   "cell_type": "code",
   "execution_count": 7,
   "id": "e041dbc9",
   "metadata": {},
   "outputs": [
    {
     "name": "stdout",
     "output_type": "stream",
     "text": [
      "10 11 12 13 14 15 16 17 18 19 "
     ]
    }
   ],
   "source": [
    "for i in range(10,20):\n",
    "    print(i,end=' ')\n",
    "stat=10 pos end=20-1=19"
   ]
  },
  {
   "cell_type": "markdown",
   "id": "7de945a1",
   "metadata": {},
   "source": [
    "$pattern-3$"
   ]
  },
  {
   "cell_type": "markdown",
   "id": "7b4a5fcf",
   "metadata": {},
   "source": [
    "for i in range(start,stop,step)\n",
    "-start:start of the loop,initial point\n",
    "-direction:What is sign of step value,that is direction\n",
    "    -direction will not decide by start and stop value\n",
    "    -direction will provided by step value\n",
    "    \n",
    "-if step size is positive direction\n",
    "  end=stop-1\n",
    "-if step size is negative direction\n",
    "end=stop+1"
   ]
  },
  {
   "cell_type": "code",
   "execution_count": null,
   "id": "a77d0126",
   "metadata": {},
   "outputs": [],
   "source": []
  },
  {
   "cell_type": "code",
   "execution_count": 3,
   "id": "d13d2de3",
   "metadata": {},
   "outputs": [
    {
     "name": "stdout",
     "output_type": "stream",
     "text": [
      "hi\n",
      "hello\n",
      "hello\n",
      "hello\n",
      "how do yo do\n"
     ]
    }
   ],
   "source": [
    "print('hi')\n",
    "for i in range(3):\n",
    "    print('hello')\n",
    "    \n",
    "print('how do yo do')"
   ]
  },
  {
   "cell_type": "code",
   "execution_count": 3,
   "id": "61b9f6f9",
   "metadata": {},
   "outputs": [
    {
     "name": "stdout",
     "output_type": "stream",
     "text": [
      "hi\n",
      "hello\n",
      "hello\n",
      "hello\n",
      "how do yo do\n"
     ]
    }
   ],
   "source": [
    "print('hi')\n",
    "for i in range(3):\n",
    "    print('hello')\n",
    "    \n",
    "print('how do yo do')"
   ]
  },
  {
   "cell_type": "code",
   "execution_count": 3,
   "id": "da1cc0d3",
   "metadata": {},
   "outputs": [
    {
     "name": "stdout",
     "output_type": "stream",
     "text": [
      "hi\n",
      "hello\n",
      "hello\n",
      "hello\n",
      "how do yo do\n"
     ]
    }
   ],
   "source": [
    "print('hi')\n",
    "for i in range(3):\n",
    "    print('hello')\n",
    "    \n",
    "print('how do yo do')"
   ]
  },
  {
   "cell_type": "code",
   "execution_count": null,
   "id": "f31eb1e6",
   "metadata": {},
   "outputs": [],
   "source": [
    "#A\n",
    "#B\n",
    "#A\n",
    "#B\n",
    "#A\n",
    "#B\n",
    "#C\n",
    "#C\n",
    "#C"
   ]
  },
  {
   "cell_type": "code",
   "execution_count": 4,
   "id": "fc849d41",
   "metadata": {},
   "outputs": [
    {
     "name": "stdout",
     "output_type": "stream",
     "text": [
      "A\n",
      "B\n",
      "A\n",
      "B\n",
      "A\n",
      "B\n",
      "c\n",
      "c\n",
      "c\n"
     ]
    }
   ],
   "source": [
    "for i in range(3):\n",
    "    print('A')\n",
    "    print('B')\n",
    "for i in range(3):\n",
    "    print('c')"
   ]
  },
  {
   "cell_type": "code",
   "execution_count": 6,
   "id": "61b26be3",
   "metadata": {},
   "outputs": [
    {
     "name": "stdout",
     "output_type": "stream",
     "text": [
      "the square of 10 is 100\n",
      "the square of 11 is 121\n",
      "the square of 12 is 144\n",
      "the square of 13 is 169\n",
      "the square of 14 is 196\n",
      "the square of 15 is 225\n"
     ]
    }
   ],
   "source": [
    "#wap ask the user get the user to get the square of the numbers\n",
    "#between 10 to 15\n",
    "#square of 10 is 100\n",
    "#square of 11 is 121\n",
    "#square of 12 is 144\n",
    "\n",
    "#first get the numbers from 10 t0 15\n",
    "for i in range(10,16):\n",
    "    print('the square of {} is {}'.format(i,i*i))"
   ]
  },
  {
   "cell_type": "code",
   "execution_count": null,
   "id": "1ab82502",
   "metadata": {},
   "outputs": [],
   "source": [
    "#wap take the nos from keyboard 10,16\n",
    "#num1=eval(input('enter the no1'))\n",
    "#num2=eval(input())\n",
    "#replace 10,16 in for loop with variables num1,num2"
   ]
  },
  {
   "cell_type": "code",
   "execution_count": 7,
   "id": "50d87311",
   "metadata": {},
   "outputs": [
    {
     "name": "stdout",
     "output_type": "stream",
     "text": [
      "enter start number:10\n",
      "enter stop number:16\n",
      "the square of 10 is 100\n",
      "the square of 11 is 121\n",
      "the square of 12 is 144\n",
      "the square of 13 is 169\n",
      "the square of 14 is 196\n",
      "the square of 15 is 225\n"
     ]
    }
   ],
   "source": [
    "num1=eval(input('enter start number:'))\n",
    "num2=eval(input('enter stop number:'))\n",
    "\n",
    "for i in range(num1,num2):\n",
    "    print('the square of {} is {}'.format(i,i*i))"
   ]
  },
  {
   "cell_type": "code",
   "execution_count": 12,
   "id": "b32a840e",
   "metadata": {},
   "outputs": [
    {
     "name": "stdout",
     "output_type": "stream",
     "text": [
      "the square of 10 is 100\n",
      "the square of 11 is 121\n",
      "the square of 12 is 144\n",
      "the square of 13 is 169\n",
      "the square of 14 is 196\n",
      "the square of 15 is 225\n",
      "enter start number:10\n",
      "enter stop number:13\n"
     ]
    }
   ],
   "source": [
    "def square1():\n",
    "        num1=eval(input('enter start number:'))               #without arguments\n",
    "        num2=eval(input('enter stop number:'))\n",
    "\n",
    "for i in range(num1,num2):\n",
    "        print('the square of {} is {}'.format(i,i*i))\n",
    "        \n",
    "square1()\n"
   ]
  },
  {
   "cell_type": "code",
   "execution_count": 15,
   "id": "788dff7d",
   "metadata": {},
   "outputs": [
    {
     "name": "stdout",
     "output_type": "stream",
     "text": [
      "the square of 10 is 100\n",
      "the square of 11 is 121\n",
      "the square of 12 is 144\n"
     ]
    }
   ],
   "source": [
    "def square1(num11,num22):\n",
    "    \n",
    "\n",
    "    for i in range(num11,num22):                                         #with arguments\n",
    "        print('the square of {} is {}'.format(i,i*i))\n",
    "        \n",
    "square1(10,13)\n",
    "\n",
    "\n"
   ]
  },
  {
   "cell_type": "code",
   "execution_count": null,
   "id": "c9fdd430",
   "metadata": {},
   "outputs": [],
   "source": [
    "#wap ask the user to print square of the five numbers\n",
    "#and these five nos you need to ask user every times"
   ]
  },
  {
   "cell_type": "code",
   "execution_count": 18,
   "id": "f1b647d5",
   "metadata": {},
   "outputs": [
    {
     "name": "stdout",
     "output_type": "stream",
     "text": [
      "enter a number:3\n",
      "the sqaure of 3 is 9\n",
      "enter a number:4\n",
      "the sqaure of 4 is 16\n",
      "enter a number:6\n",
      "the sqaure of 6 is 36\n",
      "enter a number:7\n",
      "the sqaure of 7 is 49\n",
      "enter a number:8\n",
      "the sqaure of 8 is 64\n"
     ]
    }
   ],
   "source": [
    "\n",
    "for i in range(5):\n",
    "    num=eval(input('enter a number:'))\n",
    "    print('the sqaure of {} is {}'.format(num,num*num))"
   ]
  },
  {
   "cell_type": "code",
   "execution_count": null,
   "id": "7e3bdee0",
   "metadata": {},
   "outputs": [],
   "source": [
    "#wap ask the user to print five times square of a number\n",
    "#this time you need to take every time a random number between 1 to 20"
   ]
  },
  {
   "cell_type": "code",
   "execution_count": 21,
   "id": "6ce5c215",
   "metadata": {},
   "outputs": [
    {
     "name": "stdout",
     "output_type": "stream",
     "text": [
      "the square of 3 is 9\n",
      "the square of 15 is 225\n",
      "the square of 8 is 64\n",
      "the square of 4 is 16\n",
      "the square of 8 is 64\n"
     ]
    }
   ],
   "source": [
    "for i in range(5):\n",
    "    import random\n",
    "    num=random.randint(1,20)\n",
    "    print('the square of {} is {}'.format(num,num*num))"
   ]
  },
  {
   "cell_type": "code",
   "execution_count": null,
   "id": "fea8faf1",
   "metadata": {},
   "outputs": [],
   "source": [
    "#wap ask the user print the given number is even or odd\n",
    "#you need to take the number between 10 30\n",
    "#iterate the loop between 10 and 30\n",
    "#every time apply if i%2==0: print even\n",
    "#                   else: print odd\n"
   ]
  },
  {
   "cell_type": "code",
   "execution_count": 24,
   "id": "953dc5e9",
   "metadata": {},
   "outputs": [
    {
     "name": "stdout",
     "output_type": "stream",
     "text": [
      "enter the number:7\n"
     ]
    },
    {
     "ename": "IndexError",
     "evalue": "Replacement index 1 out of range for positional args tuple",
     "output_type": "error",
     "traceback": [
      "\u001b[1;31m---------------------------------------------------------------------------\u001b[0m",
      "\u001b[1;31mIndexError\u001b[0m                                Traceback (most recent call last)",
      "Cell \u001b[1;32mIn[24], line 5\u001b[0m\n\u001b[0;32m      3\u001b[0m     \u001b[38;5;28mprint\u001b[39m(\u001b[38;5;124m'\u001b[39m\u001b[38;5;124mthe given \u001b[39m\u001b[38;5;132;01m{}\u001b[39;00m\u001b[38;5;124m is \u001b[39m\u001b[38;5;132;01m{}\u001b[39;00m\u001b[38;5;124m is even\u001b[39m\u001b[38;5;124m'\u001b[39m\u001b[38;5;241m.\u001b[39mformat(num))\n\u001b[0;32m      4\u001b[0m \u001b[38;5;28;01melse\u001b[39;00m:\n\u001b[1;32m----> 5\u001b[0m     \u001b[38;5;28mprint\u001b[39m(\u001b[38;5;124m'\u001b[39m\u001b[38;5;124mthe given \u001b[39m\u001b[38;5;132;01m{}\u001b[39;00m\u001b[38;5;124m is \u001b[39m\u001b[38;5;132;01m{}\u001b[39;00m\u001b[38;5;124m is odd\u001b[39m\u001b[38;5;124m'\u001b[39m\u001b[38;5;241m.\u001b[39mformat(num))\n",
      "\u001b[1;31mIndexError\u001b[0m: Replacement index 1 out of range for positional args tuple"
     ]
    }
   ],
   "source": [
    "num=eval(input('enter the number:'))\n",
    "if num%2==0:\n",
    "    print('the given {} is {} is even'.format(num))\n",
    "else:\n",
    "    print('the given {} is {} is odd'.format(num))"
   ]
  },
  {
   "cell_type": "code",
   "execution_count": 26,
   "id": "f7eb8f0c",
   "metadata": {},
   "outputs": [
    {
     "name": "stdout",
     "output_type": "stream",
     "text": [
      "the given 10 is even\n",
      "the given 12 is even\n",
      "the given 14 is even\n",
      "the given 16 is even\n",
      "the given 18 is even\n",
      "the given 20 is even\n",
      "the given 22 is even\n",
      "the given 24 is even\n",
      "the given 26 is even\n",
      "the given 28 is even\n",
      "the given 30 is even\n",
      "the given 30 is odd\n"
     ]
    }
   ],
   "source": [
    "for num in range(10,31):\n",
    "    if num%2==0:\n",
    "        \n",
    "        print('the given {} is even'.format(num))\n",
    "else:\n",
    "    \n",
    "    print('the given {} is odd'.format(num))"
   ]
  },
  {
   "cell_type": "code",
   "execution_count": null,
   "id": "cbe8378e",
   "metadata": {},
   "outputs": [],
   "source": [
    "#wap ask the user print the given number is even or odd\n",
    "#you need to take the number between randomly between 10 and 30\n",
    "#this process you need to 5 times\n",
    "#create a for loop to run 5 times\n",
    "#every time get the random number\n",
    "#finally apply if-else condition: it is even and odd"
   ]
  },
  {
   "cell_type": "code",
   "execution_count": 27,
   "id": "6084f438",
   "metadata": {},
   "outputs": [
    {
     "name": "stdout",
     "output_type": "stream",
     "text": [
      "the given 11 is odd\n",
      "the given 10 is even\n",
      "the given 16 is even\n",
      "the given 22 is even\n",
      "the given 27 is odd\n"
     ]
    }
   ],
   "source": [
    "import random\n",
    "for i in range(5):\n",
    "    num=random.randint(10,30)\n",
    "    if num%2==0:\n",
    "        print('the given {} is even'.format(num))\n",
    "    else:\n",
    "        print('the given {} is odd'.format(num))"
   ]
  },
  {
   "cell_type": "code",
   "execution_count": null,
   "id": "b6e87f0c",
   "metadata": {},
   "outputs": [],
   "source": [
    "import random\n",
    "for i in range(5):\n",
    "    num=random.randint(10,30)\n",
    "    if num%2==0:\n",
    "        print('the given {} is even'.format(num))\n",
    "    else:\n",
    "        print('the given {} is odd'.format(num))"
   ]
  },
  {
   "cell_type": "code",
   "execution_count": 30,
   "id": "b8efc80f",
   "metadata": {},
   "outputs": [
    {
     "name": "stdout",
     "output_type": "stream",
     "text": [
      "the given 20 is even\n",
      "the given 25 is odd\n",
      "the given 14 is even\n",
      "the given 30 is even\n",
      "the given 27 is odd\n"
     ]
    }
   ],
   "source": [
    "def even_odd(num):\n",
    "    \n",
    "    if num%2==0:\n",
    "            print('the given {} is even'.format(num))\n",
    "    else:\n",
    "        \n",
    "        print('the given {} is odd'.format(num))\n",
    "            \n",
    "import random\n",
    "for i in range(5):\n",
    "    num=random.randint(10,30)\n",
    "    even_odd(num)\n",
    "            "
   ]
  },
  {
   "cell_type": "code",
   "execution_count": null,
   "id": "76d543cc",
   "metadata": {},
   "outputs": [],
   "source": [
    "#5 lines\n",
    "#take a random number from random package btwn 1 to 10\n",
    "#ask the user enter a number btwn 1 to 10\n",
    "#if the number == random number:\n",
    "#            print('you won')\n",
    "#else:\n",
    "#          print('you lost')"
   ]
  },
  {
   "cell_type": "code",
   "execution_count": 35,
   "id": "dfaf2613",
   "metadata": {},
   "outputs": [
    {
     "name": "stdout",
     "output_type": "stream",
     "text": [
      "enter number between 1 and 10:6\n",
      "you lost\n",
      "the number of chances left is: 2\n",
      "enter number between 1 and 10:4\n",
      "you lost\n",
      "the number of chances left is: 1\n",
      "enter number between 1 and 10:3\n",
      "you won\n"
     ]
    }
   ],
   "source": [
    "import random\n",
    "random_num=random.randint(1,10)\n",
    "for i in range(3):\n",
    "    user_num=eval(input('enter number between 1 and 10:'))\n",
    "    if user_num==random_num:\n",
    "        print('you won')\n",
    "        break\n",
    "    else:\n",
    "        print('you lost')\n",
    "        "
   ]
  },
  {
   "cell_type": "code",
   "execution_count": null,
   "id": "43045f78",
   "metadata": {},
   "outputs": [],
   "source": [
    "# improve above code\n",
    "#you need to mwntion number of chances left\n",
    "#the user whenever he fail/lose"
   ]
  },
  {
   "cell_type": "code",
   "execution_count": 38,
   "id": "d81c7b63",
   "metadata": {},
   "outputs": [
    {
     "name": "stdout",
     "output_type": "stream",
     "text": [
      "enter how many chances you want:6\n",
      "enter number between 1 and 10:4\n",
      "you lost\n",
      "the number of chances left is: 5\n",
      "enter number between 1 and 10:3\n",
      "you lost\n",
      "the number of chances left is: 4\n",
      "enter number between 1 and 10:1\n",
      "you lost\n",
      "the number of chances left is: 3\n"
     ]
    }
   ],
   "source": [
    "import random\n",
    "random_num=random.randint(1,10)\n",
    "chances=eval(input('enter how many chances you want:'))\n",
    "for i in range(3):\n",
    "    user_num=eval(input('enter number between 1 and 10:'))\n",
    "    if user_num==random_num:\n",
    "        print('you won')\n",
    "        break\n",
    "    else:\n",
    "        print('you lost')\n",
    "        print('the number of chances left is:',chances-1-i)"
   ]
  },
  {
   "cell_type": "code",
   "execution_count": null,
   "id": "4b8fd5fb",
   "metadata": {},
   "outputs": [],
   "source": [
    "#improvise above code\n",
    "#whenever the user lost all the chances'#it should print all the chances are over\n",
    "#print('please try again after 10 mins')"
   ]
  },
  {
   "cell_type": "code",
   "execution_count": 41,
   "id": "1a2f112f",
   "metadata": {},
   "outputs": [
    {
     "name": "stdout",
     "output_type": "stream",
     "text": [
      "enter how many chances you want:3\n",
      "enter number between 1 and 10:4\n",
      "you lost\n",
      "the number of chances left is: 2\n",
      "enter number between 1 and 10:5\n",
      "you lost\n",
      "the number of chances left is: 1\n",
      "enter number between 1 and 10:6\n",
      "pls try again you all chances are over\n"
     ]
    }
   ],
   "source": [
    "import random\n",
    "random_num=random.randint(1,10)\n",
    "chances=eval(input('enter how many chances you want:'))\n",
    "for i in range(3):\n",
    "    user_num=eval(input('enter number between 1 and 10:'))\n",
    "    if user_num==random_num:\n",
    "        print('you won')\n",
    "        break\n",
    "    elif chances-1-i==0:\n",
    "        print('pls try again you all chances are over')\n",
    "    else:\n",
    "        print('you lost')\n",
    "        print('the number of chances left is:',chances-1-i)\n",
    "        \n",
    "#chances=3\n",
    "#i=0 2 10 if 2==10 F=======>elif 3-1-0: F ======> else: 2\n",
    "#i=1 2 10 if 2==10 F ======>elif 3-1-1: 1==0 =====> else:1\n",
    "#1=2 2 10 if 2==10 F========>elif 3-1=2:0==0 T"
   ]
  },
  {
   "cell_type": "markdown",
   "id": "07e0f9e1",
   "metadata": {},
   "source": []
  },
  {
   "cell_type": "code",
   "execution_count": null,
   "id": "99098017",
   "metadata": {},
   "outputs": [],
   "source": [
    "#wap ask the user to get the sum of 10 natural numbers\n",
    "#1+2+3+4+5+6+7+8+9+10=55"
   ]
  },
  {
   "cell_type": "code",
   "execution_count": 1,
   "id": "b1d9c3be",
   "metadata": {},
   "outputs": [
    {
     "name": "stdout",
     "output_type": "stream",
     "text": [
      "the sum of first 10 numbers is: 1.0\n",
      "the sum of first 10 numbers is: 3.0\n",
      "the sum of first 10 numbers is: 6.0\n",
      "the sum of first 10 numbers is: 10.0\n",
      "the sum of first 10 numbers is: 15.0\n",
      "the sum of first 10 numbers is: 21.0\n",
      "the sum of first 10 numbers is: 28.0\n",
      "the sum of first 10 numbers is: 36.0\n",
      "the sum of first 10 numbers is: 45.0\n",
      "the sum of first 10 numbers is: 55.0\n"
     ]
    }
   ],
   "source": [
    "for i in range(1,11):\n",
    "    sum=(i*(i+1)/2)\n",
    "    print('the sum of first 10 numbers is:',sum)"
   ]
  },
  {
   "cell_type": "code",
   "execution_count": 2,
   "id": "2d0b5eeb",
   "metadata": {},
   "outputs": [
    {
     "name": "stdout",
     "output_type": "stream",
     "text": [
      "the first 10 natural numbers is: 1\n",
      "the first 10 natural numbers is: 3\n",
      "the first 10 natural numbers is: 6\n",
      "the first 10 natural numbers is: 10\n",
      "the first 10 natural numbers is: 15\n",
      "the first 10 natural numbers is: 21\n",
      "the first 10 natural numbers is: 28\n",
      "the first 10 natural numbers is: 36\n",
      "the first 10 natural numbers is: 45\n",
      "the first 10 natural numbers is: 55\n"
     ]
    }
   ],
   "source": [
    "summ=0\n",
    "for i in range(1,11):\n",
    "    summ=summ+i\n",
    "    print('the first 10 natural numbers is:',summ)"
   ]
  },
  {
   "cell_type": "code",
   "execution_count": 3,
   "id": "3e99de86",
   "metadata": {},
   "outputs": [
    {
     "name": "stdout",
     "output_type": "stream",
     "text": [
      "0+1 is :\n",
      "the first 10 natural numbers is: 1\n",
      "1+2 is :\n",
      "the first 10 natural numbers is: 3\n",
      "3+3 is :\n",
      "the first 10 natural numbers is: 6\n",
      "6+4 is :\n",
      "the first 10 natural numbers is: 10\n",
      "10+5 is :\n",
      "the first 10 natural numbers is: 15\n",
      "15+6 is :\n",
      "the first 10 natural numbers is: 21\n",
      "21+7 is :\n",
      "the first 10 natural numbers is: 28\n",
      "28+8 is :\n",
      "the first 10 natural numbers is: 36\n",
      "36+9 is :\n",
      "the first 10 natural numbers is: 45\n",
      "45+10 is :\n",
      "the first 10 natural numbers is: 55\n"
     ]
    }
   ],
   "source": [
    "summ=0\n",
    "for i in range(1,11):\n",
    "    print('{}+{} is :'.format(summ,i))\n",
    "    summ=summ+i\n",
    "    print('the first 10 natural numbers is:',summ)"
   ]
  },
  {
   "cell_type": "code",
   "execution_count": 4,
   "id": "0ea4cb6e",
   "metadata": {},
   "outputs": [
    {
     "name": "stdout",
     "output_type": "stream",
     "text": [
      "0\n",
      "1\n",
      "2\n",
      "3\n",
      "4\n",
      "5\n",
      "6\n",
      "7\n",
      "8\n",
      "9\n"
     ]
    },
    {
     "data": {
      "text/plain": [
       "9"
      ]
     },
     "execution_count": 4,
     "metadata": {},
     "output_type": "execute_result"
    }
   ],
   "source": [
    "for i in range(10):\n",
    "    print(i)\n",
    "i\n",
    "\n",
    "#whatevr is the last value that only print as the last value in outisde the loop"
   ]
  },
  {
   "cell_type": "markdown",
   "id": "2b281e68",
   "metadata": {},
   "source": [
    "- whenever you want to implement summation program first initialise the variable with 0 i.e, summ=0 or count=0\n",
    "- inside the loop based on the problem update the variable\n",
    "- like: summ=summ=i or count=count+i\n",
    "    -: summ+=i or count+=i"
   ]
  },
  {
   "cell_type": "code",
   "execution_count": 13,
   "id": "27010e68",
   "metadata": {},
   "outputs": [
    {
     "name": "stdout",
     "output_type": "stream",
     "text": [
      "the given 13 is odd\n",
      "the given 16 is even\n",
      "the given 21 is odd\n",
      "the given 26 is even\n",
      "the given 20 is even\n",
      "3 2\n"
     ]
    }
   ],
   "source": [
    "#wap ask the user to print number of even and odds you are getting import using countfor i in range(10,20):\n",
    "\n",
    "import random   \n",
    "even_count=0\n",
    "odd_count=0\n",
    "for i in range(5):\n",
    "    num=random.randint(10,30)\n",
    "    if num%2==0:\n",
    "        print('the given {} is even'.format(num))\n",
    "        even_count=even_count+1\n",
    "    else:\n",
    "        print('the given {} is odd'.format(num))\n",
    "        odd_count=odd_count+1\n",
    "        \n",
    "print(even_count,odd_count)"
   ]
  },
  {
   "cell_type": "code",
   "execution_count": null,
   "id": "7ec87bed",
   "metadata": {},
   "outputs": [],
   "source": [
    "#wap ask the user take a  random number btwn 1 to 99 and iterate the loop 10 times\n",
    "#count how many times a number is coming and greater than 50"
   ]
  },
  {
   "cell_type": "code",
   "execution_count": 16,
   "id": "ab88cd50",
   "metadata": {},
   "outputs": [
    {
     "name": "stdout",
     "output_type": "stream",
     "text": [
      "64\n",
      "77\n",
      "79\n",
      "94\n",
      "64\n",
      "70\n",
      "64\n"
     ]
    }
   ],
   "source": [
    "import random\n",
    "count=0\n",
    "for i in range(10):  \n",
    "    num=random.randint(1,99)\n",
    "    if num>50:\n",
    "        \n",
    "        print(num)\n",
    "        count+=1"
   ]
  },
  {
   "cell_type": "code",
   "execution_count": 23,
   "id": "e55aeada",
   "metadata": {},
   "outputs": [
    {
     "name": "stdout",
     "output_type": "stream",
     "text": [
      "enter which number is divisible want to determine:10\n",
      "10 is divisible by 1\n",
      "10 is divisible by 2\n",
      "10 is divisible by 5\n",
      "10 is divisible by 10\n",
      "the number of divisors are: 4\n"
     ]
    }
   ],
   "source": [
    "#number of divisors program\n",
    "#10 is divisible ny what numbers\n",
    "count=0\n",
    "num=eval(input('enter which number is divisible want to determine:'))\n",
    "for i in range(1,num+1):\n",
    "    if num%i==0:\n",
    "        print(\"{} is divisible by {}\".format(num,i))\n",
    "        count=count+1\n",
    "print('the number of divisors are:',count)"
   ]
  },
  {
   "cell_type": "code",
   "execution_count": 25,
   "id": "3720523c",
   "metadata": {},
   "outputs": [
    {
     "name": "stdout",
     "output_type": "stream",
     "text": [
      "enter which number is divisible want to determine:10\n",
      "10 is divisible by 1\n",
      "10 is divisible by 2\n",
      "10 is divisible by 5\n",
      "10 is divisible by 10\n",
      "the number of divisors are: 4\n",
      "the number of not divisors count is: 6\n"
     ]
    }
   ],
   "source": [
    "d_count=0\n",
    "nd_count=0\n",
    "num=eval(input('enter which number is divisible want to determine:'))\n",
    "for i in range(1,num+1):\n",
    "    if num%i==0:\n",
    "        print(\"{} is divisible by {}\".format(num,i))\n",
    "        d_count=d_count+1\n",
    "    else:\n",
    "        nd_count=nd_count+1\n",
    "print('the number of divisors are:',d_count)\n",
    "print('the number of not divisors count is:',nd_count)"
   ]
  },
  {
   "cell_type": "code",
   "execution_count": 48,
   "id": "f5fcd829",
   "metadata": {},
   "outputs": [
    {
     "name": "stdout",
     "output_type": "stream",
     "text": [
      "enter which number is divisible want to determine:10\n",
      "10 is divisible by 1\n"
     ]
    },
    {
     "ename": "UnboundLocalError",
     "evalue": "cannot access local variable 'd_count' where it is not associated with a value",
     "output_type": "error",
     "traceback": [
      "\u001b[1;31m---------------------------------------------------------------------------\u001b[0m",
      "\u001b[1;31mUnboundLocalError\u001b[0m                         Traceback (most recent call last)",
      "Cell \u001b[1;32mIn[48], line 15\u001b[0m\n\u001b[0;32m     13\u001b[0m         nd_count\u001b[38;5;241m=\u001b[39mnd_count\u001b[38;5;241m+\u001b[39m\u001b[38;5;241m1\u001b[39m\n\u001b[0;32m     14\u001b[0m         \u001b[38;5;28;01mreturn\u001b[39;00m(d_count,nd_Count)\n\u001b[1;32m---> 15\u001b[0m counter()\n",
      "Cell \u001b[1;32mIn[48], line 11\u001b[0m, in \u001b[0;36mcounter\u001b[1;34m()\u001b[0m\n\u001b[0;32m      9\u001b[0m     \u001b[38;5;28;01mif\u001b[39;00m num\u001b[38;5;241m%\u001b[39mi\u001b[38;5;241m==\u001b[39m\u001b[38;5;241m0\u001b[39m:\n\u001b[0;32m     10\u001b[0m         \u001b[38;5;28mprint\u001b[39m(\u001b[38;5;124m\"\u001b[39m\u001b[38;5;132;01m{}\u001b[39;00m\u001b[38;5;124m is divisible by \u001b[39m\u001b[38;5;132;01m{}\u001b[39;00m\u001b[38;5;124m\"\u001b[39m\u001b[38;5;241m.\u001b[39mformat(num,i))\n\u001b[1;32m---> 11\u001b[0m         d_count\u001b[38;5;241m=\u001b[39md_count\u001b[38;5;241m+\u001b[39m\u001b[38;5;241m1\u001b[39m\n\u001b[0;32m     12\u001b[0m \u001b[38;5;28;01melse\u001b[39;00m:\n\u001b[0;32m     13\u001b[0m     nd_count\u001b[38;5;241m=\u001b[39mnd_count\u001b[38;5;241m+\u001b[39m\u001b[38;5;241m1\u001b[39m\n",
      "\u001b[1;31mUnboundLocalError\u001b[0m: cannot access local variable 'd_count' where it is not associated with a value"
     ]
    }
   ],
   "source": [
    "#create function on the abouve program\n",
    "\n",
    "d_count=0\n",
    "nd_count=0\n",
    "num=eval(input('enter which number is divisible want to determine:'))\n",
    "def counter():\n",
    "    \n",
    "    for i in range(1,num+1):\n",
    "        if num%i==0:\n",
    "            print(\"{} is divisible by {}\".format(num,i))\n",
    "            d_count=d_count+1\n",
    "    else:\n",
    "        nd_count=nd_count+1\n",
    "        return(d_count,nd_Count)\n",
    "counter()\n"
   ]
  },
  {
   "cell_type": "code",
   "execution_count": 45,
   "id": "82538d7e",
   "metadata": {},
   "outputs": [
    {
     "name": "stdout",
     "output_type": "stream",
     "text": [
      "enter which number is divisible want to determine:5\n",
      "5 is divisible by 1\n",
      "5 is divisible by 5\n",
      "2 3\n"
     ]
    }
   ],
   "source": [
    " \n",
    "num=eval(input('enter which number is divisible want to determine:'))\n",
    "def counter2():\n",
    "        d_count=0\n",
    "        nd_count=0\n",
    "        for i in range(1,num+1):\n",
    "            \n",
    "            if num%i==0:\n",
    "                print(\"{} is divisible by {}\".format(num,i))\n",
    "                d_count=d_count+1\n",
    "            else:\n",
    "                \n",
    "                nd_count=nd_count+1\n",
    "        return(d_count,nd_count)\n",
    "\n",
    "val1,val2=counter2()\n",
    "print(val1,val2)"
   ]
  },
  {
   "cell_type": "code",
   "execution_count": 41,
   "id": "1e23517a",
   "metadata": {},
   "outputs": [
    {
     "name": "stdout",
     "output_type": "stream",
     "text": [
      "10 is divisible by 0\n"
     ]
    },
    {
     "data": {
      "text/plain": [
       "(6, 0)"
      ]
     },
     "execution_count": 41,
     "metadata": {},
     "output_type": "execute_result"
    }
   ],
   "source": [
    "def condition(num,d_count,nd_count,i):\n",
    "    if num%1==0:\n",
    "        print('{} is divisible by {}'.format(num,i))\n",
    "        d_count=d_count+1\n",
    "    else:\n",
    "        nd_count=nd_count+1\n",
    "    return(d_count,nd_count)\n",
    "\n",
    "condition(10,5,0,0)"
   ]
  },
  {
   "cell_type": "code",
   "execution_count": 44,
   "id": "a34a3be7",
   "metadata": {},
   "outputs": [
    {
     "name": "stdout",
     "output_type": "stream",
     "text": [
      "enter which number is divisible want to determine:10\n",
      "10 is divisible by 0\n",
      "10 is divisible by 0\n",
      "10 is divisible by 2\n",
      "10 is divisible by 3\n",
      "10 is divisible by 4\n",
      "10 is divisible by 5\n",
      "10 is divisible by 6\n",
      "10 is divisible by 7\n",
      "10 is divisible by 8\n",
      "10 is divisible by 9\n",
      "11 10\n"
     ]
    }
   ],
   "source": [
    "\n",
    "def counter2():\n",
    "        d_count=0\n",
    "        nd_count=0\n",
    "        num=eval(input('enter which number is divisible want to determine:'))\n",
    "        for i in range(1,num+1):\n",
    "            d_count,nd_count=condition(num,i,d_count,nd_count)\n",
    "            \n",
    "        return(d_count,nd_count)\n",
    "\n",
    "val1,val2=counter2()\n",
    "print(val1,val2)"
   ]
  },
  {
   "cell_type": "code",
   "execution_count": 46,
   "id": "a8096cdc",
   "metadata": {},
   "outputs": [
    {
     "name": "stdout",
     "output_type": "stream",
     "text": [
      "enter which number is divisible want to determine:10\n",
      "10 is divisible by 0\n",
      "10 is divisible by 0\n",
      "10 is divisible by 2\n",
      "10 is divisible by 3\n",
      "10 is divisible by 4\n",
      "10 is divisible by 5\n",
      "10 is divisible by 6\n",
      "10 is divisible by 7\n",
      "10 is divisible by 8\n",
      "10 is divisible by 9\n",
      "11 10\n"
     ]
    }
   ],
   "source": [
    "def condition(num,d_count,nd_count,i):\n",
    "    if num%1==0:\n",
    "        print('{} is divisible by {}'.format(num,i))\n",
    "        d_count=d_count+1\n",
    "    else:\n",
    "        nd_count=nd_count+1\n",
    "    return(d_count,nd_count)\n",
    "\n",
    "def counter2():\n",
    "        d_count=0\n",
    "        nd_count=0\n",
    "        num=eval(input('enter which number is divisible want to determine:'))\n",
    "        for i in range(1,num+1):\n",
    "            d_count,nd_count=condition(num,i,d_count,nd_count)\n",
    "            \n",
    "        return(d_count,nd_count)\n",
    "\n",
    "val1,val2=counter2()\n",
    "print(val1,val2)\n"
   ]
  },
  {
   "cell_type": "markdown",
   "id": "a84d1f7c",
   "metadata": {},
   "source": [
    "# while loop"
   ]
  },
  {
   "cell_type": "code",
   "execution_count": null,
   "id": "50e118a2",
   "metadata": {},
   "outputs": [],
   "source": [
    "#any loop we need three things:\n",
    "-intialisation\n",
    "-condition\n",
    "-icrement/decrement\n",
    "\n",
    "-in while loop we need to provide all  three things individually"
   ]
  },
  {
   "cell_type": "code",
   "execution_count": null,
   "id": "69bffab8",
   "metadata": {},
   "outputs": [],
   "source": [
    "# i want print first 10 numbers 0 to 9\n",
    "#initial point=0\n",
    "#increment\n",
    "#condition: whenever i will see value 9 then i will stop the loop\n",
    "#wrapper \n",
    "i=0   #initial point\n",
    "while <condition>:\n",
    "    #st1\n",
    "    #st2\n",
    "    #st3\n",
    "    \n",
    "    i=i+1\n"
   ]
  },
  {
   "cell_type": "code",
   "execution_count": 1,
   "id": "5ef0d39e",
   "metadata": {},
   "outputs": [
    {
     "name": "stdout",
     "output_type": "stream",
     "text": [
      "0 1 2 3 4 5 6 7 8 9 "
     ]
    }
   ],
   "source": [
    "# i want print first 10 numbers 0 to 9\n",
    "for i in range(10):\n",
    "    print(i,end=' ')\n",
    "    "
   ]
  },
  {
   "cell_type": "code",
   "execution_count": null,
   "id": "84672057",
   "metadata": {},
   "outputs": [],
   "source": [
    "i=0\n",
    "while<condition>:\n",
    "    print(i,end='')\n",
    "    i=i+1"
   ]
  },
  {
   "cell_type": "code",
   "execution_count": 2,
   "id": "2136c277",
   "metadata": {},
   "outputs": [
    {
     "name": "stdout",
     "output_type": "stream",
     "text": [
      "0 1 2 3 4 5 6 7 8 9 "
     ]
    }
   ],
   "source": [
    "i=0\n",
    "while i<10:\n",
    "    print(i,end=' ')\n",
    "    i=i+1"
   ]
  },
  {
   "cell_type": "code",
   "execution_count": null,
   "id": "3b731a03",
   "metadata": {},
   "outputs": [],
   "source": [
    "-if you want to avoid infinte loop,give a proper condition\n",
    "-based on given question \n",
    "-even though the condition is valid,you can enter inside the loop\n",
    "-but you never come out of the loop"
   ]
  },
  {
   "cell_type": "code",
   "execution_count": 3,
   "id": "d91935b3",
   "metadata": {},
   "outputs": [
    {
     "name": "stdout",
     "output_type": "stream",
     "text": [
      "10 11 12 13 14 15 16 17 18 19 20 "
     ]
    }
   ],
   "source": [
    "i=10\n",
    "while i<=20:\n",
    "    print(i,end=' ')\n",
    "    i=i+1"
   ]
  },
  {
   "cell_type": "code",
   "execution_count": 12,
   "id": "545b7641",
   "metadata": {},
   "outputs": [
    {
     "name": "stdout",
     "output_type": "stream",
     "text": [
      "-1 -2 -3 -4 -5 -6 -7 -8 -9 -10 "
     ]
    }
   ],
   "source": [
    "i=-1\n",
    "while i>-11:\n",
    "    print(i,end=' ')\n",
    "    i=i-1\n"
   ]
  },
  {
   "cell_type": "code",
   "execution_count": 13,
   "id": "5dc3a6e8",
   "metadata": {},
   "outputs": [
    {
     "name": "stdout",
     "output_type": "stream",
     "text": [
      "-1 -2 -3 -4 -5 -6 -7 -8 -9 -10 "
     ]
    }
   ],
   "source": [
    "i=-1\n",
    "while True:\n",
    "    print(i,end=' ')\n",
    "    i=i-1\n",
    "    if i==-11:\n",
    "        break"
   ]
  },
  {
   "cell_type": "code",
   "execution_count": null,
   "id": "111386f3",
   "metadata": {},
   "outputs": [],
   "source": [
    "#by mistake you provided not at all a valid condition\n",
    "#then your loop is going infinite\n",
    "#then provide a if condition inside the loop\n",
    "\n",
    "#suppose you are not good at providing conditions\n",
    "#then apply while True==then provide if condition\n",
    "#innside the loop"
   ]
  },
  {
   "cell_type": "code",
   "execution_count": 15,
   "id": "2f885395",
   "metadata": {},
   "outputs": [
    {
     "name": "stdout",
     "output_type": "stream",
     "text": [
      "0 1 2 3 4 5 6 7 8 9 0 1 2 3 4 5 6 7 8 9 "
     ]
    }
   ],
   "source": [
    "###############infinite lopp############\n",
    "i=0\n",
    "while i>=0:\n",
    "    print(i,end=' ')\n",
    "    i=i+1\n",
    "    if i==10:\n",
    "        break\n",
    "        \n",
    "        \n"
   ]
  },
  {
   "cell_type": "code",
   "execution_count": 16,
   "id": "55e63838",
   "metadata": {},
   "outputs": [
    {
     "name": "stdout",
     "output_type": "stream",
     "text": [
      "0 1 2 3 4 5 6 7 8 9 "
     ]
    }
   ],
   "source": [
    "############True#############\n",
    "i=0\n",
    "while True:\n",
    "    print(i,end=' ')\n",
    "    i=i+1\n",
    "    if i==10:\n",
    "        break"
   ]
  },
  {
   "cell_type": "code",
   "execution_count": 21,
   "id": "5dadc21a",
   "metadata": {},
   "outputs": [
    {
     "name": "stdout",
     "output_type": "stream",
     "text": [
      "0 1 2 3 4 5 6 7 8 9 "
     ]
    }
   ],
   "source": [
    "\n",
    "i=0\n",
    "while i<10:\n",
    "    print(i,end=' ')\n",
    "    i=i+1"
   ]
  },
  {
   "cell_type": "code",
   "execution_count": 22,
   "id": "321ef037",
   "metadata": {},
   "outputs": [
    {
     "name": "stdout",
     "output_type": "stream",
     "text": [
      "enter the number:5\n",
      "the square 5 is 25\n",
      "enter the number:6\n",
      "the square 6 is 36\n",
      "enter the number:34\n",
      "the square 34 is 1156\n",
      "enter the number:7\n",
      "the square 7 is 49\n",
      "enter the number:9\n",
      "the square 9 is 81\n"
     ]
    }
   ],
   "source": [
    "#ask the user enter a number for 5 times\n",
    "#print the square of the number\n",
    "#first do with for loop\n",
    "#then with while loop\n",
    "\n",
    "\n",
    "\n",
    "for i in range(5):\n",
    "    num=eval(input('enter the number:'))\n",
    "    print('the square {} is {}'.format(num,num*num))"
   ]
  },
  {
   "cell_type": "code",
   "execution_count": 23,
   "id": "57ce9dce",
   "metadata": {},
   "outputs": [
    {
     "name": "stdout",
     "output_type": "stream",
     "text": [
      "enter the number:4\n",
      "the square 4 is 16\n",
      "enter the number:5\n",
      "the square 5 is 25\n",
      "enter the number:6\n",
      "the square 6 is 36\n",
      "enter the number:7\n",
      "the square 7 is 49\n",
      "enter the number:8\n",
      "the square 8 is 64\n"
     ]
    }
   ],
   "source": [
    "i=0\n",
    "while i<5:\n",
    "    num=eval(input('enter the number:'))\n",
    "    print('the square {} is {}'.format(num,num*num))\n",
    "    i=i+1\n",
    "    "
   ]
  },
  {
   "cell_type": "code",
   "execution_count": 24,
   "id": "6b9b5c4b",
   "metadata": {},
   "outputs": [
    {
     "name": "stdout",
     "output_type": "stream",
     "text": [
      "the square 11 is 121\n",
      "the square 15 is 225\n",
      "the square 11 is 121\n",
      "the square 17 is 289\n",
      "the square 10 is 100\n"
     ]
    }
   ],
   "source": [
    "#wap take a random num btwn 10 to 20,five times you need to take and print the square of the number\n",
    "\n",
    "\n",
    "\n",
    "import random\n",
    "for i in range(5):\n",
    "    num1=random.randint(10,20)\n",
    "    print('the square {} is {}'.format(num1,num1*num1))"
   ]
  },
  {
   "cell_type": "code",
   "execution_count": 27,
   "id": "887657f9",
   "metadata": {},
   "outputs": [
    {
     "name": "stdout",
     "output_type": "stream",
     "text": [
      "the square 28 is 784\n",
      "the square 26 is 676\n",
      "the square 21 is 441\n",
      "the square 13 is 169\n",
      "the square 14 is 196\n"
     ]
    }
   ],
   "source": [
    "i=0\n",
    "while i<=4:\n",
    "    num1=random.randint(10,30)\n",
    "    print('the square {} is {}'.format(num1,num1*num1))\n",
    "    i=i+1\n",
    "    "
   ]
  },
  {
   "cell_type": "code",
   "execution_count": 30,
   "id": "f682c4a0",
   "metadata": {},
   "outputs": [
    {
     "name": "stdout",
     "output_type": "stream",
     "text": [
      "the given 10 is even\n",
      "the given 12 is even\n",
      "the given 14 is even\n",
      "the given 16 is even\n",
      "the given 18 is even\n",
      "the given 20 is even\n",
      "the given 20 is odd\n"
     ]
    }
   ],
   "source": [
    "#wap ask the user print a number is an even or odd\n",
    "#consider number from 10 to 20\n",
    "\n",
    "\n",
    "\n",
    "for i in range(10,21):\n",
    "    if i%2==0:\n",
    "        \n",
    "        print('the given {} is even'.format(i))\n",
    "else:\n",
    "    \n",
    "    print('the given {} is odd'.format(i))"
   ]
  },
  {
   "cell_type": "code",
   "execution_count": 32,
   "id": "c2258d05",
   "metadata": {},
   "outputs": [
    {
     "name": "stdout",
     "output_type": "stream",
     "text": [
      "the given 10 is even\n",
      "the given 11 is odd\n",
      "the given 12 is even\n",
      "the given 13 is odd\n",
      "the given 14 is even\n",
      "the given 15 is odd\n",
      "the given 16 is even\n",
      "the given 17 is odd\n",
      "the given 18 is even\n",
      "the given 19 is odd\n",
      "the given 20 is even\n"
     ]
    }
   ],
   "source": [
    "i=10\n",
    "while i<21:\n",
    "\n",
    "    if i%2==0: \n",
    "        print('the given {} is even'.format(i))\n",
    "    else:\n",
    "        \n",
    "        print('the given {} is odd'.format(i))\n",
    "    i=i+1    \n",
    "    \n",
    "        \n",
    "    \n"
   ]
  },
  {
   "cell_type": "code",
   "execution_count": 33,
   "id": "793cc9a6",
   "metadata": {},
   "outputs": [
    {
     "name": "stdout",
     "output_type": "stream",
     "text": [
      "the first 10 natural numbers is: 1\n",
      "the first 10 natural numbers is: 3\n",
      "the first 10 natural numbers is: 6\n",
      "the first 10 natural numbers is: 10\n",
      "the first 10 natural numbers is: 15\n",
      "the first 10 natural numbers is: 21\n",
      "the first 10 natural numbers is: 28\n",
      "the first 10 natural numbers is: 36\n",
      "the first 10 natural numbers is: 45\n",
      "the first 10 natural numbers is: 55\n"
     ]
    }
   ],
   "source": [
    "#print sum of first 10 natural numbers\n",
    "#ans=55\n",
    "#for loop\n",
    "#while loop\n",
    "\n",
    "\n",
    "\n",
    "summ=0\n",
    "for i in range(1,11):\n",
    "    summ=summ+i\n",
    "    print('the first 10 natural numbers is:',summ)"
   ]
  },
  {
   "cell_type": "code",
   "execution_count": 41,
   "id": "ac464ded",
   "metadata": {},
   "outputs": [
    {
     "name": "stdout",
     "output_type": "stream",
     "text": [
      "55\n"
     ]
    }
   ],
   "source": [
    "i=1\n",
    "summ=0\n",
    "while i<11: \n",
    "    summ+=i\n",
    "    i=i+1\n",
    "print(summ)\n",
    "    \n"
   ]
  },
  {
   "cell_type": "code",
   "execution_count": 44,
   "id": "e7e85ace",
   "metadata": {},
   "outputs": [
    {
     "name": "stdout",
     "output_type": "stream",
     "text": [
      "339\n"
     ]
    }
   ],
   "source": [
    "#wap get 10 random numbers btwn 1 to 100\n",
    "#and sum those numbers\n",
    "\n",
    "\n",
    "import random\n",
    "summ=0\n",
    "for i in range(10):\n",
    "    num=random.randint(1,100)\n",
    "    summ=summ+num\n",
    "print(summ)"
   ]
  },
  {
   "cell_type": "code",
   "execution_count": 45,
   "id": "a9adb8c2",
   "metadata": {},
   "outputs": [
    {
     "name": "stdout",
     "output_type": "stream",
     "text": [
      "521\n"
     ]
    }
   ],
   "source": [
    "import random\n",
    "summ=0\n",
    "i=0\n",
    "while i<11:\n",
    "    num=random.randint(1,100)\n",
    "    summ=summ+num\n",
    "    i=i+1\n",
    "print(summ)\n",
    "    \n",
    "    "
   ]
  },
  {
   "cell_type": "code",
   "execution_count": 48,
   "id": "478f7b2e",
   "metadata": {},
   "outputs": [
    {
     "name": "stdout",
     "output_type": "stream",
     "text": [
      "52\n",
      "98\n",
      "54\n",
      "100\n",
      "75\n",
      "75\n",
      "65\n"
     ]
    }
   ],
   "source": [
    "#wap ask the user get 10 random numbers btwn 10 to 100\n",
    "#count how many are greater than 50\n",
    "\n",
    "\n",
    "\n",
    "\n",
    "import random\n",
    "count=0\n",
    "for i in range(10):  \n",
    "    num=random.randint(1,100)\n",
    "    if num>50:\n",
    "        \n",
    "        print(num)\n",
    "        count+=1"
   ]
  },
  {
   "cell_type": "code",
   "execution_count": 59,
   "id": "0fc5c153",
   "metadata": {},
   "outputs": [
    {
     "name": "stdout",
     "output_type": "stream",
     "text": [
      "94 69 52 71 69 71 /\n",
      "6\n"
     ]
    }
   ],
   "source": [
    "i=0\n",
    "count=0\n",
    "while i<10:\n",
    "    num=random.randint(10,100)\n",
    "    if num>50:\n",
    "        print(num,end=' ')\n",
    "        count+=1\n",
    "    i=i+1\n",
    "    \n",
    "print('/')\n",
    "print(count)\n",
    "\n",
    "    \n",
    "\n",
    "        \n",
    "    "
   ]
  },
  {
   "cell_type": "code",
   "execution_count": 58,
   "id": "bfde23f7",
   "metadata": {},
   "outputs": [
    {
     "name": "stdout",
     "output_type": "stream",
     "text": [
      "63 10 95 16 69 60 88 11 89 70 /\n",
      "10\n"
     ]
    }
   ],
   "source": [
    "#wap ask the user get a 10 random number btwn 0 to 10\n",
    "#count how many are greater than 5 and equal=0\n",
    "\n",
    "\n",
    "i=0\n",
    "count=0\n",
    "while i<10:\n",
    "    num=random.randint(10,100)\n",
    "    if num>5 or num==0:\n",
    "        print(num,end=' ')\n",
    "        count+=1\n",
    "    i=i+1\n",
    "print('/')\n",
    "print(count)\n",
    "\n",
    "    "
   ]
  },
  {
   "cell_type": "code",
   "execution_count": 70,
   "id": "94b586f4",
   "metadata": {},
   "outputs": [
    {
     "name": "stdout",
     "output_type": "stream",
     "text": [
      "27 93 59 50 11 64 35 72 67 43 /\n",
      "10\n",
      "/\n",
      "0\n"
     ]
    }
   ],
   "source": [
    "#wap ask the user get a 10 random number between 0 to 10\n",
    "#two count how many are greater than 5\n",
    "#how many are equal=0\n",
    "\n",
    "#i=0\n",
    "#count_0=0\n",
    "#count_5=0\n",
    "i=count_5=count_0=0\n",
    "while i<10:\n",
    "    num=random.randint(10,100)\n",
    "    if num>5 :\n",
    "        print(num,end=' ')\n",
    "        count_5+=1\n",
    "    elif num==0:\n",
    "        \n",
    "        print(num,end=' ')\n",
    "        count_0+=1\n",
    "\n",
    "    i=i+1\n",
    "print('/')\n",
    "print(count_5)\n",
    "print('/')\n",
    "print(count_0)\n"
   ]
  },
  {
   "cell_type": "code",
   "execution_count": null,
   "id": "d7d8ee91",
   "metadata": {},
   "outputs": [],
   "source": [
    "#condition: 1000===== go to play the game\n",
    "#condition: 500\n",
    "     take the money\n",
    "    500+100 <1000"
   ]
  }
 ],
 "metadata": {
  "kernelspec": {
   "display_name": "Python 3 (ipykernel)",
   "language": "python",
   "name": "python3"
  },
  "language_info": {
   "codemirror_mode": {
    "name": "ipython",
    "version": 3
   },
   "file_extension": ".py",
   "mimetype": "text/x-python",
   "name": "python",
   "nbconvert_exporter": "python",
   "pygments_lexer": "ipython3",
   "version": "3.11.5"
  }
 },
 "nbformat": 4,
 "nbformat_minor": 5
}
