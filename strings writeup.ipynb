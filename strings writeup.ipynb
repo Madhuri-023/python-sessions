{
 "cells": [
  {
   "cell_type": "markdown",
   "id": "6a92b3a7",
   "metadata": {},
   "source": [
    "$string$"
   ]
  },
  {
   "cell_type": "markdown",
   "id": "2ea79159",
   "metadata": {},
   "source": [
    "- string is acollection of characters which can be written in the single quotes and double quotes and also triple quotes\n",
    "which can be called as 'doc string'\n",
    "and strings are immutable means which cannot be changed\n",
    "\n",
    "example:'Apple',\"ELEPHANT\",\"\"\"1234\"\"\""
   ]
  },
  {
   "cell_type": "markdown",
   "id": "dda2c21d",
   "metadata": {},
   "source": [
    "$how to read strings$"
   ]
  },
  {
   "cell_type": "code",
   "execution_count": 1,
   "id": "3b8e7777",
   "metadata": {},
   "outputs": [
    {
     "data": {
      "text/plain": [
       "'python'"
      ]
     },
     "execution_count": 1,
     "metadata": {},
     "output_type": "execute_result"
    }
   ],
   "source": [
    "#single quotes:\n",
    "\n",
    "string1='python'\n",
    "string1\n",
    "    \n",
    "    "
   ]
  },
  {
   "cell_type": "code",
   "execution_count": 3,
   "id": "8390100e",
   "metadata": {},
   "outputs": [
    {
     "data": {
      "text/plain": [
       "'python'"
      ]
     },
     "execution_count": 3,
     "metadata": {},
     "output_type": "execute_result"
    }
   ],
   "source": [
    "#double quotes:\n",
    "\n",
    "string2=\"python\"\n",
    "string2"
   ]
  },
  {
   "cell_type": "code",
   "execution_count": 4,
   "id": "2d86f7b1",
   "metadata": {},
   "outputs": [
    {
     "data": {
      "text/plain": [
       "'python'"
      ]
     },
     "execution_count": 4,
     "metadata": {},
     "output_type": "execute_result"
    }
   ],
   "source": [
    "# triple quotes:\n",
    "#also called doc string we represent in triple quotes\n",
    "\n",
    "string3=\"\"\"python\"\"\"   \n",
    "string3"
   ]
  },
  {
   "cell_type": "markdown",
   "id": "b69ea9b1",
   "metadata": {},
   "source": [
    "$type$"
   ]
  },
  {
   "cell_type": "code",
   "execution_count": 5,
   "id": "9c2a1631",
   "metadata": {},
   "outputs": [
    {
     "data": {
      "text/plain": [
       "str"
      ]
     },
     "execution_count": 5,
     "metadata": {},
     "output_type": "execute_result"
    }
   ],
   "source": [
    "type(string1)"
   ]
  },
  {
   "cell_type": "markdown",
   "id": "af732700",
   "metadata": {},
   "source": [
    "$len$"
   ]
  },
  {
   "cell_type": "code",
   "execution_count": 7,
   "id": "2c9d86b0",
   "metadata": {},
   "outputs": [
    {
     "name": "stdout",
     "output_type": "stream",
     "text": [
      "12\n"
     ]
    }
   ],
   "source": [
    "#to get the length of the string we use len() funtion\n",
    "#the len() function returns the length of a string:\n",
    "a='Hello,world!'\n",
    "print(len(a))\n",
    "#here there are 12 letters in the given string \n",
    "#including comma and exclamatory coperators so the length of the string=12"
   ]
  },
  {
   "cell_type": "markdown",
   "id": "e20a21c6",
   "metadata": {},
   "source": [
    "$in$"
   ]
  },
  {
   "cell_type": "code",
   "execution_count": 2,
   "id": "75292821",
   "metadata": {},
   "outputs": [
    {
     "data": {
      "text/plain": [
       "True"
      ]
     },
     "execution_count": 2,
     "metadata": {},
     "output_type": "execute_result"
    }
   ],
   "source": [
    "#in operator is used to check if a character is present in a string\n",
    "string1='python'\n",
    "'p' in string1\n",
    "'y'in string1\n",
    "'t'in string1\n",
    "'h'in string1\n",
    "'o' in string1\n",
    "'n'in string1\n",
    "\n",
    "#i in string1 -generalised expression\n",
    "\n",
    "\n",
    "\n",
    "\n"
   ]
  },
  {
   "cell_type": "code",
   "execution_count": 3,
   "id": "5bcf793f",
   "metadata": {},
   "outputs": [
    {
     "name": "stdout",
     "output_type": "stream",
     "text": [
      "p\n",
      "y\n",
      "t\n",
      "h\n",
      "o\n",
      "n\n"
     ]
    }
   ],
   "source": [
    "for i in string1:\n",
    "    print(i)"
   ]
  },
  {
   "cell_type": "markdown",
   "id": "bd857426",
   "metadata": {},
   "source": [
    "$max-min$"
   ]
  },
  {
   "cell_type": "code",
   "execution_count": 6,
   "id": "717b5dc5",
   "metadata": {},
   "outputs": [
    {
     "name": "stdout",
     "output_type": "stream",
     "text": [
      "Max length: 6\n",
      "Min length: 5\n"
     ]
    }
   ],
   "source": [
    "#max:-this function is used to compute the max of the values passed in its arguments\n",
    "#min:-this function is used to compute the min of the values passes in its arguments\n",
    "\n",
    "string_list = [\"apple\", \"banana\", \"orange\", \"grape\"]\n",
    "\n",
    "max_length = max(len(s) for s in string_list)\n",
    "min_length = min(len(s) for s in string_list)\n",
    "\n",
    "print(\"Max length:\", max_length)\n",
    "print(\"Min length:\", min_length)\n",
    "\n",
    "#Here, max() and min() are used\n",
    "#to find the maximum and minimum lengths of the strings in the list.\n",
    "    \n"
   ]
  },
  {
   "cell_type": "code",
   "execution_count": 8,
   "id": "1edb4fe4",
   "metadata": {},
   "outputs": [
    {
     "name": "stdout",
     "output_type": "stream",
     "text": [
      "Max value: e\n",
      "Min value: a\n"
     ]
    }
   ],
   "source": [
    "string_values = \"abcde\"\n",
    "\n",
    "max_value = max(string_values)\n",
    "min_value = min(string_values)\n",
    "\n",
    "print(\"Max value:\", max_value)\n",
    "print(\"Min value:\", min_value)\n",
    "\n",
    "\n",
    "#In this example, max() returns the character with the highest ASCII value \n",
    "#while min() returns the character with the lowest ASCII value."
   ]
  },
  {
   "cell_type": "markdown",
   "id": "65912ec8",
   "metadata": {},
   "source": [
    "$concatenation$"
   ]
  },
  {
   "cell_type": "code",
   "execution_count": 11,
   "id": "fa255bb5",
   "metadata": {},
   "outputs": [
    {
     "name": "stdout",
     "output_type": "stream",
     "text": [
      "HelloWorld\n",
      "Hello World\n"
     ]
    }
   ],
   "source": [
    "#addition of two strings is concatenation,to concatenate or\n",
    "#combine two strings you can use the +operator\n",
    "\n",
    "#Merge variable a with variable b into variable c:\n",
    "    \n",
    "a = \"Hello\"\n",
    "b = \"World\"\n",
    "c = a + b\n",
    "print(c)\n",
    "\n",
    "\n",
    "#To add a space between them, add a \" \":\n",
    "a = \"Hello\"\n",
    "b = \"World\"\n",
    "c = a + \" \" + b\n",
    "print(c)"
   ]
  },
  {
   "cell_type": "markdown",
   "id": "5b463d09",
   "metadata": {},
   "source": [
    "$multiplication$"
   ]
  },
  {
   "cell_type": "code",
   "execution_count": 1,
   "id": "881fcc2c",
   "metadata": {},
   "outputs": [
    {
     "name": "stdout",
     "output_type": "stream",
     "text": [
      "Hello Hello Hello \n"
     ]
    }
   ],
   "source": [
    "#In Python, the multiplication operator (*):\n",
    "#can be used with strings to repeat them a certain number of times.\n",
    "#Here's an example:\n",
    "original_string = \"Hello \"\n",
    "multiplied_string = original_string * 3\n",
    "print(multiplied_string)\n",
    "\n",
    "#In this example, the string \"Hello \" is multiplied by 3, \n",
    "#resulting in the repetition of the string three times.\n",
    "\n"
   ]
  },
  {
   "cell_type": "markdown",
   "id": "cec65cf8",
   "metadata": {},
   "source": [
    "$subtraction$"
   ]
  },
  {
   "cell_type": "code",
   "execution_count": 13,
   "id": "b0fce885",
   "metadata": {},
   "outputs": [
    {
     "ename": "TypeError",
     "evalue": "unsupported operand type(s) for -: 'str' and 'str'",
     "output_type": "error",
     "traceback": [
      "\u001b[1;31m---------------------------------------------------------------------------\u001b[0m",
      "\u001b[1;31mTypeError\u001b[0m                                 Traceback (most recent call last)",
      "Cell \u001b[1;32mIn[13], line 11\u001b[0m\n\u001b[0;32m      8\u001b[0m string1 \u001b[38;5;241m=\u001b[39m \u001b[38;5;124m\"\u001b[39m\u001b[38;5;124mHello, World!\u001b[39m\u001b[38;5;124m\"\u001b[39m\n\u001b[0;32m      9\u001b[0m string2 \u001b[38;5;241m=\u001b[39m \u001b[38;5;124m\"\u001b[39m\u001b[38;5;124mHello, \u001b[39m\u001b[38;5;124m\"\u001b[39m\n\u001b[1;32m---> 11\u001b[0m result \u001b[38;5;241m=\u001b[39m string1 \u001b[38;5;241m-\u001b[39m string2\n",
      "\u001b[1;31mTypeError\u001b[0m: unsupported operand type(s) for -: 'str' and 'str'"
     ]
    }
   ],
   "source": [
    "#In Python, the subtraction operator (-) is not defined for strings. \n",
    "#The subtraction operation is not a valid operation \n",
    "#for strings in Python,and attempting to use it will result in a TypeError. \n",
    "#Strings in Python mainly support concatenation (+) and repetition (*) operators.\n",
    "\n",
    "#If you want to remove a substring from a string, \n",
    "#you can use various string methods like using replace()\n",
    "#Here's an example to illustrate how the subtraction operator works with strings:\n",
    "\n",
    "string1 = \"Hello, World!\"\n",
    "string2 = \"Hello, \"\n",
    "\n",
    "result = string1 - string2  # This will raise a TypeError\n",
    "#Attempting to subtract one string from another will result in a TypeError\n",
    "#because the subtraction operation is not supported between strings.\n"
   ]
  },
  {
   "cell_type": "markdown",
   "id": "faa2f3ac",
   "metadata": {},
   "source": [
    "$division$"
   ]
  },
  {
   "cell_type": "code",
   "execution_count": 15,
   "id": "6158c720",
   "metadata": {},
   "outputs": [
    {
     "name": "stdout",
     "output_type": "stream",
     "text": [
      ", World!\n"
     ]
    }
   ],
   "source": [
    "#The division operator (/) is not defined for strings in Python. \n",
    "#The division operation is meaningful for numerical types\n",
    "#but strings are considered sequences of characters,\n",
    "#and division is not a meaningful operation on sequences of characters.\n",
    "\n",
    "#If you want to perform operations on strings:\n",
    "#For example:\n",
    "string1 = \"Hello, World!\"\n",
    "string2 = \"Hello\"\n",
    "\n",
    "# Check if string2 is a substring of string1\n",
    "if string2 in string1:\n",
    "    result = string1.replace(string2, \"\")\n",
    "    print(result)\n",
    "else:\n",
    "    print(\"string2 is not a substring of string1\")\n",
    "#In this example, the code checks if string2 is a substring of string1 using the in operator. \n",
    "#If it is, the replace method is used to remove occurrences of string2 from string1."
   ]
  },
  {
   "cell_type": "markdown",
   "id": "89111ba6",
   "metadata": {},
   "source": [
    "$in operator- using( for loop)$"
   ]
  },
  {
   "cell_type": "code",
   "execution_count": 17,
   "id": "2e7e77bf",
   "metadata": {},
   "outputs": [
    {
     "name": "stdout",
     "output_type": "stream",
     "text": [
      "1\n",
      "2\n",
      "3\n",
      "4\n",
      "5\n"
     ]
    }
   ],
   "source": [
    "#the in operator is often used in for loops to iterate over elements in a sequence\n",
    "#The in operator checks whether a value is present in a sequence,\n",
    "#and the for loop then iterates over the elements of that sequence.\n",
    "\n",
    "#Here's a simple example using a list:\n",
    "my_list = [1, 2, 3, 4, 5]\n",
    "\n",
    "for element in my_list:\n",
    "    print(element)\n",
    "    \n",
    "#n this example, the for loop iterates over each element in my_list, \n",
    "#and the in operator is used to check if each element is present in the list.\n",
    "#The loop body then prints each element.\n"
   ]
  },
  {
   "cell_type": "markdown",
   "id": "d245169d",
   "metadata": {},
   "source": [
    "$index$"
   ]
  },
  {
   "cell_type": "code",
   "execution_count": 2,
   "id": "dccb35a7",
   "metadata": {},
   "outputs": [
    {
     "name": "stdout",
     "output_type": "stream",
     "text": [
      "Index of 'World': 7\n",
      "Found 'World' at index: 7\n",
      "Found 'World' at index: 14\n",
      "Found 'World' at index: 32\n"
     ]
    }
   ],
   "source": [
    "#you can use the index() method to find the index of a substring within a string.\n",
    "#The index() method returns the lowest index in the string where the substring is found.\n",
    "#If the substring is not present, it raises a ValueError. Here's an example:\n",
    "my_string = \"Hello, World!\"\n",
    "\n",
    "# Find the index of the substring \"World\"\n",
    "index = my_string.index(\"World\")\n",
    "print(\"Index of 'World':\", index)\n",
    "\n",
    "#In this example, the index() method is used to find the index of the substring :\n",
    "#\"World\" within the my_string.\n",
    "\n",
    "\n",
    "#If the substring appears more than once in the string, \n",
    "#index() will return the index of the first occurrence.\n",
    "#If you want to find all occurrences:\n",
    "#you may need to use a loop or other methods depending on your requirements.\n",
    "\n",
    "my_string = \"Hello, World! World is amazing. World.\"\n",
    "\n",
    "substring = \"World\"\n",
    "start_index = 0\n",
    "\n",
    "while start_index < len(my_string):\n",
    "    index = my_string.find(substring, start_index)\n",
    "    if index == -1:\n",
    "        break\n",
    "    print(f\"Found '{substring}' at index:\", index)\n",
    "    start_index = index + len(substring)\n",
    "\n",
    "#In this example, the find() method \n",
    "#is used in a loop to find all occurrences of the substring \"World\" in the my_string.\n",
    "#The loop keeps updating the start_index to continue the search.\n",
    "\n",
    "\n",
    "\n"
   ]
  },
  {
   "cell_type": "markdown",
   "id": "1ace21ea",
   "metadata": {},
   "source": [
    "$mutable condtion$"
   ]
  },
  {
   "cell_type": "code",
   "execution_count": 21,
   "id": "42408c77",
   "metadata": {},
   "outputs": [
    {
     "name": "stdout",
     "output_type": "stream",
     "text": [
      "hello, World!\n"
     ]
    }
   ],
   "source": [
    "#strings are immutable,their values cannot be changed after they are created. \n",
    "#Once a string object is assigned,you cannot modify its individual characters directly\n",
    "\n",
    "#Here's an example to illustrate the immutability of strings:\n",
    "my_string = \"Hello, World!\"\n",
    "\n",
    "# Attempting to modify the string will result in an error\n",
    "# Uncommenting the line below will raise an error:\n",
    "# my_string[0] = 'h'\n",
    "\n",
    "# To make changes, you need to create a new string\n",
    "new_string = 'h' + my_string[1:]\n",
    "print(new_string)\n",
    "\n",
    "#In this code trying to change the first character of my_string directly:\n",
    "#(my_string[0] = 'h')\n",
    "#will result in a TypeError because strings do not support item assignment.\n",
    "\n",
    "#Instead, a new string is created by concatenating the desired changes ('h')\n",
    "#with the remaining characters of the original string (my_string[1:]).\n",
    "\n",
    "\n"
   ]
  },
  {
   "cell_type": "markdown",
   "id": "442deb5b",
   "metadata": {},
   "source": [
    "$slice$"
   ]
  },
  {
   "cell_type": "code",
   "execution_count": null,
   "id": "efb840c9",
   "metadata": {},
   "outputs": [],
   "source": [
    "#the slice notation is concise way to extract portions of strings. \n",
    "#The basic syntax for string slicing is as follows:\n",
    "#string[start:stop:step]\n",
    "#start: The starting index of the slice.\n",
    "#stop: The stopping index of the slice .\n",
    "#step: The step or stride between elements.\n",
    "\n",
    "#examples:\n",
    "text = \"Hello, World!\"\n",
    "\n",
    "# Extract characters from index 7 to 12 (exclusive)\n",
    "result = text[7:12]\n",
    "print(result)  # Output: World\n",
    "\n",
    "# Extract every second character from index 0 to 10\n",
    "result = text[0:10:2]\n",
    "print(result)  # Output: Hlo,W\n",
    "\n",
    "# Omitting start or stop values\n",
    "result = text[:5]   # Equivalent to text[0:5]\n",
    "print(result)  # Output: Hello\n",
    "\n",
    "result = text[7:]   # Equivalent to text[7:len(text)]\n",
    "print(result)  # Output: World!\n",
    "\n",
    "# Negative indices can be used to count from the end\n",
    "result = text[-6:-1]\n",
    "print(result)  # Output: World\n",
    "\n",
    "**note**\n",
    "#Remember that in Python, indexing starts from 0\n",
    "#and negative indices are counted from the end of the string.\n",
    "\n",
    "\n"
   ]
  },
  {
   "cell_type": "markdown",
   "id": "91ee9b18",
   "metadata": {},
   "source": [
    "**string methods**"
   ]
  },
  {
   "cell_type": "markdown",
   "id": "5b328109",
   "metadata": {},
   "source": [
    "$captilize$"
   ]
  },
  {
   "cell_type": "code",
   "execution_count": 23,
   "id": "0db7f11b",
   "metadata": {},
   "outputs": [
    {
     "name": "stdout",
     "output_type": "stream",
     "text": [
      "Hello, world!\n"
     ]
    }
   ],
   "source": [
    "#Capitalizes the first letter of the string.\n",
    "text = \"hello, world!\"\n",
    "capitalized_text = text.capitalize()\n",
    "print(capitalized_text)  # Output: Hello, world!\n"
   ]
  },
  {
   "cell_type": "markdown",
   "id": "13a89788",
   "metadata": {},
   "source": [
    "$lower and upper$"
   ]
  },
  {
   "cell_type": "code",
   "execution_count": 24,
   "id": "a2cf1933",
   "metadata": {},
   "outputs": [
    {
     "name": "stdout",
     "output_type": "stream",
     "text": [
      "hello, world!\n",
      "HELLO, WORLD!\n"
     ]
    }
   ],
   "source": [
    "text = \"Hello, World!\"\n",
    "lower_text = text.lower()\n",
    "upper_text = text.upper()\n",
    "print(lower_text)  # Output: hello, world!\n",
    "print(upper_text)  # Output: HELLO, WORLD!\n"
   ]
  },
  {
   "cell_type": "markdown",
   "id": "24ab8d50",
   "metadata": {},
   "source": [
    "$casefold$"
   ]
  },
  {
   "cell_type": "code",
   "execution_count": 25,
   "id": "e434e8d4",
   "metadata": {},
   "outputs": [
    {
     "name": "stdout",
     "output_type": "stream",
     "text": [
      "Using lower(): The strings are equal.\n",
      "Using casefold(): The strings are equal.\n"
     ]
    }
   ],
   "source": [
    "#The casefold() method is more aggressive in removing all case distinctions\n",
    "#including special characters that do not have a direct lowercase equivalent.\n",
    "text1 = \"Hello, World!\"\n",
    "text2 = \"hello, world!\"\n",
    "\n",
    "# Using lower() for comparison\n",
    "if text1.lower() == text2.lower():\n",
    "    print(\"Using lower(): The strings are equal.\")\n",
    "else:\n",
    "    print(\"Using lower(): The strings are not equal.\")\n",
    "\n",
    "# Using casefold() for comparison\n",
    "if text1.casefold() == text2.casefold():\n",
    "    print(\"Using casefold(): The strings are equal.\")\n",
    "else:\n",
    "    print(\"Using casefold(): The strings are not equal.\")\n",
    "#In this both the lower() and casefold()methods are used for case-insensitivecomparisons. \n"
   ]
  },
  {
   "cell_type": "markdown",
   "id": "bd2b5eb7",
   "metadata": {},
   "source": [
    "$find and index$"
   ]
  },
  {
   "cell_type": "code",
   "execution_count": 26,
   "id": "aac519f6",
   "metadata": {},
   "outputs": [
    {
     "name": "stdout",
     "output_type": "stream",
     "text": [
      "7\n"
     ]
    }
   ],
   "source": [
    "#Find the index of a substring in the string.\n",
    "text = \"Hello, World!\"\n",
    "index = text.find(\"World\")\n",
    "print(index)  # Output: 7\n",
    "#find() returns -1 if the substring is not found, while index() raises a ValueError.\n"
   ]
  },
  {
   "cell_type": "markdown",
   "id": "38667957",
   "metadata": {},
   "source": [
    "$count$"
   ]
  },
  {
   "cell_type": "code",
   "execution_count": 27,
   "id": "f1373e66",
   "metadata": {},
   "outputs": [
    {
     "name": "stdout",
     "output_type": "stream",
     "text": [
      "3\n"
     ]
    }
   ],
   "source": [
    "#Counts the occurrences of a substring in the string.\n",
    "text = \"Hello, World!\"\n",
    "count = text.count(\"l\")\n",
    "print(count)  # Output: 3\n"
   ]
  },
  {
   "cell_type": "markdown",
   "id": "ace87a44",
   "metadata": {},
   "source": [
    "$replace$"
   ]
  },
  {
   "cell_type": "code",
   "execution_count": 28,
   "id": "6e5851d4",
   "metadata": {},
   "outputs": [
    {
     "name": "stdout",
     "output_type": "stream",
     "text": [
      "Hello, Python!\n"
     ]
    }
   ],
   "source": [
    "#Replaces a specified substring with another substring.\n",
    "text = \"Hello, World!\"\n",
    "new_text = text.replace(\"World\", \"Python\")\n",
    "print(new_text)  # Output: Hello, Python!\n"
   ]
  },
  {
   "cell_type": "markdown",
   "id": "2fc1bb7b",
   "metadata": {},
   "source": [
    "$strip-lstrip-rstrip$"
   ]
  },
  {
   "cell_type": "code",
   "execution_count": 29,
   "id": "aea2bd8a",
   "metadata": {},
   "outputs": [
    {
     "name": "stdout",
     "output_type": "stream",
     "text": [
      "hello how are you\n",
      "hello how are you \n",
      " hello how are you\n"
     ]
    }
   ],
   "source": [
    "str1=' hello how are you '\n",
    "str2=' hello how are you'\n",
    "str3='hello how are you '\n",
    "print(str1.strip())\n",
    "print(str1.lstrip())\n",
    "print(str1.rstrip())\n",
    "\n",
    "#i want to remove the spaces\n",
    "#if you want to remove the spaces the both side use strip method \n",
    "#if you want to remove the spaces only left side then use lstrip:left strip\n",
    "#f you want to remove the spaces only right side then use rstrip:right strip"
   ]
  },
  {
   "cell_type": "markdown",
   "id": "34b54a82",
   "metadata": {},
   "source": [
    "$startswith-endswith$"
   ]
  },
  {
   "cell_type": "code",
   "execution_count": 32,
   "id": "457368a6",
   "metadata": {},
   "outputs": [
    {
     "name": "stdout",
     "output_type": "stream",
     "text": [
      "True\n",
      "True\n",
      "True\n"
     ]
    }
   ],
   "source": [
    "# the startswith() and endswith() methods are used to\n",
    "#check whether a string starts or ends with a specified prefix or suffix, \n",
    "#this will return True if the string begins or ends with the specified substring&False\n",
    "text = \"Hello, World!\"\n",
    "\n",
    "# Check if the string starts with \"Hello\"\n",
    "result = text.startswith(\"Hello\")\n",
    "print(result)  # Output: True\n",
    "\n",
    "\n",
    "\n",
    "#endswith()\n",
    "text = \"Hello, World!\"\n",
    "\n",
    "# Check if the string ends with \"World!\"\n",
    "result = text.endswith(\"World!\")\n",
    "print(result)  # Output: True\n",
    "\n",
    "\n",
    "#another example\n",
    "text = \"Hello, World!\"\n",
    "\n",
    "# Check if the string starts with \"Hello\" and ends with \"World!\"\n",
    "result = text.startswith(\"Hello\") and text.endswith(\"World!\")\n",
    "print(result)  # Output: True\n",
    "\n"
   ]
  },
  {
   "cell_type": "markdown",
   "id": "adc3a5e6",
   "metadata": {},
   "source": [
    "$isalpha-isnumeric-isalnum$"
   ]
  },
  {
   "cell_type": "code",
   "execution_count": 33,
   "id": "064ec03f",
   "metadata": {},
   "outputs": [
    {
     "name": "stdout",
     "output_type": "stream",
     "text": [
      "True\n",
      "False\n"
     ]
    }
   ],
   "source": [
    "#the isalpha,isnumeric,isalnum are string methods used yo check the content of strings.\n",
    "#These methods return True if the specified conditions are met, and False otherwise.\n",
    "\n",
    "#isalpha() Method:Returns True if all characters in the string are alphabetic \n",
    "#(consists of letters only),\n",
    "#and the string is not empty.\n",
    "text_alpha = \"Hello\"\n",
    "result_alpha = text_alpha.isalpha()\n",
    "print(result_alpha)  # Output: True\n",
    "\n",
    "text_mixed = \"Hello123\"\n",
    "result_mixed = text_mixed.isalpha()\n",
    "print(result_mixed)  # Output: False\n"
   ]
  },
  {
   "cell_type": "code",
   "execution_count": 34,
   "id": "818489f2",
   "metadata": {},
   "outputs": [
    {
     "name": "stdout",
     "output_type": "stream",
     "text": [
      "True\n",
      "False\n"
     ]
    }
   ],
   "source": [
    "#isnumeric() Method:Returns True if all characters in the string are numeric\n",
    "#(consists of digits only)\n",
    "#and the string is not empty.\n",
    "numeric_string = \"12345\"\n",
    "result_numeric = numeric_string.isnumeric()\n",
    "print(result_numeric)  # Output: True\n",
    "\n",
    "mixed_string = \"Hello123\"\n",
    "result_mixed = mixed_string.isnumeric()\n",
    "print(result_mixed)  # Output: False\n"
   ]
  },
  {
   "cell_type": "code",
   "execution_count": 35,
   "id": "ebcccabf",
   "metadata": {},
   "outputs": [
    {
     "name": "stdout",
     "output_type": "stream",
     "text": [
      "True\n",
      "False\n"
     ]
    }
   ],
   "source": [
    "#isalnum() Method:Returns True if all characters in the string are alphanumeric\n",
    "#(consists of letters and digits only)\n",
    "#and the string is not empty\n",
    "alphanumeric_string = \"Hello123\"\n",
    "result_alphanumeric = alphanumeric_string.isalnum()\n",
    "print(result_alphanumeric)  # Output: True\n",
    "\n",
    "mixed_string = \"Hello 123!\"\n",
    "result_mixed = mixed_string.isalnum()\n",
    "print(result_mixed)  # Output: False\n"
   ]
  },
  {
   "cell_type": "markdown",
   "id": "bbbaaad3",
   "metadata": {},
   "source": [
    "$split$"
   ]
  },
  {
   "cell_type": "code",
   "execution_count": 36,
   "id": "41ae1e99",
   "metadata": {},
   "outputs": [
    {
     "name": "stdout",
     "output_type": "stream",
     "text": [
      "['This', 'is', 'a', 'sample', 'sentence.']\n"
     ]
    }
   ],
   "source": [
    "#The split() method splits a string into alist.\n",
    "sentence = \"This is a sample sentence.\"\n",
    "words = sentence.split()\n",
    "\n",
    "print(words)\n",
    "\n",
    "#In this example, the split() method is called without a specified separator,\n",
    "#so it uses the default whitespace separator to split the string into a list of words."
   ]
  },
  {
   "cell_type": "code",
   "execution_count": 37,
   "id": "0bd96147",
   "metadata": {},
   "outputs": [
    {
     "name": "stdout",
     "output_type": "stream",
     "text": [
      "['apple', 'orange', 'banana', 'grape']\n"
     ]
    }
   ],
   "source": [
    "#Splitting with a Specific Separator:\n",
    "fruits_data = \"apple,orange,banana,grape\"\n",
    "fruits = fruits_data.split(',')\n",
    "\n",
    "print(fruits)\n",
    "# Output: ['apple', 'orange', 'banana', 'grape']\n"
   ]
  }
 ],
 "metadata": {
  "kernelspec": {
   "display_name": "Python 3 (ipykernel)",
   "language": "python",
   "name": "python3"
  },
  "language_info": {
   "codemirror_mode": {
    "name": "ipython",
    "version": 3
   },
   "file_extension": ".py",
   "mimetype": "text/x-python",
   "name": "python",
   "nbconvert_exporter": "python",
   "pygments_lexer": "ipython3",
   "version": "3.11.5"
  }
 },
 "nbformat": 4,
 "nbformat_minor": 5
}
