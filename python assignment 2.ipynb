{
 "cells": [
  {
   "cell_type": "code",
   "execution_count": null,
   "id": "725146be",
   "metadata": {},
   "outputs": [],
   "source": [
    "#answer-1\n",
    "\n",
    "basic_salary= eval(input('enter the ramesh basic salary:'))\n",
    "dearness_allowance= 0.4*basic_salary\n",
    "houserent= 0.2*basic_salary\n",
    "gross_salary= basic_salary + dearness_allowance + houserent\n",
    "print('ramesh gross salary:',gross_salary)"
   ]
  },
  {
   "cell_type": "code",
   "execution_count": 20,
   "id": "6d32d6bf",
   "metadata": {},
   "outputs": [
    {
     "name": "stdout",
     "output_type": "stream",
     "text": [
      "enter the distance in kilometers:45\n",
      "distance in meters: 45000\n",
      "distance in feet: 147637.80000000002\n",
      "distance in inches: 1771654.5\n",
      "distance in centimeters: 4500000\n"
     ]
    }
   ],
   "source": [
    "#answer-2\n",
    "distance_km=eval(input('enter the distance in kilometers:'))\n",
    "meters=distance_km*1000\n",
    "feet=distance_km*3280.84\n",
    "inches=distance_km*39370.1\n",
    "centimeters=distance_km*100000\n",
    "print('distance in meters:',meters)\n",
    "print('distance in feet:',feet)\n",
    "print('distance in inches:',inches)\n",
    "print('distance in centimeters:',centimeters)"
   ]
  },
  {
   "cell_type": "code",
   "execution_count": 3,
   "id": "73e24cb4",
   "metadata": {},
   "outputs": [
    {
     "name": "stdout",
     "output_type": "stream",
     "text": [
      "Enter the marks scored in subject 1:90\n",
      "Enter the marks scored in subject 2:90\n",
      "Enter the marks scored in subject 3:80\n",
      "Enter the marks scored in subject 4:80\n",
      "Enter the marks scored in subject 5:70\n",
      "Enter the marks scored in subject 6:70\n",
      "The total marks obtained are 480 out of 600\n",
      "The aggregate marks are 80.0  and the percentage obtained is 80.0\n"
     ]
    }
   ],
   "source": [
    "#3-answer\n",
    "\n",
    "sub1 = eval(input (\"Enter the marks scored in subject 1:\"))\n",
    "sub2 = eval(input(\"Enter the marks scored in subject 2:\"))\n",
    "sub3 = eval(input (\"Enter the marks scored in subject 3:\"))\n",
    "sub4 = eval(input(\"Enter the marks scored in subject 4:\"))\n",
    "sub5 = eval(input (\"Enter the marks scored in subject 5:\"))\n",
    "sub6 = eval(input(\"Enter the marks scored in subject 6:\"))\n",
    "sum = sub1+sub2+sub3+sub4+sub5+sub6\n",
    "aggregate = sum/6\n",
    "percentage = (sum/600)*100\n",
    "print(\"The total marks obtained are {} out of 600\".format(sum))\n",
    "print(\"The aggregate marks are {}  and the percentage obtained is {}\".format(aggregate,percentage))"
   ]
  },
  {
   "cell_type": "code",
   "execution_count": 26,
   "id": "4fab90f5",
   "metadata": {},
   "outputs": [
    {
     "name": "stdout",
     "output_type": "stream",
     "text": [
      "enter the value of temperature in fahreinheit:12\n",
      "temperature in celcius: -11.11111111111111\n"
     ]
    }
   ],
   "source": [
    "#4-answer\n",
    "fahreinheit=eval(input('enter the value of temperature in fahreinheit:'))\n",
    "celcius=(fahreinheit-32)*5/9\n",
    "print('temperature in celcius:',celcius)\n",
    "\n"
   ]
  },
  {
   "cell_type": "code",
   "execution_count": 33,
   "id": "5d83605b",
   "metadata": {},
   "outputs": [
    {
     "name": "stdout",
     "output_type": "stream",
     "text": [
      "enter the radius of circle:2\n",
      "enter the length of rectangle:3\n",
      "enter the breadth of rectangle:4\n",
      "area of rectangle: 12\n",
      "perimeter of rectangle: 14\n",
      "area of thhe circle: 12.566370614359172\n",
      "circumference of the circle: 12.566370614359172\n"
     ]
    }
   ],
   "source": [
    "#5-answer\n",
    "import math\n",
    "radius=eval(input('enter the radius of circle:'))\n",
    "length=eval(input('enter the length of rectangle:'))\n",
    "breadth=eval(input('enter the breadth of rectangle:'))\n",
    "rectangle_area=length * breadth\n",
    "rectangle_perimeter=2*(length+breadth)\n",
    "circle_area= math.pi* (radius ** 2)\n",
    "circle_circumference=2 * math.pi * radius\n",
    "print('area of rectangle:',rectangle_area)\n",
    "print('perimeter of rectangle:',rectangle_perimeter)\n",
    "print('area of thhe circle:',circle_area)\n",
    "print('circumference of the circle:',circle_circumference)\n",
    "\n"
   ]
  },
  {
   "cell_type": "code",
   "execution_count": 3,
   "id": "436e4ad3",
   "metadata": {},
   "outputs": [
    {
     "name": "stdout",
     "output_type": "stream",
     "text": [
      "enter the value for c:23\n",
      "enter the value for d:34\n",
      "the value of c and d after interchanging them=: 34 23\n"
     ]
    }
   ],
   "source": [
    "#6-answer\n",
    "\n",
    "\n",
    "c=eval(input('enter the value for c:'))\n",
    "d=eval(input('enter the value for d:'))\n",
    "temp=c\n",
    "c=d\n",
    "d=temp\n",
    "print('the value of c and d after interchanging them=:',c,d)\n",
    "\n",
    "\n"
   ]
  },
  {
   "cell_type": "code",
   "execution_count": 4,
   "id": "9318d9bc",
   "metadata": {},
   "outputs": [
    {
     "name": "stdout",
     "output_type": "stream",
     "text": [
      "enter the five digit number:23456\n",
      "the reverse od number is= 65432\n"
     ]
    }
   ],
   "source": [
    "#7-answer\n",
    "\n",
    "num=eval(input('enter the five digit number:'))\n",
    "tem=num\n",
    "rev=0\n",
    "while(tem>0):\n",
    "    r=tem%10\n",
    "    rev=(rev*10)+r\n",
    "    tem=tem//10\n",
    "print('the reverse od number is=',rev)\n",
    "    "
   ]
  },
  {
   "cell_type": "code",
   "execution_count": 10,
   "id": "73cf7262",
   "metadata": {},
   "outputs": [
    {
     "name": "stdout",
     "output_type": "stream",
     "text": [
      "enter a four digit number3458\n",
      "the addition of first and last number: 11\n"
     ]
    }
   ],
   "source": [
    "#8-answer\n",
    "\n",
    "num=eval(input('enter a four digit number'))\n",
    "last_digit=num%10\n",
    "while(num>=10):\n",
    "    num=num//10\n",
    "first_digit=num\n",
    "sum=first_digit+last_digit\n",
    "print('the addition of first and last number:',sum)\n",
    "\n",
    "\n",
    "\n"
   ]
  },
  {
   "cell_type": "code",
   "execution_count": 7,
   "id": "5094a3bd",
   "metadata": {},
   "outputs": [
    {
     "name": "stdout",
     "output_type": "stream",
     "text": [
      "the total literate men and women are= 11760.0 21840.0\n"
     ]
    }
   ],
   "source": [
    "#9-answer\n",
    "\n",
    "\n",
    "population_town=70000\n",
    "men_percentage=42\n",
    "total_literacypercent=48\n",
    "literate_menpercent=35\n",
    "men=(population_town*men_percentage)/100\n",
    "women=population_town-men\n",
    "total_literacy=(total_literacypercent*population_town)/100\n",
    "literate_men=(total_literacy*literate_menpercent)/100\n",
    "literate_women=total_literacy-literate_men\n",
    "print('the total literate men and women are=',literate_men,literate_women)"
   ]
  },
  {
   "cell_type": "code",
   "execution_count": 18,
   "id": "6b5787a9",
   "metadata": {},
   "outputs": [
    {
     "name": "stdout",
     "output_type": "stream",
     "text": [
      "enter the amount to be withdrawn67890\n",
      "the number of notes of 100s the cashier has to issue= 678\n",
      "the number of notes of 50s the cashier has to issue= 1\n",
      "the number of notes of 10s the cashier has to issue= 4\n",
      "the amount remaining is = 0\n"
     ]
    }
   ],
   "source": [
    "#10-answer\n",
    "\n",
    "money=eval(input(\"enter the amount to be withdrawn\"))\n",
    "number_of_hundreds=(money//100)\n",
    "number_of_fiftys=(money%100)//50\n",
    "number_of_tens=(((money%100)%50)//10)\n",
    "remaining_amount=((money%100)%50)%10\n",
    "\n",
    "\n",
    "print('the number of notes of 100s the cashier has to issue=',number_of_hundreds)\n",
    "print('the number of notes of 50s the cashier has to issue=',number_of_fiftys)\n",
    "print('the number of notes of 10s the cashier has to issue=',number_of_tens)\n",
    "print('the amount remaining is =',remaining_amount)\n",
    "\n",
    "\n"
   ]
  },
  {
   "cell_type": "code",
   "execution_count": null,
   "id": "b3aca615",
   "metadata": {},
   "outputs": [],
   "source": []
  },
  {
   "cell_type": "code",
   "execution_count": null,
   "id": "4d165571",
   "metadata": {},
   "outputs": [],
   "source": []
  }
 ],
 "metadata": {
  "kernelspec": {
   "display_name": "Python 3 (ipykernel)",
   "language": "python",
   "name": "python3"
  },
  "language_info": {
   "codemirror_mode": {
    "name": "ipython",
    "version": 3
   },
   "file_extension": ".py",
   "mimetype": "text/x-python",
   "name": "python",
   "nbconvert_exporter": "python",
   "pygments_lexer": "ipython3",
   "version": "3.11.5"
  }
 },
 "nbformat": 4,
 "nbformat_minor": 5
}
