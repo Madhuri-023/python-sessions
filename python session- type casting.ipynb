{
 "cells": [
  {
   "cell_type": "markdown",
   "id": "c17bb89e",
   "metadata": {},
   "source": [
    "**type casting**"
   ]
  },
  {
   "cell_type": "code",
   "execution_count": null,
   "id": "0db4f76f",
   "metadata": {},
   "outputs": [],
   "source": [
    "type casting means changing one data type to another data type\n",
    "\n",
    "-int to float\n",
    "-int to string\n",
    "-int to boolean\n",
    "-int to complex\n"
   ]
  },
  {
   "cell_type": "markdown",
   "id": "e1e6a3db",
   "metadata": {},
   "source": [
    "**integer to other datatypes**"
   ]
  },
  {
   "cell_type": "code",
   "execution_count": 1,
   "id": "90df9a62",
   "metadata": {},
   "outputs": [
    {
     "data": {
      "text/plain": [
       "100.0"
      ]
     },
     "execution_count": 1,
     "metadata": {},
     "output_type": "execute_result"
    }
   ],
   "source": [
    "number1=100\n",
    "#case-1  int=====>float\n",
    "float(number1)  #number1 to float type 100====>100.0"
   ]
  },
  {
   "cell_type": "code",
   "execution_count": 2,
   "id": "a6c91ee1",
   "metadata": {},
   "outputs": [
    {
     "ename": "NameError",
     "evalue": "name 'float_number' is not defined",
     "output_type": "error",
     "traceback": [
      "\u001b[1;31m---------------------------------------------------------------------------\u001b[0m",
      "\u001b[1;31mNameError\u001b[0m                                 Traceback (most recent call last)",
      "Cell \u001b[1;32mIn[2], line 1\u001b[0m\n\u001b[1;32m----> 1\u001b[0m float_number\n",
      "\u001b[1;31mNameError\u001b[0m: name 'float_number' is not defined"
     ]
    }
   ],
   "source": [
    "float_number"
   ]
  },
  {
   "cell_type": "code",
   "execution_count": 3,
   "id": "3faeacd9",
   "metadata": {},
   "outputs": [
    {
     "ename": "NameError",
     "evalue": "name 'float_number' is not defined",
     "output_type": "error",
     "traceback": [
      "\u001b[1;31m---------------------------------------------------------------------------\u001b[0m",
      "\u001b[1;31mNameError\u001b[0m                                 Traceback (most recent call last)",
      "Cell \u001b[1;32mIn[3], line 1\u001b[0m\n\u001b[1;32m----> 1\u001b[0m \u001b[38;5;28mtype\u001b[39m(float_number)\n",
      "\u001b[1;31mNameError\u001b[0m: name 'float_number' is not defined"
     ]
    }
   ],
   "source": [
    "type(float_number)"
   ]
  },
  {
   "cell_type": "code",
   "execution_count": 4,
   "id": "03851a20",
   "metadata": {},
   "outputs": [
    {
     "ename": "NameError",
     "evalue": "name 'float_number' is not defined",
     "output_type": "error",
     "traceback": [
      "\u001b[1;31m---------------------------------------------------------------------------\u001b[0m",
      "\u001b[1;31mNameError\u001b[0m                                 Traceback (most recent call last)",
      "Cell \u001b[1;32mIn[4], line 1\u001b[0m\n\u001b[1;32m----> 1\u001b[0m \u001b[38;5;28mtype\u001b[39m(float_number)\n",
      "\u001b[1;31mNameError\u001b[0m: name 'float_number' is not defined"
     ]
    }
   ],
   "source": [
    "type(float_number)"
   ]
  },
  {
   "cell_type": "code",
   "execution_count": 6,
   "id": "3c0e9b83",
   "metadata": {},
   "outputs": [
    {
     "data": {
      "text/plain": [
       "'100'"
      ]
     },
     "execution_count": 6,
     "metadata": {},
     "output_type": "execute_result"
    }
   ],
   "source": [
    "#case2 int to string\n",
    "string_number=str(number1)\n",
    "string_number"
   ]
  },
  {
   "cell_type": "code",
   "execution_count": 7,
   "id": "df7de2f0",
   "metadata": {},
   "outputs": [
    {
     "data": {
      "text/plain": [
       "str"
      ]
     },
     "execution_count": 7,
     "metadata": {},
     "output_type": "execute_result"
    }
   ],
   "source": [
    "type(string_number)"
   ]
  },
  {
   "cell_type": "code",
   "execution_count": 9,
   "id": "0ae4aec9",
   "metadata": {},
   "outputs": [
    {
     "data": {
      "text/plain": [
       "True"
      ]
     },
     "execution_count": 9,
     "metadata": {},
     "output_type": "execute_result"
    }
   ],
   "source": [
    "#case3 int to boolean\n",
    "boolean_number=bool(number1)\n",
    "boolean_number"
   ]
  },
  {
   "cell_type": "code",
   "execution_count": 10,
   "id": "e2add320",
   "metadata": {},
   "outputs": [
    {
     "data": {
      "text/plain": [
       "True"
      ]
     },
     "execution_count": 10,
     "metadata": {},
     "output_type": "execute_result"
    }
   ],
   "source": [
    "bool(100)"
   ]
  },
  {
   "cell_type": "markdown",
   "id": "7981fd1f",
   "metadata": {},
   "source": [
    "**other than zero everything is false in boolean type**"
   ]
  },
  {
   "cell_type": "code",
   "execution_count": 11,
   "id": "31dfe597",
   "metadata": {},
   "outputs": [
    {
     "data": {
      "text/plain": [
       "False"
      ]
     },
     "execution_count": 11,
     "metadata": {},
     "output_type": "execute_result"
    }
   ],
   "source": [
    "bool(0)"
   ]
  },
  {
   "cell_type": "code",
   "execution_count": 12,
   "id": "32e48021",
   "metadata": {},
   "outputs": [
    {
     "data": {
      "text/plain": [
       "(100+0j)"
      ]
     },
     "execution_count": 12,
     "metadata": {},
     "output_type": "execute_result"
    }
   ],
   "source": [
    "#case-4\n",
    "complex(100)"
   ]
  },
  {
   "cell_type": "code",
   "execution_count": 13,
   "id": "90db2d19",
   "metadata": {},
   "outputs": [
    {
     "data": {
      "text/plain": [
       "(100+0j)"
      ]
     },
     "execution_count": 13,
     "metadata": {},
     "output_type": "execute_result"
    }
   ],
   "source": [
    "complex_number=complex(100)\n",
    "complex_number"
   ]
  },
  {
   "cell_type": "code",
   "execution_count": null,
   "id": "25f2784d",
   "metadata": {},
   "outputs": [],
   "source": [
    "number1=100\n",
    "float_number=float(number1) #100.0\n",
    "string_number=str(number1) #'100'\n",
    "boolean_number=bool(number1) #true\n",
    "complex_number=complex(number1) # 100+0j"
   ]
  },
  {
   "cell_type": "code",
   "execution_count": null,
   "id": "fc6d2d22",
   "metadata": {},
   "outputs": [],
   "source": [
    "convert float to all other types"
   ]
  },
  {
   "cell_type": "code",
   "execution_count": 14,
   "id": "84345d8c",
   "metadata": {},
   "outputs": [
    {
     "data": {
      "text/plain": [
       "100"
      ]
     },
     "execution_count": 14,
     "metadata": {},
     "output_type": "execute_result"
    }
   ],
   "source": [
    "number2=100.5\n",
    "int_number=int(number2)\n",
    "int_number\n"
   ]
  },
  {
   "cell_type": "code",
   "execution_count": 15,
   "id": "62f5b23e",
   "metadata": {},
   "outputs": [
    {
     "data": {
      "text/plain": [
       "'100.5'"
      ]
     },
     "execution_count": 15,
     "metadata": {},
     "output_type": "execute_result"
    }
   ],
   "source": [
    "number2=100.5\n",
    "str_number=str(number2)\n",
    "str_number"
   ]
  },
  {
   "cell_type": "code",
   "execution_count": 16,
   "id": "f1854115",
   "metadata": {},
   "outputs": [
    {
     "data": {
      "text/plain": [
       "True"
      ]
     },
     "execution_count": 16,
     "metadata": {},
     "output_type": "execute_result"
    }
   ],
   "source": [
    "number2=100.5\n",
    "bool_number=bool(number2)\n",
    "bool_number"
   ]
  },
  {
   "cell_type": "code",
   "execution_count": 17,
   "id": "508c77b5",
   "metadata": {},
   "outputs": [
    {
     "data": {
      "text/plain": [
       "(100.5+0j)"
      ]
     },
     "execution_count": 17,
     "metadata": {},
     "output_type": "execute_result"
    }
   ],
   "source": [
    "number2=100.5\n",
    "complex_number=complex(number2)\n",
    "complex_number"
   ]
  },
  {
   "cell_type": "code",
   "execution_count": 18,
   "id": "cbb346dd",
   "metadata": {},
   "outputs": [],
   "source": [
    "#string to other data types\n"
   ]
  },
  {
   "cell_type": "code",
   "execution_count": 19,
   "id": "1495c5ad",
   "metadata": {},
   "outputs": [
    {
     "ename": "ValueError",
     "evalue": "invalid literal for int() with base 10: 'apple'",
     "output_type": "error",
     "traceback": [
      "\u001b[1;31m---------------------------------------------------------------------------\u001b[0m",
      "\u001b[1;31mValueError\u001b[0m                                Traceback (most recent call last)",
      "Cell \u001b[1;32mIn[19], line 2\u001b[0m\n\u001b[0;32m      1\u001b[0m string_value1\u001b[38;5;241m=\u001b[39m\u001b[38;5;124m'\u001b[39m\u001b[38;5;124mapple\u001b[39m\u001b[38;5;124m'\u001b[39m\n\u001b[1;32m----> 2\u001b[0m \u001b[38;5;28mint\u001b[39m(string_value1)\n",
      "\u001b[1;31mValueError\u001b[0m: invalid literal for int() with base 10: 'apple'"
     ]
    }
   ],
   "source": [
    "string_value1='apple'\n",
    "int(string_value1)"
   ]
  },
  {
   "cell_type": "code",
   "execution_count": 20,
   "id": "8ee3750c",
   "metadata": {},
   "outputs": [
    {
     "ename": "ValueError",
     "evalue": "could not convert string to float: 'apple'",
     "output_type": "error",
     "traceback": [
      "\u001b[1;31m---------------------------------------------------------------------------\u001b[0m",
      "\u001b[1;31mValueError\u001b[0m                                Traceback (most recent call last)",
      "Cell \u001b[1;32mIn[20], line 2\u001b[0m\n\u001b[0;32m      1\u001b[0m string_value1\u001b[38;5;241m=\u001b[39m\u001b[38;5;124m'\u001b[39m\u001b[38;5;124mapple\u001b[39m\u001b[38;5;124m'\u001b[39m\n\u001b[1;32m----> 2\u001b[0m \u001b[38;5;28mfloat\u001b[39m(string_value1)\n",
      "\u001b[1;31mValueError\u001b[0m: could not convert string to float: 'apple'"
     ]
    }
   ],
   "source": [
    "string_value1='apple'\n",
    "float(string_value1)"
   ]
  },
  {
   "cell_type": "code",
   "execution_count": 21,
   "id": "0fd659f3",
   "metadata": {},
   "outputs": [
    {
     "data": {
      "text/plain": [
       "True"
      ]
     },
     "execution_count": 21,
     "metadata": {},
     "output_type": "execute_result"
    }
   ],
   "source": [
    "string_value1='apple'\n",
    "bool(string_value1)"
   ]
  },
  {
   "cell_type": "code",
   "execution_count": 22,
   "id": "333a0c3e",
   "metadata": {},
   "outputs": [
    {
     "ename": "ValueError",
     "evalue": "complex() arg is a malformed string",
     "output_type": "error",
     "traceback": [
      "\u001b[1;31m---------------------------------------------------------------------------\u001b[0m",
      "\u001b[1;31mValueError\u001b[0m                                Traceback (most recent call last)",
      "Cell \u001b[1;32mIn[22], line 2\u001b[0m\n\u001b[0;32m      1\u001b[0m string_value1\u001b[38;5;241m=\u001b[39m\u001b[38;5;124m'\u001b[39m\u001b[38;5;124mapple\u001b[39m\u001b[38;5;124m'\u001b[39m\n\u001b[1;32m----> 2\u001b[0m \u001b[38;5;28mcomplex\u001b[39m(string_value1)\n",
      "\u001b[1;31mValueError\u001b[0m: complex() arg is a malformed string"
     ]
    }
   ],
   "source": [
    "string_value1='apple'\n",
    "complex(string_value1)"
   ]
  },
  {
   "cell_type": "code",
   "execution_count": 23,
   "id": "1274cc8d",
   "metadata": {},
   "outputs": [
    {
     "ename": "SyntaxError",
     "evalue": "invalid syntax (536616441.py, line 1)",
     "output_type": "error",
     "traceback": [
      "\u001b[1;36m  Cell \u001b[1;32mIn[23], line 1\u001b[1;36m\u001b[0m\n\u001b[1;33m    empty string returns false in boolean conversion\u001b[0m\n\u001b[1;37m          ^\u001b[0m\n\u001b[1;31mSyntaxError\u001b[0m\u001b[1;31m:\u001b[0m invalid syntax\n"
     ]
    }
   ],
   "source": [
    "empty string returns false in boolean conversion"
   ]
  },
  {
   "cell_type": "code",
   "execution_count": 25,
   "id": "50271a3d",
   "metadata": {},
   "outputs": [
    {
     "data": {
      "text/plain": [
       "False"
      ]
     },
     "execution_count": 25,
     "metadata": {},
     "output_type": "execute_result"
    }
   ],
   "source": [
    "string_value1=''\n",
    "bool(string_value1)"
   ]
  },
  {
   "cell_type": "code",
   "execution_count": 26,
   "id": "f5fc8810",
   "metadata": {},
   "outputs": [
    {
     "ename": "ValueError",
     "evalue": "complex() arg is a malformed string",
     "output_type": "error",
     "traceback": [
      "\u001b[1;31m---------------------------------------------------------------------------\u001b[0m",
      "\u001b[1;31mValueError\u001b[0m                                Traceback (most recent call last)",
      "Cell \u001b[1;32mIn[26], line 2\u001b[0m\n\u001b[0;32m      1\u001b[0m string_value1\u001b[38;5;241m=\u001b[39m\u001b[38;5;124m'\u001b[39m\u001b[38;5;124mapple\u001b[39m\u001b[38;5;124m'\u001b[39m\n\u001b[1;32m----> 2\u001b[0m \u001b[38;5;28mcomplex\u001b[39m(string_value1)\n",
      "\u001b[1;31mValueError\u001b[0m: complex() arg is a malformed string"
     ]
    }
   ],
   "source": [
    "string_value1='apple'\n",
    "complex(string_value1)"
   ]
  },
  {
   "cell_type": "code",
   "execution_count": 27,
   "id": "071fbab3",
   "metadata": {},
   "outputs": [
    {
     "data": {
      "text/plain": [
       "True"
      ]
     },
     "execution_count": 27,
     "metadata": {},
     "output_type": "execute_result"
    }
   ],
   "source": [
    "string_value2='10.5'\n",
    "bool(string_value2)"
   ]
  },
  {
   "cell_type": "code",
   "execution_count": 29,
   "id": "15851492",
   "metadata": {},
   "outputs": [
    {
     "ename": "ValueError",
     "evalue": "invalid literal for int() with base 10: '10.5'",
     "output_type": "error",
     "traceback": [
      "\u001b[1;31m---------------------------------------------------------------------------\u001b[0m",
      "\u001b[1;31mValueError\u001b[0m                                Traceback (most recent call last)",
      "Cell \u001b[1;32mIn[29], line 2\u001b[0m\n\u001b[0;32m      1\u001b[0m string_value2\u001b[38;5;241m=\u001b[39m\u001b[38;5;124m'\u001b[39m\u001b[38;5;124m10.5\u001b[39m\u001b[38;5;124m'\u001b[39m\n\u001b[1;32m----> 2\u001b[0m \u001b[38;5;28mint\u001b[39m(string_value2)\n",
      "\u001b[1;31mValueError\u001b[0m: invalid literal for int() with base 10: '10.5'"
     ]
    }
   ],
   "source": [
    "string_value2='10.5'  beacuse base type is float and we are going to convrt it into integer so it shows error\n",
    "int(string_value2)"
   ]
  },
  {
   "cell_type": "code",
   "execution_count": 31,
   "id": "e045f924",
   "metadata": {},
   "outputs": [
    {
     "data": {
      "text/plain": [
       "10.5"
      ]
     },
     "execution_count": 31,
     "metadata": {},
     "output_type": "execute_result"
    }
   ],
   "source": [
    "string_value2='10.5'\n",
    "float(string_value2)"
   ]
  },
  {
   "cell_type": "code",
   "execution_count": 32,
   "id": "f035045a",
   "metadata": {},
   "outputs": [
    {
     "data": {
      "text/plain": [
       "True"
      ]
     },
     "execution_count": 32,
     "metadata": {},
     "output_type": "execute_result"
    }
   ],
   "source": [
    "string_value2='10.5'\n",
    "bool(string_value2)"
   ]
  },
  {
   "cell_type": "code",
   "execution_count": 33,
   "id": "93174d7b",
   "metadata": {},
   "outputs": [
    {
     "data": {
      "text/plain": [
       "(10.5+0j)"
      ]
     },
     "execution_count": 33,
     "metadata": {},
     "output_type": "execute_result"
    }
   ],
   "source": [
    "string_value2='10.5'  \n",
    "complex(string_value2)"
   ]
  },
  {
   "cell_type": "code",
   "execution_count": 34,
   "id": "3785ba06",
   "metadata": {},
   "outputs": [
    {
     "data": {
      "text/plain": [
       "10.5"
      ]
     },
     "execution_count": 34,
     "metadata": {},
     "output_type": "execute_result"
    }
   ],
   "source": [
    "float(10.5)"
   ]
  },
  {
   "cell_type": "code",
   "execution_count": 35,
   "id": "c0e6e25f",
   "metadata": {},
   "outputs": [
    {
     "data": {
      "text/plain": [
       "10.5"
      ]
     },
     "execution_count": 35,
     "metadata": {},
     "output_type": "execute_result"
    }
   ],
   "source": [
    "float('10.5')"
   ]
  },
  {
   "cell_type": "code",
   "execution_count": 36,
   "id": "e170f72a",
   "metadata": {},
   "outputs": [
    {
     "data": {
      "text/plain": [
       "10"
      ]
     },
     "execution_count": 36,
     "metadata": {},
     "output_type": "execute_result"
    }
   ],
   "source": [
    "int(10.5)"
   ]
  },
  {
   "cell_type": "code",
   "execution_count": 37,
   "id": "37a49c85",
   "metadata": {},
   "outputs": [
    {
     "ename": "ValueError",
     "evalue": "invalid literal for int() with base 10: '10.5'",
     "output_type": "error",
     "traceback": [
      "\u001b[1;31m---------------------------------------------------------------------------\u001b[0m",
      "\u001b[1;31mValueError\u001b[0m                                Traceback (most recent call last)",
      "Cell \u001b[1;32mIn[37], line 1\u001b[0m\n\u001b[1;32m----> 1\u001b[0m \u001b[38;5;28mint\u001b[39m(\u001b[38;5;124m'\u001b[39m\u001b[38;5;124m10.5\u001b[39m\u001b[38;5;124m'\u001b[39m)\n",
      "\u001b[1;31mValueError\u001b[0m: invalid literal for int() with base 10: '10.5'"
     ]
    }
   ],
   "source": [
    "int('10.5')  #fail"
   ]
  },
  {
   "cell_type": "code",
   "execution_count": 38,
   "id": "4096a10d",
   "metadata": {},
   "outputs": [
    {
     "data": {
      "text/plain": [
       "10.0"
      ]
     },
     "execution_count": 38,
     "metadata": {},
     "output_type": "execute_result"
    }
   ],
   "source": [
    "float(10)"
   ]
  },
  {
   "cell_type": "markdown",
   "id": "324ed58f",
   "metadata": {},
   "source": [
    "how to convert string to integer without fail\n"
   ]
  },
  {
   "cell_type": "code",
   "execution_count": 40,
   "id": "b489623a",
   "metadata": {},
   "outputs": [
    {
     "ename": "NameError",
     "evalue": "name 'string1' is not defined",
     "output_type": "error",
     "traceback": [
      "\u001b[1;31m---------------------------------------------------------------------------\u001b[0m",
      "\u001b[1;31mNameError\u001b[0m                                 Traceback (most recent call last)",
      "Cell \u001b[1;32mIn[40], line 2\u001b[0m\n\u001b[0;32m      1\u001b[0m string\u001b[38;5;241m=\u001b[39m\u001b[38;5;124m'\u001b[39m\u001b[38;5;124m10.5\u001b[39m\u001b[38;5;124m'\u001b[39m\n\u001b[1;32m----> 2\u001b[0m n1\u001b[38;5;241m=\u001b[39m\u001b[38;5;28mfloat\u001b[39m(string1)\n\u001b[0;32m      3\u001b[0m n2\u001b[38;5;241m=\u001b[39m\u001b[38;5;28mint\u001b[39m(n1)\n\u001b[0;32m      4\u001b[0m n2\n",
      "\u001b[1;31mNameError\u001b[0m: name 'string1' is not defined"
     ]
    }
   ],
   "source": [
    "string='10.5'\n",
    "n1=float(string1)\n",
    "n2=int(n1)\n",
    "n2"
   ]
  },
  {
   "cell_type": "code",
   "execution_count": 41,
   "id": "5b3d431b",
   "metadata": {},
   "outputs": [
    {
     "data": {
      "text/plain": [
       "True"
      ]
     },
     "execution_count": 41,
     "metadata": {},
     "output_type": "execute_result"
    }
   ],
   "source": [
    "#boolean conversion\n",
    "val1=True\n",
    "int(val1)\n",
    "val1"
   ]
  },
  {
   "cell_type": "code",
   "execution_count": 42,
   "id": "f1343c9a",
   "metadata": {},
   "outputs": [
    {
     "data": {
      "text/plain": [
       "True"
      ]
     },
     "execution_count": 42,
     "metadata": {},
     "output_type": "execute_result"
    }
   ],
   "source": [
    "val1=True\n",
    "float(val1)\n",
    "val1"
   ]
  },
  {
   "cell_type": "code",
   "execution_count": 43,
   "id": "994a32a8",
   "metadata": {},
   "outputs": [
    {
     "data": {
      "text/plain": [
       "'True'"
      ]
     },
     "execution_count": 43,
     "metadata": {},
     "output_type": "execute_result"
    }
   ],
   "source": [
    "val1='True'\n",
    "str(val1)\n",
    "val1"
   ]
  },
  {
   "cell_type": "code",
   "execution_count": 44,
   "id": "ff37c9a2",
   "metadata": {},
   "outputs": [
    {
     "data": {
      "text/plain": [
       "True"
      ]
     },
     "execution_count": 44,
     "metadata": {},
     "output_type": "execute_result"
    }
   ],
   "source": [
    "val1=True\n",
    "complex(val1)\n",
    "val1"
   ]
  },
  {
   "cell_type": "code",
   "execution_count": 45,
   "id": "655fbe18",
   "metadata": {},
   "outputs": [
    {
     "ename": "TypeError",
     "evalue": "int() argument must be a string, a bytes-like object or a real number, not 'complex'",
     "output_type": "error",
     "traceback": [
      "\u001b[1;31m---------------------------------------------------------------------------\u001b[0m",
      "\u001b[1;31mTypeError\u001b[0m                                 Traceback (most recent call last)",
      "Cell \u001b[1;32mIn[45], line 3\u001b[0m\n\u001b[0;32m      1\u001b[0m \u001b[38;5;66;03m#complex to other\u001b[39;00m\n\u001b[0;32m      2\u001b[0m val2\u001b[38;5;241m=\u001b[39m\u001b[38;5;241m100\u001b[39m\u001b[38;5;241m+\u001b[39m\u001b[38;5;241m200\u001b[39mj\n\u001b[1;32m----> 3\u001b[0m \u001b[38;5;28mint\u001b[39m(val2)\n\u001b[0;32m      4\u001b[0m val2\n",
      "\u001b[1;31mTypeError\u001b[0m: int() argument must be a string, a bytes-like object or a real number, not 'complex'"
     ]
    }
   ],
   "source": [
    "#complex to other\n",
    "val2=100+200j\n",
    "int(val2)\n",
    "val2"
   ]
  },
  {
   "cell_type": "code",
   "execution_count": 46,
   "id": "6fd62d6f",
   "metadata": {},
   "outputs": [
    {
     "ename": "TypeError",
     "evalue": "float() argument must be a string or a real number, not 'complex'",
     "output_type": "error",
     "traceback": [
      "\u001b[1;31m---------------------------------------------------------------------------\u001b[0m",
      "\u001b[1;31mTypeError\u001b[0m                                 Traceback (most recent call last)",
      "Cell \u001b[1;32mIn[46], line 2\u001b[0m\n\u001b[0;32m      1\u001b[0m val2\u001b[38;5;241m=\u001b[39m\u001b[38;5;241m100\u001b[39m\u001b[38;5;241m+\u001b[39m\u001b[38;5;241m200\u001b[39mj\n\u001b[1;32m----> 2\u001b[0m \u001b[38;5;28mfloat\u001b[39m(val2)\n\u001b[0;32m      3\u001b[0m val2\n",
      "\u001b[1;31mTypeError\u001b[0m: float() argument must be a string or a real number, not 'complex'"
     ]
    }
   ],
   "source": [
    "val2=100+200j\n",
    "float(val2)\n",
    "val2"
   ]
  },
  {
   "cell_type": "code",
   "execution_count": 47,
   "id": "3060055f",
   "metadata": {},
   "outputs": [
    {
     "data": {
      "text/plain": [
       "'100+200j'"
      ]
     },
     "execution_count": 47,
     "metadata": {},
     "output_type": "execute_result"
    }
   ],
   "source": [
    "val2='100+200j'\n",
    "str(val2)\n",
    "val2\n"
   ]
  },
  {
   "cell_type": "code",
   "execution_count": 48,
   "id": "eb2dc406",
   "metadata": {},
   "outputs": [
    {
     "data": {
      "text/plain": [
       "(100+200j)"
      ]
     },
     "execution_count": 48,
     "metadata": {},
     "output_type": "execute_result"
    }
   ],
   "source": [
    "val2=100+200j\n",
    "bool(val2)\n",
    "val2"
   ]
  },
  {
   "cell_type": "code",
   "execution_count": 49,
   "id": "3fa05b38",
   "metadata": {},
   "outputs": [
    {
     "data": {
      "text/plain": [
       "(100+200j)"
      ]
     },
     "execution_count": 49,
     "metadata": {},
     "output_type": "execute_result"
    }
   ],
   "source": [
    "val2=100+200j\n",
    "complex(val2)\n",
    "val2"
   ]
  },
  {
   "cell_type": "code",
   "execution_count": 50,
   "id": "3cb19bb4",
   "metadata": {},
   "outputs": [
    {
     "ename": "TypeError",
     "evalue": "int() argument must be a string, a bytes-like object or a real number, not 'complex'",
     "output_type": "error",
     "traceback": [
      "\u001b[1;31m---------------------------------------------------------------------------\u001b[0m",
      "\u001b[1;31mTypeError\u001b[0m                                 Traceback (most recent call last)",
      "Cell \u001b[1;32mIn[50], line 2\u001b[0m\n\u001b[0;32m      1\u001b[0m val2\u001b[38;5;241m=\u001b[39m\u001b[38;5;241m100\u001b[39m\u001b[38;5;241m+\u001b[39m\u001b[38;5;241m0\u001b[39mj\n\u001b[1;32m----> 2\u001b[0m \u001b[38;5;28mint\u001b[39m(val2)\n\u001b[0;32m      3\u001b[0m val2\n",
      "\u001b[1;31mTypeError\u001b[0m: int() argument must be a string, a bytes-like object or a real number, not 'complex'"
     ]
    }
   ],
   "source": [
    "val2=100+0j\n",
    "int(val2)\n",
    "val2"
   ]
  },
  {
   "cell_type": "code",
   "execution_count": 51,
   "id": "12906354",
   "metadata": {},
   "outputs": [
    {
     "ename": "TypeError",
     "evalue": "float() argument must be a string or a real number, not 'complex'",
     "output_type": "error",
     "traceback": [
      "\u001b[1;31m---------------------------------------------------------------------------\u001b[0m",
      "\u001b[1;31mTypeError\u001b[0m                                 Traceback (most recent call last)",
      "Cell \u001b[1;32mIn[51], line 2\u001b[0m\n\u001b[0;32m      1\u001b[0m val2\u001b[38;5;241m=\u001b[39m\u001b[38;5;241m100\u001b[39m\u001b[38;5;241m+\u001b[39m\u001b[38;5;241m0\u001b[39mj\n\u001b[1;32m----> 2\u001b[0m \u001b[38;5;28mfloat\u001b[39m(val2)\n\u001b[0;32m      3\u001b[0m val2\n",
      "\u001b[1;31mTypeError\u001b[0m: float() argument must be a string or a real number, not 'complex'"
     ]
    }
   ],
   "source": [
    "val2=100+0j\n",
    "float(val2)\n",
    "val2"
   ]
  },
  {
   "cell_type": "code",
   "execution_count": 52,
   "id": "e3792827",
   "metadata": {},
   "outputs": [
    {
     "data": {
      "text/plain": [
       "'100+0j'"
      ]
     },
     "execution_count": 52,
     "metadata": {},
     "output_type": "execute_result"
    }
   ],
   "source": [
    "val2='100+0j'\n",
    "str(val2)\n",
    "val2\n",
    "\n"
   ]
  },
  {
   "cell_type": "code",
   "execution_count": 53,
   "id": "fbef7220",
   "metadata": {},
   "outputs": [
    {
     "data": {
      "text/plain": [
       "(100+0j)"
      ]
     },
     "execution_count": 53,
     "metadata": {},
     "output_type": "execute_result"
    }
   ],
   "source": [
    "val2=100+0j\n",
    "bool(val2)\n",
    "val2"
   ]
  },
  {
   "cell_type": "code",
   "execution_count": 54,
   "id": "8a54053d",
   "metadata": {},
   "outputs": [
    {
     "data": {
      "text/plain": [
       "False"
      ]
     },
     "execution_count": 54,
     "metadata": {},
     "output_type": "execute_result"
    }
   ],
   "source": [
    "bool(0j)\n"
   ]
  },
  {
   "cell_type": "code",
   "execution_count": null,
   "id": "899d44cc",
   "metadata": {},
   "outputs": [],
   "source": []
  }
 ],
 "metadata": {
  "kernelspec": {
   "display_name": "Python 3 (ipykernel)",
   "language": "python",
   "name": "python3"
  },
  "language_info": {
   "codemirror_mode": {
    "name": "ipython",
    "version": 3
   },
   "file_extension": ".py",
   "mimetype": "text/x-python",
   "name": "python",
   "nbconvert_exporter": "python",
   "pygments_lexer": "ipython3",
   "version": "3.11.5"
  }
 },
 "nbformat": 4,
 "nbformat_minor": 5
}
