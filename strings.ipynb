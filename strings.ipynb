{
 "cells": [
  {
   "cell_type": "code",
   "execution_count": null,
   "id": "11acaaf3",
   "metadata": {},
   "outputs": [],
   "source": [
    "#strings\n",
    "#lists\n",
    "#dictionary\n",
    "#tuple\n",
    "#set"
   ]
  },
  {
   "cell_type": "markdown",
   "id": "f4e70955",
   "metadata": {},
   "source": [
    "# how to read the strings?"
   ]
  },
  {
   "cell_type": "code",
   "execution_count": 2,
   "id": "995c4166",
   "metadata": {},
   "outputs": [
    {
     "data": {
      "text/plain": [
       "'python'"
      ]
     },
     "execution_count": 2,
     "metadata": {},
     "output_type": "execute_result"
    }
   ],
   "source": [
    "string1='python'  #single quotes\n",
    "string1"
   ]
  },
  {
   "cell_type": "code",
   "execution_count": 5,
   "id": "f5522943",
   "metadata": {},
   "outputs": [
    {
     "data": {
      "text/plain": [
       "'python'"
      ]
     },
     "execution_count": 5,
     "metadata": {},
     "output_type": "execute_result"
    }
   ],
   "source": [
    "string2=\"python\" #double quotes\n",
    "string2"
   ]
  },
  {
   "cell_type": "code",
   "execution_count": null,
   "id": "2d15a6a5",
   "metadata": {},
   "outputs": [],
   "source": [
    "###triple quotes \n",
    "#doc string is used to say some information about your python code"
   ]
  },
  {
   "cell_type": "code",
   "execution_count": 6,
   "id": "ed8ab6ef",
   "metadata": {},
   "outputs": [],
   "source": [
    "\"\"\"\n",
    "im creating a hello world function\n",
    "arguments: None\n",
    "return: None\n",
    "\"\"\"\n",
    "def hello():\n",
    "    print('good morning')"
   ]
  },
  {
   "cell_type": "markdown",
   "id": "60b1de5c",
   "metadata": {},
   "source": [
    "'hello python'   #i want to highlight the python"
   ]
  },
  {
   "cell_type": "code",
   "execution_count": 7,
   "id": "8bb70474",
   "metadata": {},
   "outputs": [
    {
     "name": "stdout",
     "output_type": "stream",
     "text": [
      "hello \"python\"\n"
     ]
    }
   ],
   "source": [
    "string3='hello \"python\"'         #the string will be highlighted when we give particular quotes for the statement and it will be highlighted with double quotes                                       highlighted\n",
    "print(string3)"
   ]
  },
  {
   "cell_type": "markdown",
   "id": "4c6894a4",
   "metadata": {},
   "source": [
    "- type\n",
    "- len\n",
    "- max\n",
    "- min"
   ]
  },
  {
   "cell_type": "markdown",
   "id": "9d43380d",
   "metadata": {},
   "source": [
    "# type"
   ]
  },
  {
   "cell_type": "code",
   "execution_count": 8,
   "id": "f4302a02",
   "metadata": {},
   "outputs": [
    {
     "data": {
      "text/plain": [
       "str"
      ]
     },
     "execution_count": 8,
     "metadata": {},
     "output_type": "execute_result"
    }
   ],
   "source": [
    "type(string1)"
   ]
  },
  {
   "cell_type": "markdown",
   "id": "8c355a02",
   "metadata": {},
   "source": [
    "# len"
   ]
  },
  {
   "cell_type": "code",
   "execution_count": 9,
   "id": "478c5cf8",
   "metadata": {},
   "outputs": [
    {
     "data": {
      "text/plain": [
       "6"
      ]
     },
     "execution_count": 9,
     "metadata": {},
     "output_type": "execute_result"
    }
   ],
   "source": [
    "len(string1)"
   ]
  },
  {
   "cell_type": "markdown",
   "id": "0751e01c",
   "metadata": {},
   "source": [
    "# max and min"
   ]
  },
  {
   "cell_type": "code",
   "execution_count": 11,
   "id": "da1efbf5",
   "metadata": {},
   "outputs": [
    {
     "data": {
      "text/plain": [
       "'p'"
      ]
     },
     "execution_count": 11,
     "metadata": {},
     "output_type": "execute_result"
    }
   ],
   "source": [
    "string1='pP'\n",
    "max(string1)\n",
    "\n",
    "#ASCII\n",
    "# 'A' : 65   'a':97"
   ]
  },
  {
   "cell_type": "markdown",
   "id": "13161d29",
   "metadata": {},
   "source": [
    "$ord and chr$"
   ]
  },
  {
   "cell_type": "code",
   "execution_count": 12,
   "id": "76ddf648",
   "metadata": {},
   "outputs": [
    {
     "data": {
      "text/plain": [
       "112"
      ]
     },
     "execution_count": 12,
     "metadata": {},
     "output_type": "execute_result"
    }
   ],
   "source": [
    "ord('p')         #it will provide ascii value of character"
   ]
  },
  {
   "cell_type": "code",
   "execution_count": 13,
   "id": "35399264",
   "metadata": {},
   "outputs": [
    {
     "data": {
      "text/plain": [
       "80"
      ]
     },
     "execution_count": 13,
     "metadata": {},
     "output_type": "execute_result"
    }
   ],
   "source": [
    "ord('P')"
   ]
  },
  {
   "cell_type": "code",
   "execution_count": 14,
   "id": "b6073776",
   "metadata": {},
   "outputs": [
    {
     "data": {
      "text/plain": [
       "'y'"
      ]
     },
     "execution_count": 14,
     "metadata": {},
     "output_type": "execute_result"
    }
   ],
   "source": [
    "string1='python'\n",
    "max(string1)"
   ]
  },
  {
   "cell_type": "code",
   "execution_count": 15,
   "id": "5ff10eaa",
   "metadata": {},
   "outputs": [
    {
     "data": {
      "text/plain": [
       "(112, 121, 116, 104, 111, 110)"
      ]
     },
     "execution_count": 15,
     "metadata": {},
     "output_type": "execute_result"
    }
   ],
   "source": [
    "ord('p'),ord('y'),ord('t'),ord('h'),ord('o'),ord('n')"
   ]
  },
  {
   "cell_type": "code",
   "execution_count": 18,
   "id": "81c943d9",
   "metadata": {},
   "outputs": [
    {
     "data": {
      "text/plain": [
       "('p', 'y', 't', 'h', 'o', 'n')"
      ]
     },
     "execution_count": 18,
     "metadata": {},
     "output_type": "execute_result"
    }
   ],
   "source": [
    "chr(112),chr(121),chr(116),chr(104),chr(111),chr(110)"
   ]
  },
  {
   "cell_type": "code",
   "execution_count": 22,
   "id": "3d39a309",
   "metadata": {},
   "outputs": [
    {
     "name": "stdout",
     "output_type": "stream",
     "text": [
      "0\n",
      "1\n",
      "2\n",
      "3\n",
      "4\n",
      "5\n"
     ]
    }
   ],
   "source": [
    "for i in range(6):   #range =====math\n",
    "    print(i)\n"
   ]
  },
  {
   "cell_type": "code",
   "execution_count": null,
   "id": "e13b86c1",
   "metadata": {},
   "outputs": [],
   "source": [
    "#i want to print p y t h o n"
   ]
  },
  {
   "cell_type": "markdown",
   "id": "a6a8cc63",
   "metadata": {},
   "source": [
    "$in$"
   ]
  },
  {
   "cell_type": "code",
   "execution_count": 24,
   "id": "723d80cd",
   "metadata": {},
   "outputs": [
    {
     "data": {
      "text/plain": [
       "True"
      ]
     },
     "execution_count": 24,
     "metadata": {},
     "output_type": "execute_result"
    }
   ],
   "source": [
    "string1='python'\n",
    "\n",
    "'p' in string1\n",
    "'y'in string1\n",
    "'t'in string1\n",
    "'h'in string1\n",
    "'o' in string1\n",
    "'n'in string1\n",
    "\n",
    "#i in string1   -generalised expression\n"
   ]
  },
  {
   "cell_type": "code",
   "execution_count": 25,
   "id": "61e005c8",
   "metadata": {},
   "outputs": [
    {
     "name": "stdout",
     "output_type": "stream",
     "text": [
      "p\n",
      "y\n",
      "t\n",
      "h\n",
      "o\n",
      "n\n"
     ]
    }
   ],
   "source": [
    "for i in string1:\n",
    "    print(i)"
   ]
  },
  {
   "cell_type": "markdown",
   "id": "e9ac5116",
   "metadata": {},
   "source": [
    "- range(): whenever we use range function we need to provide number inside the range\n",
    "- in: in operator is only used for strings\n",
    "- if you want to print the letters using in operator using for loop"
   ]
  },
  {
   "cell_type": "code",
   "execution_count": 27,
   "id": "bd45fff5",
   "metadata": {},
   "outputs": [
    {
     "name": "stdout",
     "output_type": "stream",
     "text": [
      "112\n",
      "121\n",
      "116\n",
      "104\n",
      "111\n",
      "110\n"
     ]
    }
   ],
   "source": [
    "print(ord('p'))\n",
    "print(ord('y'))\n",
    "print(ord('t'))\n",
    "print(ord('h'))\n",
    "print(ord('o'))\n",
    "print(ord('n'))"
   ]
  },
  {
   "cell_type": "code",
   "execution_count": 26,
   "id": "204eb8f5",
   "metadata": {},
   "outputs": [
    {
     "name": "stdout",
     "output_type": "stream",
     "text": [
      "112\n",
      "121\n",
      "116\n",
      "104\n",
      "111\n",
      "110\n"
     ]
    }
   ],
   "source": [
    "for i in string1:\n",
    "    print(ord(i))"
   ]
  },
  {
   "cell_type": "code",
   "execution_count": 28,
   "id": "85b61fb4",
   "metadata": {},
   "outputs": [
    {
     "name": "stdout",
     "output_type": "stream",
     "text": [
      "the ascii value p is 112\n",
      "the ascii value y is 121\n",
      "the ascii value t is 116\n",
      "the ascii value h is 104\n",
      "the ascii value o is 111\n",
      "the ascii value n is 110\n"
     ]
    }
   ],
   "source": [
    "for i in string1:\n",
    "    print('the ascii value {} is {}'.format(i,ord(i)))\n",
    "    "
   ]
  },
  {
   "cell_type": "code",
   "execution_count": null,
   "id": "0e5fba4b",
   "metadata": {},
   "outputs": [],
   "source": [
    "# ascii values of A to Z"
   ]
  },
  {
   "cell_type": "code",
   "execution_count": 33,
   "id": "ed91b2e3",
   "metadata": {},
   "outputs": [
    {
     "name": "stdout",
     "output_type": "stream",
     "text": [
      "the ascii value A is 65\n",
      "the ascii value B is 66\n",
      "the ascii value C is 67\n",
      "the ascii value D is 68\n",
      "the ascii value E is 69\n",
      "the ascii value F is 70\n",
      "the ascii value G is 71\n",
      "the ascii value H is 72\n",
      "the ascii value I is 73\n",
      "the ascii value J is 74\n",
      "the ascii value K is 75\n",
      "the ascii value L is 76\n",
      "the ascii value M is 77\n",
      "the ascii value N is 78\n",
      "the ascii value O is 79\n",
      "the ascii value P is 80\n",
      "the ascii value Q is 81\n",
      "the ascii value R is 82\n",
      "the ascii value S is 83\n",
      "the ascii value T is 84\n",
      "the ascii value U is 85\n",
      "the ascii value V is 86\n",
      "the ascii value W is 87\n",
      "the ascii value X is 88\n",
      "the ascii value Y is 89\n",
      "the ascii value Z is 90\n"
     ]
    }
   ],
   "source": [
    "for i in 'ABCDEFGHIJKLMNOPQRSTUVWXYZ':\n",
    "    print('the ascii value {} is {}'.format(i,ord(i)))\n",
    "    "
   ]
  },
  {
   "cell_type": "code",
   "execution_count": 31,
   "id": "8fbb52d8",
   "metadata": {},
   "outputs": [],
   "source": [
    "#package_name: string\n",
    "import string"
   ]
  },
  {
   "cell_type": "code",
   "execution_count": 32,
   "id": "02860319",
   "metadata": {},
   "outputs": [
    {
     "data": {
      "text/plain": [
       "['Formatter',\n",
       " 'Template',\n",
       " '_ChainMap',\n",
       " '__all__',\n",
       " '__builtins__',\n",
       " '__cached__',\n",
       " '__doc__',\n",
       " '__file__',\n",
       " '__loader__',\n",
       " '__name__',\n",
       " '__package__',\n",
       " '__spec__',\n",
       " '_re',\n",
       " '_sentinel_dict',\n",
       " '_string',\n",
       " 'ascii_letters',\n",
       " 'ascii_lowercase',\n",
       " 'ascii_uppercase',\n",
       " 'capwords',\n",
       " 'digits',\n",
       " 'hexdigits',\n",
       " 'octdigits',\n",
       " 'printable',\n",
       " 'punctuation',\n",
       " 'whitespace']"
      ]
     },
     "execution_count": 32,
     "metadata": {},
     "output_type": "execute_result"
    }
   ],
   "source": [
    "dir(string)"
   ]
  },
  {
   "cell_type": "code",
   "execution_count": 34,
   "id": "41dab2a7",
   "metadata": {},
   "outputs": [
    {
     "name": "stdout",
     "output_type": "stream",
     "text": [
      "the ascii value of A is 65\n",
      "the ascii value of B is 66\n",
      "the ascii value of C is 67\n",
      "the ascii value of D is 68\n",
      "the ascii value of E is 69\n",
      "the ascii value of F is 70\n",
      "the ascii value of G is 71\n",
      "the ascii value of H is 72\n",
      "the ascii value of I is 73\n",
      "the ascii value of J is 74\n",
      "the ascii value of K is 75\n",
      "the ascii value of L is 76\n",
      "the ascii value of M is 77\n",
      "the ascii value of N is 78\n",
      "the ascii value of O is 79\n",
      "the ascii value of P is 80\n",
      "the ascii value of Q is 81\n",
      "the ascii value of R is 82\n",
      "the ascii value of S is 83\n",
      "the ascii value of T is 84\n",
      "the ascii value of U is 85\n",
      "the ascii value of V is 86\n",
      "the ascii value of W is 87\n",
      "the ascii value of X is 88\n",
      "the ascii value of Y is 89\n",
      "the ascii value of Z is 90\n"
     ]
    }
   ],
   "source": [
    "import string\n",
    "for i in string.ascii_uppercase:\n",
    "    print(\"the ascii value of {} is {}\".format(i,ord(i)))\n"
   ]
  },
  {
   "cell_type": "code",
   "execution_count": 36,
   "id": "c7a66912",
   "metadata": {},
   "outputs": [
    {
     "name": "stdout",
     "output_type": "stream",
     "text": [
      "the ascii value of a is 97\n",
      "the ascii value of b is 98\n",
      "the ascii value of c is 99\n",
      "the ascii value of d is 100\n",
      "the ascii value of e is 101\n",
      "the ascii value of f is 102\n",
      "the ascii value of g is 103\n",
      "the ascii value of h is 104\n",
      "the ascii value of i is 105\n",
      "the ascii value of j is 106\n",
      "the ascii value of k is 107\n",
      "the ascii value of l is 108\n",
      "the ascii value of m is 109\n",
      "the ascii value of n is 110\n",
      "the ascii value of o is 111\n",
      "the ascii value of p is 112\n",
      "the ascii value of q is 113\n",
      "the ascii value of r is 114\n",
      "the ascii value of s is 115\n",
      "the ascii value of t is 116\n",
      "the ascii value of u is 117\n",
      "the ascii value of v is 118\n",
      "the ascii value of w is 119\n",
      "the ascii value of x is 120\n",
      "the ascii value of y is 121\n",
      "the ascii value of z is 122\n"
     ]
    }
   ],
   "source": [
    "\n",
    "for i in string.ascii_lowercase:\n",
    "    print(\"the ascii value of {} is {}\".format(i,ord(i)))\n"
   ]
  },
  {
   "cell_type": "code",
   "execution_count": 38,
   "id": "8a716683",
   "metadata": {},
   "outputs": [
    {
     "name": "stdout",
     "output_type": "stream",
     "text": [
      "1 \u0001\n",
      "2 \u0002\n",
      "3 \u0003\n",
      "4 \u0004\n",
      "5 \u0005\n",
      "6 \u0006\n",
      "7 \u0007\n",
      "8 \b\n",
      "9 \t\n",
      "10 \n",
      "\n",
      "11 \u000b",
      "\n",
      "12 \f",
      "\n",
      "13 \r\n",
      "14 \u000e\n",
      "15 \u000f\n",
      "16 \u0010\n",
      "17 \u0011\n",
      "18 \u0012\n",
      "19 \u0013\n",
      "20 \u0014\n",
      "21 \u0015\n",
      "22 \u0016\n",
      "23 \u0017\n",
      "24 \u0018\n",
      "25 \u0019\n",
      "26 \u001a\n",
      "27 \u001b\n",
      "28 \u001c",
      "\n",
      "29 \u001d",
      "\n",
      "30 \u001e",
      "\n",
      "31 \u001f\n",
      "32  \n",
      "33 !\n",
      "34 \"\n",
      "35 #\n",
      "36 $\n",
      "37 %\n",
      "38 &\n",
      "39 '\n",
      "40 (\n",
      "41 )\n",
      "42 *\n",
      "43 +\n",
      "44 ,\n",
      "45 -\n",
      "46 .\n",
      "47 /\n",
      "48 0\n",
      "49 1\n"
     ]
    }
   ],
   "source": [
    "# what is the starting and ending of ascii numbers?   starts with 33 and ends with 127\n",
    "\n",
    "for i in range(1,50):\n",
    "    print(i,chr(i))"
   ]
  },
  {
   "cell_type": "code",
   "execution_count": 40,
   "id": "deb72a4a",
   "metadata": {
    "scrolled": false
   },
   "outputs": [
    {
     "name": "stdout",
     "output_type": "stream",
     "text": [
      "33 !\n",
      "34 \"\n",
      "35 #\n",
      "36 $\n",
      "37 %\n",
      "38 &\n",
      "39 '\n",
      "40 (\n",
      "41 )\n",
      "42 *\n",
      "43 +\n",
      "44 ,\n",
      "45 -\n",
      "46 .\n",
      "47 /\n",
      "48 0\n",
      "49 1\n",
      "50 2\n",
      "51 3\n",
      "52 4\n",
      "53 5\n",
      "54 6\n",
      "55 7\n",
      "56 8\n",
      "57 9\n",
      "58 :\n",
      "59 ;\n",
      "60 <\n",
      "61 =\n",
      "62 >\n",
      "63 ?\n",
      "64 @\n",
      "65 A\n",
      "66 B\n",
      "67 C\n",
      "68 D\n",
      "69 E\n",
      "70 F\n",
      "71 G\n",
      "72 H\n",
      "73 I\n",
      "74 J\n",
      "75 K\n",
      "76 L\n",
      "77 M\n",
      "78 N\n",
      "79 O\n",
      "80 P\n",
      "81 Q\n",
      "82 R\n",
      "83 S\n",
      "84 T\n",
      "85 U\n",
      "86 V\n",
      "87 W\n",
      "88 X\n",
      "89 Y\n",
      "90 Z\n",
      "91 [\n",
      "92 \\\n",
      "93 ]\n",
      "94 ^\n",
      "95 _\n",
      "96 `\n",
      "97 a\n",
      "98 b\n",
      "99 c\n",
      "100 d\n",
      "101 e\n",
      "102 f\n",
      "103 g\n",
      "104 h\n",
      "105 i\n",
      "106 j\n",
      "107 k\n",
      "108 l\n",
      "109 m\n",
      "110 n\n",
      "111 o\n",
      "112 p\n",
      "113 q\n",
      "114 r\n",
      "115 s\n",
      "116 t\n",
      "117 u\n",
      "118 v\n",
      "119 w\n",
      "120 x\n",
      "121 y\n",
      "122 z\n",
      "123 {\n",
      "124 |\n",
      "125 }\n",
      "126 ~\n"
     ]
    }
   ],
   "source": [
    "for i in range(33,127):\n",
    "    print(i,chr(i))"
   ]
  },
  {
   "cell_type": "code",
   "execution_count": 41,
   "id": "8c84f205",
   "metadata": {},
   "outputs": [
    {
     "data": {
      "text/plain": [
       "'0123456789abcdefghijklmnopqrstuvwxyzABCDEFGHIJKLMNOPQRSTUVWXYZ!\"#$%&\\'()*+,-./:;<=>?@[\\\\]^_`{|}~ \\t\\n\\r\\x0b\\x0c'"
      ]
     },
     "execution_count": 41,
     "metadata": {},
     "output_type": "execute_result"
    }
   ],
   "source": [
    "string.printable"
   ]
  },
  {
   "cell_type": "code",
   "execution_count": null,
   "id": "dc94603f",
   "metadata": {},
   "outputs": [],
   "source": [
    "# wap ask the user find number of a letters in a given string string='hai how are you and how do you do'\n",
    "first iterate the string using in operator and for loop\n",
    "#print each letter i\n",
    "#apply the if condition i=='a'\n",
    "#count=0\n",
    "#count=count+1"
   ]
  },
  {
   "cell_type": "code",
   "execution_count": 45,
   "id": "2ed33e58",
   "metadata": {},
   "outputs": [
    {
     "name": "stdout",
     "output_type": "stream",
     "text": [
      "h\n",
      "a\n",
      "i\n",
      " \n",
      "h\n",
      "o\n",
      "w\n",
      " \n",
      "a\n",
      "r\n",
      "e\n",
      " \n",
      "y\n",
      "o\n",
      "u\n",
      " \n",
      "a\n",
      "n\n",
      "d\n",
      " \n",
      "h\n",
      "o\n",
      "w\n",
      " \n",
      "d\n",
      "o\n",
      " \n",
      "y\n",
      "o\n",
      "u\n",
      " \n",
      "d\n",
      "o\n",
      "3\n"
     ]
    }
   ],
   "source": [
    "count=0\n",
    "string1='hai how are you and how do you do'\n",
    "for i in string1:\n",
    "    print(i)\n",
    "    if i=='a':\n",
    "        count=count+1\n",
    "        \n",
    "print(count)\n",
    "        "
   ]
  },
  {
   "cell_type": "code",
   "execution_count": null,
   "id": "9e02025b",
   "metadata": {},
   "outputs": [],
   "source": [
    "#wap count the numbers of vowels in a givem string string='hai how are you'"
   ]
  },
  {
   "cell_type": "code",
   "execution_count": 51,
   "id": "f0f93731",
   "metadata": {},
   "outputs": [
    {
     "name": "stdout",
     "output_type": "stream",
     "text": [
      "h\n",
      "a\n",
      "i\n",
      " \n",
      "h\n",
      "o\n",
      "w\n",
      " \n",
      "a\n",
      "r\n",
      "e\n",
      " \n",
      "y\n",
      "o\n",
      "u\n",
      "7\n"
     ]
    }
   ],
   "source": [
    "\n",
    "string1='hai how are you'\n",
    "count=0\n",
    "for i in string1:\n",
    "    print(i)\n",
    "    if i in 'aeiou':\n",
    "        count=count+1\n",
    "print(count)\n",
    "        "
   ]
  },
  {
   "cell_type": "code",
   "execution_count": 66,
   "id": "9e5abde0",
   "metadata": {},
   "outputs": [
    {
     "name": "stdout",
     "output_type": "stream",
     "text": [
      "h\n",
      "a\n"
     ]
    },
    {
     "ename": "TypeError",
     "evalue": "can only concatenate str (not \"int\") to str",
     "output_type": "error",
     "traceback": [
      "\u001b[1;31m---------------------------------------------------------------------------\u001b[0m",
      "\u001b[1;31mTypeError\u001b[0m                                 Traceback (most recent call last)",
      "Cell \u001b[1;32mIn[66], line 11\u001b[0m\n\u001b[0;32m      9\u001b[0m     \u001b[38;5;28;01mif\u001b[39;00m i \u001b[38;5;129;01min\u001b[39;00m \u001b[38;5;124m'\u001b[39m\u001b[38;5;124maeiou\u001b[39m\u001b[38;5;124m'\u001b[39m:\n\u001b[0;32m     10\u001b[0m         count\u001b[38;5;241m=\u001b[39mcount\u001b[38;5;241m+\u001b[39m\u001b[38;5;241m1\u001b[39m\n\u001b[1;32m---> 11\u001b[0m         string1\u001b[38;5;241m=\u001b[39mstring1\u001b[38;5;241m+\u001b[39m\u001b[38;5;241m1\u001b[39m\n\u001b[0;32m     12\u001b[0m \u001b[38;5;28mprint\u001b[39m(count)\n",
      "\u001b[1;31mTypeError\u001b[0m: can only concatenate str (not \"int\") to str"
     ]
    }
   ],
   "source": [
    "#wap count the number of unique vowels:\n",
    "\n",
    "\n",
    "str1=' '\n",
    "string1='hai how are you'\n",
    "count=0\n",
    "for i in string1:\n",
    "    print(i)\n",
    "    if i in 'aeiou':\n",
    "        count=count+1\n",
    "        string1=string1+1\n",
    "print(count)\n",
    "        \n",
    "\n",
    "\n"
   ]
  },
  {
   "cell_type": "code",
   "execution_count": null,
   "id": "901cbb44",
   "metadata": {},
   "outputs": [],
   "source": [
    "string1=' '\n",
    "for i in 'python':\n",
    "    string1=string1+i\n",
    "    \n",
    "print(string1)"
   ]
  },
  {
   "cell_type": "markdown",
   "id": "0aae5b88",
   "metadata": {},
   "source": [
    "#concatenation\n",
    "\n",
    "str1='hai'\n",
    "str2='hello'"
   ]
  },
  {
   "cell_type": "code",
   "execution_count": 70,
   "id": "c9a3ac62",
   "metadata": {},
   "outputs": [
    {
     "data": {
      "text/plain": [
       "'haihaihai'"
      ]
     },
     "execution_count": 70,
     "metadata": {},
     "output_type": "execute_result"
    }
   ],
   "source": [
    "3*str1"
   ]
  },
  {
   "cell_type": "markdown",
   "id": "6052e357",
   "metadata": {},
   "source": [
    "$index$"
   ]
  },
  {
   "cell_type": "code",
   "execution_count": 72,
   "id": "0156f935",
   "metadata": {},
   "outputs": [],
   "source": [
    "string1='python'"
   ]
  },
  {
   "cell_type": "code",
   "execution_count": null,
   "id": "f4d2b752",
   "metadata": {},
   "outputs": [],
   "source": [
    "p  y  t  h  o  n\n",
    "0  1  2  3  4  5"
   ]
  },
  {
   "cell_type": "code",
   "execution_count": 75,
   "id": "573eeeaa",
   "metadata": {},
   "outputs": [
    {
     "data": {
      "text/plain": [
       "('p', 'y', 't', 'h', 'o', 'n')"
      ]
     },
     "execution_count": 75,
     "metadata": {},
     "output_type": "execute_result"
    }
   ],
   "source": [
    "string1[0],string1[1],string1[2],string1[3],string1[4],string1[5]"
   ]
  },
  {
   "cell_type": "code",
   "execution_count": 76,
   "id": "6a012d01",
   "metadata": {},
   "outputs": [
    {
     "name": "stdout",
     "output_type": "stream",
     "text": [
      "p\n",
      "y\n",
      "t\n",
      "h\n",
      "o\n"
     ]
    }
   ],
   "source": [
    "for i in range(5):\n",
    "    print(string1[i])\n",
    "    \n",
    "    \n",
    "    \n",
    "#in this loop i will give the indices and string(i) will guive the letters in the range function"
   ]
  },
  {
   "cell_type": "code",
   "execution_count": 80,
   "id": "2c68b5a1",
   "metadata": {},
   "outputs": [
    {
     "name": "stdout",
     "output_type": "stream",
     "text": [
      "p\n",
      "y\n",
      "t\n",
      "h\n",
      "o\n",
      "n\n",
      "0 p\n",
      "1 y\n",
      "2 t\n",
      "3 h\n",
      "4 o\n",
      "5 n\n"
     ]
    }
   ],
   "source": [
    "string1='python'\n",
    "\n",
    "#i want to print letters using in operator\n",
    "#i want to print letters using range operator\n",
    "\n",
    "for i in string1:\n",
    "    print(i)\n",
    "    \n",
    "for i in range(len(string1)):\n",
    "    print(i,string1[i])"
   ]
  },
  {
   "cell_type": "code",
   "execution_count": null,
   "id": "2b945a5b",
   "metadata": {},
   "outputs": [],
   "source": []
  },
  {
   "cell_type": "code",
   "execution_count": null,
   "id": "91f12e57",
   "metadata": {},
   "outputs": [],
   "source": []
  },
  {
   "cell_type": "code",
   "execution_count": null,
   "id": "2b4df041",
   "metadata": {},
   "outputs": [],
   "source": []
  },
  {
   "cell_type": "code",
   "execution_count": null,
   "id": "a78c77ac",
   "metadata": {},
   "outputs": [],
   "source": []
  }
 ],
 "metadata": {
  "kernelspec": {
   "display_name": "Python 3 (ipykernel)",
   "language": "python",
   "name": "python3"
  },
  "language_info": {
   "codemirror_mode": {
    "name": "ipython",
    "version": 3
   },
   "file_extension": ".py",
   "mimetype": "text/x-python",
   "name": "python",
   "nbconvert_exporter": "python",
   "pygments_lexer": "ipython3",
   "version": "3.11.5"
  }
 },
 "nbformat": 4,
 "nbformat_minor": 5
}
