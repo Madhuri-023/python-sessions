{
 "cells": [
  {
   "cell_type": "code",
   "execution_count": 1,
   "id": "baca3898",
   "metadata": {},
   "outputs": [
    {
     "data": {
      "text/plain": [
       "200"
      ]
     },
     "execution_count": 1,
     "metadata": {},
     "output_type": "execute_result"
    }
   ],
   "source": [
    "number1=100\n",
    "number2=200\n",
    "number1  #100 is not coming\n",
    "number2   #200 is latest value"
   ]
  },
  {
   "cell_type": "code",
   "execution_count": 2,
   "id": "e65d9503",
   "metadata": {},
   "outputs": [
    {
     "name": "stdout",
     "output_type": "stream",
     "text": [
      "100\n",
      "200\n"
     ]
    }
   ],
   "source": [
    "number1=100   #100 is saved in var num1\n",
    "number2=200   #200 is saved in var num2\n",
    "print(number1) #printing the value of num1=100\n",
    "print(number2)  #printing the value of num2=200"
   ]
  },
  {
   "cell_type": "code",
   "execution_count": 5,
   "id": "440aee7e",
   "metadata": {},
   "outputs": [
    {
     "name": "stdout",
     "output_type": "stream",
     "text": [
      "hello\n",
      "how\n",
      "are\n",
      "you\n"
     ]
    },
    {
     "ename": "NameError",
     "evalue": "name 'hello' is not defined",
     "output_type": "error",
     "traceback": [
      "\u001b[1;31m---------------------------------------------------------------------------\u001b[0m",
      "\u001b[1;31mNameError\u001b[0m                                 Traceback (most recent call last)",
      "Cell \u001b[1;32mIn[5], line 5\u001b[0m\n\u001b[0;32m      3\u001b[0m \u001b[38;5;28mprint\u001b[39m(\u001b[38;5;124m'\u001b[39m\u001b[38;5;124mare\u001b[39m\u001b[38;5;124m'\u001b[39m)\n\u001b[0;32m      4\u001b[0m \u001b[38;5;28mprint\u001b[39m(\u001b[38;5;124m'\u001b[39m\u001b[38;5;124myou\u001b[39m\u001b[38;5;124m'\u001b[39m)\n\u001b[1;32m----> 5\u001b[0m \u001b[38;5;28mprint\u001b[39m(hello)\n",
      "\u001b[1;31mNameError\u001b[0m: name 'hello' is not defined"
     ]
    }
   ],
   "source": [
    "print('hello')\n",
    "print('how')\n",
    "print('are')\n",
    "print('you')\n",
    "print(hello) #error occured because hello is variable ,is hello initialised above or not\n",
    "\n",
    "\n",
    "#python is a step by step process\n",
    "#name error: name hello not defined"
   ]
  },
  {
   "cell_type": "code",
   "execution_count": null,
   "id": "bf5bb7e7",
   "metadata": {},
   "outputs": [],
   "source": [
    "if we got error like value1 is not defined it means the value1 is not there"
   ]
  },
  {
   "cell_type": "code",
   "execution_count": 6,
   "id": "95393763",
   "metadata": {},
   "outputs": [
    {
     "name": "stdout",
     "output_type": "stream",
     "text": [
      "100 200\n"
     ]
    }
   ],
   "source": [
    "print(number1,number2)  #100,200"
   ]
  },
  {
   "cell_type": "code",
   "execution_count": 9,
   "id": "42de53ab",
   "metadata": {},
   "outputs": [
    {
     "name": "stdout",
     "output_type": "stream",
     "text": [
      "100\n",
      "---------\n",
      "200\n",
      "**********\n"
     ]
    }
   ],
   "source": [
    "print(number1)\n",
    "print('---------')\n",
    "print(200)\n",
    "print('**********')"
   ]
  },
  {
   "cell_type": "code",
   "execution_count": 10,
   "id": "8c3da2a7",
   "metadata": {},
   "outputs": [
    {
     "name": "stdout",
     "output_type": "stream",
     "text": [
      "hai how are you\n",
      "hai how are you\n"
     ]
    }
   ],
   "source": [
    "print('hai','how','are','you')\n",
    "print('hai how are you')"
   ]
  },
  {
   "cell_type": "code",
   "execution_count": 11,
   "id": "1fd19c5a",
   "metadata": {},
   "outputs": [
    {
     "name": "stdout",
     "output_type": "stream",
     "text": [
      "hai\n",
      "how\n"
     ]
    }
   ],
   "source": [
    "print('hai')\n",
    "print('how')"
   ]
  },
  {
   "cell_type": "markdown",
   "id": "975c308a",
   "metadata": {},
   "source": [
    "***joining multiple print statements***"
   ]
  },
  {
   "cell_type": "code",
   "execution_count": 12,
   "id": "626ddb92",
   "metadata": {},
   "outputs": [
    {
     "name": "stdout",
     "output_type": "stream",
     "text": [
      "hai how\n"
     ]
    }
   ],
   "source": [
    "print('hai' , 'how')\n"
   ]
  },
  {
   "cell_type": "code",
   "execution_count": 14,
   "id": "e7151853",
   "metadata": {},
   "outputs": [
    {
     "name": "stdout",
     "output_type": "stream",
     "text": [
      "hai  how\n"
     ]
    }
   ],
   "source": [
    "print('hai',end='  ')   #end operator will help to join two statements\n",
    "print('how')"
   ]
  },
  {
   "cell_type": "code",
   "execution_count": 16,
   "id": "6f91b6f9",
   "metadata": {},
   "outputs": [
    {
     "name": "stdout",
     "output_type": "stream",
     "text": [
      "1 2 3\n"
     ]
    }
   ],
   "source": [
    "print('1',end=\" \")\n",
    "print('2',end=\" \")\n",
    "print('3')"
   ]
  },
  {
   "cell_type": "code",
   "execution_count": null,
   "id": "3e674f9f",
   "metadata": {},
   "outputs": [],
   "source": []
  },
  {
   "cell_type": "code",
   "execution_count": 17,
   "id": "4afe3676",
   "metadata": {},
   "outputs": [
    {
     "name": "stdout",
     "output_type": "stream",
     "text": [
      "the addiction of number1 and number2 is 600\n"
     ]
    }
   ],
   "source": [
    "number1=200\n",
    "number2=400\n",
    "add=number1+number2\n",
    "print(\"the addition of number1 and number2 is 600\")\n",
    "\n",
    "\n",
    "\n",
    "\n",
    "\n",
    "\n",
    "\n"
   ]
  },
  {
   "cell_type": "code",
   "execution_count": 18,
   "id": "45073085",
   "metadata": {},
   "outputs": [
    {
     "name": "stdout",
     "output_type": "stream",
     "text": [
      "the addition of number1 and number2 is  600\n"
     ]
    }
   ],
   "source": [
    "number1=200\n",
    "number2=400\n",
    "add=number1+number2\n",
    "print(\"the addition of number1 and number2 is \",add)\n",
    "\n",
    "\n"
   ]
  },
  {
   "cell_type": "code",
   "execution_count": 24,
   "id": "ca1dcaea",
   "metadata": {},
   "outputs": [
    {
     "name": "stdout",
     "output_type": "stream",
     "text": [
      "the addition of 20 and 40 is 60\n"
     ]
    }
   ],
   "source": [
    "# the addition of 20 and 40 is 60\n",
    "\n",
    "num1=20\n",
    "num2=40\n",
    "add=num1+num2\n",
    "print(\"the addition of\",num1,\"and\",num2,\"is\",add)\n"
   ]
  },
  {
   "cell_type": "code",
   "execution_count": null,
   "id": "ef4ac641",
   "metadata": {},
   "outputs": [],
   "source": [
    "#srep-1: take a variable name='python'\n",
    "#step-2:take another variable city='hyd'\n",
    "#step-3: age=10\n",
    "#my name is python ,i came from hyd and i am 10 years old"
   ]
  },
  {
   "cell_type": "code",
   "execution_count": 25,
   "id": "cae90e23",
   "metadata": {},
   "outputs": [
    {
     "name": "stdout",
     "output_type": "stream",
     "text": [
      "my name is python Iam from hyderabad and iam 10 old\n"
     ]
    }
   ],
   "source": [
    "name='python'\n",
    "city='hyderabad'\n",
    "age=10\n",
    "print(\"my name is\",name,'Iam from',city,'and iam',age,'old')\n"
   ]
  },
  {
   "cell_type": "code",
   "execution_count": null,
   "id": "bad2920b",
   "metadata": {},
   "outputs": [],
   "source": [
    "#'the additon of 200 and 600'-output\n",
    "#the addition of {} and {} is {}"
   ]
  },
  {
   "cell_type": "code",
   "execution_count": 27,
   "id": "f58fedf3",
   "metadata": {},
   "outputs": [
    {
     "name": "stdout",
     "output_type": "stream",
     "text": [
      "the addition of {} and{} is {}.format(num1,num2,add)\n"
     ]
    }
   ],
   "source": [
    "num1=200\n",
    "num2=400\n",
    "add=num1+num2\n",
    "print(\"the addition of {} and{} is {}.format(num1,num2,add)\")"
   ]
  },
  {
   "cell_type": "code",
   "execution_count": 30,
   "id": "68d6fddd",
   "metadata": {},
   "outputs": [
    {
     "name": "stdout",
     "output_type": "stream",
     "text": [
      "my name is python,i am from hyderabad and my age is 10 years old\n"
     ]
    }
   ],
   "source": [
    "name='python'\n",
    "city='hyderabad'\n",
    "age=10\n",
    "print('my name is {},i am from {} and my age is {} years old'.format(name,city,age))"
   ]
  },
  {
   "cell_type": "code",
   "execution_count": null,
   "id": "38926614",
   "metadata": {},
   "outputs": [],
   "source": [
    "#value1=20\n",
    "#value2=30\n",
    "add=value1+value2\n",
    "sub=value1-value2\n",
    "mul=value1*value2\n",
    "div=value1/value2\n",
    "print('the addition of 20 and 30 is:50)\n",
    "print(the subtraction 20 and 30 is:-10)\n",
    "print(the multiplication of 20 and 30 is 600)\n",
    "the division of 20 and 30 is:600)\n"
   ]
  },
  {
   "cell_type": "code",
   "execution_count": 31,
   "id": "1984b472",
   "metadata": {},
   "outputs": [
    {
     "name": "stdout",
     "output_type": "stream",
     "text": [
      "the addition of{}and{} is{}.format(value1,value2,add)\n"
     ]
    }
   ],
   "source": [
    "print('the addition of{}and{} is{}.format(value1,value2,add)')"
   ]
  },
  {
   "cell_type": "code",
   "execution_count": 41,
   "id": "3fba2939",
   "metadata": {},
   "outputs": [
    {
     "name": "stdout",
     "output_type": "stream",
     "text": [
      "the addition of20and30 is50\n",
      "the subtraction of20and30 is-10\n",
      "the multiplication of20and30 is600\n",
      "the division of20and30 is1\n"
     ]
    }
   ],
   "source": [
    "value1=20\n",
    "value2=30\n",
    "add=value1+value2\n",
    "sub=value1-value2\n",
    "mul=value1*value2\n",
    "div=round(value1/value2)\n",
    "print('the addition of{}and{} is{}'.format(value1,value2,add))\n",
    "print('the subtraction of{}and{} is{}'.format(value1,value2,sub))\n",
    "print('the multiplication of{}and{} is{}'.format(value1,value2,mul))\n",
    "print('the division of{}and{} is{}'.format(value1,value2,div))"
   ]
  },
  {
   "cell_type": "code",
   "execution_count": null,
   "id": "1f12a254",
   "metadata": {},
   "outputs": [],
   "source": [
    "print(5/2) #division\n",
    "print(5//2)  #floor division\n",
    "print(5%2)  #modulus =reminder"
   ]
  },
  {
   "cell_type": "code",
   "execution_count": 42,
   "id": "01ac04f2",
   "metadata": {},
   "outputs": [
    {
     "name": "stdout",
     "output_type": "stream",
     "text": [
      "enter a numberapple\n"
     ]
    },
    {
     "data": {
      "text/plain": [
       "'apple'"
      ]
     },
     "execution_count": 42,
     "metadata": {},
     "output_type": "execute_result"
    }
   ],
   "source": [
    "input('enter a number')\n"
   ]
  },
  {
   "cell_type": "code",
   "execution_count": 44,
   "id": "50602e9a",
   "metadata": {},
   "outputs": [
    {
     "ename": "SyntaxError",
     "evalue": "invalid syntax (1656078874.py, line 1)",
     "output_type": "error",
     "traceback": [
      "\u001b[1;36m  Cell \u001b[1;32mIn[44], line 1\u001b[1;36m\u001b[0m\n\u001b[1;33m    input(what is A for)\u001b[0m\n\u001b[1;37m                       ^\u001b[0m\n\u001b[1;31mSyntaxError\u001b[0m\u001b[1;31m:\u001b[0m invalid syntax\n"
     ]
    }
   ],
   "source": [
    "input(what is A for)"
   ]
  },
  {
   "cell_type": "markdown",
   "id": "79ad3b12",
   "metadata": {},
   "source": [
    "$input keyword$\n",
    "input('what is A for:')\n",
    "input('what is B for:')"
   ]
  },
  {
   "cell_type": "markdown",
   "id": "381c3975",
   "metadata": {},
   "source": []
  },
  {
   "cell_type": "code",
   "execution_count": 48,
   "id": "9c74cb12",
   "metadata": {},
   "outputs": [
    {
     "name": "stdout",
     "output_type": "stream",
     "text": [
      "what is A for:apple\n",
      "what is B for:ball\n"
     ]
    }
   ],
   "source": [
    "name1=input('what is A for:')\n",
    "name2=input('what is B for:')"
   ]
  },
  {
   "cell_type": "code",
   "execution_count": 49,
   "id": "9f743b64",
   "metadata": {},
   "outputs": [
    {
     "name": "stdout",
     "output_type": "stream",
     "text": [
      "apple ball\n"
     ]
    }
   ],
   "source": [
    "print(name1,name2)"
   ]
  },
  {
   "cell_type": "code",
   "execution_count": null,
   "id": "4bc97ba8",
   "metadata": {},
   "outputs": [],
   "source": []
  },
  {
   "cell_type": "code",
   "execution_count": 37,
   "id": "37b7ddd9",
   "metadata": {},
   "outputs": [
    {
     "name": "stdout",
     "output_type": "stream",
     "text": [
      "20\n"
     ]
    },
    {
     "data": {
      "text/plain": [
       "'20'"
      ]
     },
     "execution_count": 37,
     "metadata": {},
     "output_type": "execute_result"
    }
   ],
   "source": [
    "input()"
   ]
  },
  {
   "cell_type": "code",
   "execution_count": null,
   "id": "201af812",
   "metadata": {},
   "outputs": [],
   "source": [
    "#input of () then thebox will come and we need to give some value"
   ]
  },
  {
   "cell_type": "code",
   "execution_count": null,
   "id": "6c627ef2",
   "metadata": {},
   "outputs": [],
   "source": [
    "val1=# ask the user enter value from keyword\n",
    "val2=# ask the user enter value from keyboard\n",
    "add=val1+val2\n",
    "print('the addition of{} and {} is {}'.format(val1,val2,add))"
   ]
  },
  {
   "cell_type": "code",
   "execution_count": 58,
   "id": "cbbd3a9e",
   "metadata": {},
   "outputs": [
    {
     "name": "stdout",
     "output_type": "stream",
     "text": [
      "enter val1:20\n",
      "enter val2:30\n",
      "the addition of 20 and 30 is 2030 \n"
     ]
    }
   ],
   "source": [
    "val1=input('enter val1:')\n",
    "val2=input('enter val2:')\n",
    "add=val1+val2\n",
    "print('the addition of {} and {} is {} '.format(val1,val2,add))"
   ]
  },
  {
   "cell_type": "code",
   "execution_count": 54,
   "id": "d803c610",
   "metadata": {},
   "outputs": [
    {
     "name": "stdout",
     "output_type": "stream",
     "text": [
      "enter val1:20\n",
      "enter val2:30\n",
      "the addition of 20and30 is50\n"
     ]
    }
   ],
   "source": [
    "val1=int(input('enter val1:'))\n",
    "val2=int(input('enter val2:'))\n",
    "add=val1+val2\n",
    "print('the addition of {}and{} is{}'.format(val1,val2,add))"
   ]
  },
  {
   "cell_type": "code",
   "execution_count": 59,
   "id": "667cec65",
   "metadata": {},
   "outputs": [
    {
     "name": "stdout",
     "output_type": "stream",
     "text": [
      "enter val1:20\n",
      "enter val2:30\n",
      "the addition of 20and30 is50\n"
     ]
    }
   ],
   "source": [
    "val1=int(input('enter val1:'))\n",
    "val2=int(input('enter val2:'))\n",
    "add=int(val1)+int(val2)\n",
    "print('the addition of {}and{} is{}'.format(val1,val2,add))"
   ]
  },
  {
   "cell_type": "code",
   "execution_count": 60,
   "id": "146a6393",
   "metadata": {},
   "outputs": [
    {
     "name": "stdout",
     "output_type": "stream",
     "text": [
      "enter a number1:20\n",
      "enter a number2:30\n",
      "50.0\n"
     ]
    }
   ],
   "source": [
    "num1=int(input('enter a number1:'))\n",
    "num2=float(input('enter a number2:'))\n",
    "print(num1+num2)"
   ]
  },
  {
   "cell_type": "code",
   "execution_count": 1,
   "id": "3f5758b4",
   "metadata": {},
   "outputs": [
    {
     "name": "stdout",
     "output_type": "stream",
     "text": [
      "enter a number1:30\n",
      "enter a number2:20.5\n",
      "50.5\n"
     ]
    }
   ],
   "source": [
    "num1=eval(input('enter a number1:'))\n",
    "num2=eval(input('enter a number2:'))\n",
    "print(num1+num2)"
   ]
  },
  {
   "cell_type": "code",
   "execution_count": null,
   "id": "0e6db0ed",
   "metadata": {},
   "outputs": [],
   "source": [
    "v1=input('enter v1:')    #eval is only for numbers\n",
    "v2=input(input(enter v2:'))"
   ]
  }
 ],
 "metadata": {
  "kernelspec": {
   "display_name": "Python 3 (ipykernel)",
   "language": "python",
   "name": "python3"
  },
  "language_info": {
   "codemirror_mode": {
    "name": "ipython",
    "version": 3
   },
   "file_extension": ".py",
   "mimetype": "text/x-python",
   "name": "python",
   "nbconvert_exporter": "python",
   "pygments_lexer": "ipython3",
   "version": "3.11.5"
  }
 },
 "nbformat": 4,
 "nbformat_minor": 5
}
